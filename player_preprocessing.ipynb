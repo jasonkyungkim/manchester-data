{
 "cells": [
  {
   "cell_type": "code",
   "execution_count": 31,
   "id": "5f465809-8f6e-440d-9684-bbc0d3d98099",
   "metadata": {
    "tags": []
   },
   "outputs": [],
   "source": [
    "import pandas as pd\n",
    "import numpy as np\n",
    "import matplotlib.pyplot as plt\n",
    "import matplotlib.image as mpimg\n",
    "%matplotlib inline\n",
    "pd.set_option('display.max_rows', None)\n",
    "import plotly.offline as py\n",
    "import plotly.graph_objects as go\n",
    "import plotly.express as px\n",
    "from IPython.display import HTML,display,display_html\n",
    "\n",
    "from scipy import linalg\n",
    "from sklearn.decomposition import NMF\n",
    "\n",
    "from tqdm import tqdm"
   ]
  },
  {
   "cell_type": "code",
   "execution_count": 2,
   "id": "deceb93e-597d-48c8-8cc7-29bc9d01d32e",
   "metadata": {
    "tags": []
   },
   "outputs": [],
   "source": [
    "import warnings\n",
    "\n",
    "warnings.simplefilter(action=\"ignore\")"
   ]
  },
  {
   "cell_type": "markdown",
   "id": "99155bbc-006d-4428-a7f8-31fc194c12b5",
   "metadata": {
    "tags": []
   },
   "source": [
    "# Player Recommender System"
   ]
  },
  {
   "cell_type": "markdown",
   "id": "e4405c2c-99d7-4fbd-81d8-a823b791ced3",
   "metadata": {
    "tags": []
   },
   "source": [
    "### Load Data / Preprocessing"
   ]
  },
  {
   "cell_type": "code",
   "execution_count": 3,
   "id": "e2f04e71-64af-4eb3-aad6-4f25311a384c",
   "metadata": {
    "tags": []
   },
   "outputs": [],
   "source": [
    "df = pd.read_csv(r'data/players_15.csv')"
   ]
  },
  {
   "cell_type": "code",
   "execution_count": 4,
   "id": "f588a406-956a-41d3-986c-7f829a87ea16",
   "metadata": {
    "tags": []
   },
   "outputs": [
    {
     "data": {
      "text/html": [
       "<div>\n",
       "<style scoped>\n",
       "    .dataframe tbody tr th:only-of-type {\n",
       "        vertical-align: middle;\n",
       "    }\n",
       "\n",
       "    .dataframe tbody tr th {\n",
       "        vertical-align: top;\n",
       "    }\n",
       "\n",
       "    .dataframe thead th {\n",
       "        text-align: right;\n",
       "    }\n",
       "</style>\n",
       "<table border=\"1\" class=\"dataframe\">\n",
       "  <thead>\n",
       "    <tr style=\"text-align: right;\">\n",
       "      <th></th>\n",
       "      <th>sofifa_id</th>\n",
       "      <th>player_url</th>\n",
       "      <th>short_name</th>\n",
       "      <th>long_name</th>\n",
       "      <th>age</th>\n",
       "      <th>dob</th>\n",
       "      <th>height_cm</th>\n",
       "      <th>weight_kg</th>\n",
       "      <th>nationality</th>\n",
       "      <th>club</th>\n",
       "      <th>...</th>\n",
       "      <th>lwb</th>\n",
       "      <th>ldm</th>\n",
       "      <th>cdm</th>\n",
       "      <th>rdm</th>\n",
       "      <th>rwb</th>\n",
       "      <th>lb</th>\n",
       "      <th>lcb</th>\n",
       "      <th>cb</th>\n",
       "      <th>rcb</th>\n",
       "      <th>rb</th>\n",
       "    </tr>\n",
       "  </thead>\n",
       "  <tbody>\n",
       "    <tr>\n",
       "      <th>0</th>\n",
       "      <td>158023</td>\n",
       "      <td>https://sofifa.com/player/158023/lionel-messi/...</td>\n",
       "      <td>L. Messi</td>\n",
       "      <td>Lionel Andrés Messi Cuccittini</td>\n",
       "      <td>27</td>\n",
       "      <td>1987-06-24</td>\n",
       "      <td>169</td>\n",
       "      <td>67</td>\n",
       "      <td>Argentina</td>\n",
       "      <td>FC Barcelona</td>\n",
       "      <td>...</td>\n",
       "      <td>62+3</td>\n",
       "      <td>62+3</td>\n",
       "      <td>62+3</td>\n",
       "      <td>62+3</td>\n",
       "      <td>62+3</td>\n",
       "      <td>54+3</td>\n",
       "      <td>45+3</td>\n",
       "      <td>45+3</td>\n",
       "      <td>45+3</td>\n",
       "      <td>54+3</td>\n",
       "    </tr>\n",
       "    <tr>\n",
       "      <th>1</th>\n",
       "      <td>20801</td>\n",
       "      <td>https://sofifa.com/player/20801/c-ronaldo-dos-...</td>\n",
       "      <td>Cristiano Ronaldo</td>\n",
       "      <td>Cristiano Ronaldo dos Santos Aveiro</td>\n",
       "      <td>29</td>\n",
       "      <td>1985-02-05</td>\n",
       "      <td>185</td>\n",
       "      <td>80</td>\n",
       "      <td>Portugal</td>\n",
       "      <td>Real Madrid</td>\n",
       "      <td>...</td>\n",
       "      <td>63+3</td>\n",
       "      <td>63+3</td>\n",
       "      <td>63+3</td>\n",
       "      <td>63+3</td>\n",
       "      <td>63+3</td>\n",
       "      <td>57+3</td>\n",
       "      <td>52+3</td>\n",
       "      <td>52+3</td>\n",
       "      <td>52+3</td>\n",
       "      <td>57+3</td>\n",
       "    </tr>\n",
       "    <tr>\n",
       "      <th>2</th>\n",
       "      <td>9014</td>\n",
       "      <td>https://sofifa.com/player/9014/arjen-robben/15...</td>\n",
       "      <td>A. Robben</td>\n",
       "      <td>Arjen Robben</td>\n",
       "      <td>30</td>\n",
       "      <td>1984-01-23</td>\n",
       "      <td>180</td>\n",
       "      <td>80</td>\n",
       "      <td>Netherlands</td>\n",
       "      <td>FC Bayern München</td>\n",
       "      <td>...</td>\n",
       "      <td>64+3</td>\n",
       "      <td>64+3</td>\n",
       "      <td>64+3</td>\n",
       "      <td>64+3</td>\n",
       "      <td>64+3</td>\n",
       "      <td>55+3</td>\n",
       "      <td>46+3</td>\n",
       "      <td>46+3</td>\n",
       "      <td>46+3</td>\n",
       "      <td>55+3</td>\n",
       "    </tr>\n",
       "    <tr>\n",
       "      <th>3</th>\n",
       "      <td>41236</td>\n",
       "      <td>https://sofifa.com/player/41236/zlatan-ibrahim...</td>\n",
       "      <td>Z. Ibrahimović</td>\n",
       "      <td>Zlatan Ibrahimović</td>\n",
       "      <td>32</td>\n",
       "      <td>1981-10-03</td>\n",
       "      <td>195</td>\n",
       "      <td>95</td>\n",
       "      <td>Sweden</td>\n",
       "      <td>Paris Saint-Germain</td>\n",
       "      <td>...</td>\n",
       "      <td>61+3</td>\n",
       "      <td>65+3</td>\n",
       "      <td>65+3</td>\n",
       "      <td>65+3</td>\n",
       "      <td>61+3</td>\n",
       "      <td>56+3</td>\n",
       "      <td>55+3</td>\n",
       "      <td>55+3</td>\n",
       "      <td>55+3</td>\n",
       "      <td>56+3</td>\n",
       "    </tr>\n",
       "    <tr>\n",
       "      <th>4</th>\n",
       "      <td>167495</td>\n",
       "      <td>https://sofifa.com/player/167495/manuel-neuer/...</td>\n",
       "      <td>M. Neuer</td>\n",
       "      <td>Manuel Neuer</td>\n",
       "      <td>28</td>\n",
       "      <td>1986-03-27</td>\n",
       "      <td>193</td>\n",
       "      <td>92</td>\n",
       "      <td>Germany</td>\n",
       "      <td>FC Bayern München</td>\n",
       "      <td>...</td>\n",
       "      <td>NaN</td>\n",
       "      <td>NaN</td>\n",
       "      <td>NaN</td>\n",
       "      <td>NaN</td>\n",
       "      <td>NaN</td>\n",
       "      <td>NaN</td>\n",
       "      <td>NaN</td>\n",
       "      <td>NaN</td>\n",
       "      <td>NaN</td>\n",
       "      <td>NaN</td>\n",
       "    </tr>\n",
       "  </tbody>\n",
       "</table>\n",
       "<p>5 rows × 104 columns</p>\n",
       "</div>"
      ],
      "text/plain": [
       "   sofifa_id                                         player_url  \\\n",
       "0     158023  https://sofifa.com/player/158023/lionel-messi/...   \n",
       "1      20801  https://sofifa.com/player/20801/c-ronaldo-dos-...   \n",
       "2       9014  https://sofifa.com/player/9014/arjen-robben/15...   \n",
       "3      41236  https://sofifa.com/player/41236/zlatan-ibrahim...   \n",
       "4     167495  https://sofifa.com/player/167495/manuel-neuer/...   \n",
       "\n",
       "          short_name                            long_name  age         dob  \\\n",
       "0           L. Messi       Lionel Andrés Messi Cuccittini   27  1987-06-24   \n",
       "1  Cristiano Ronaldo  Cristiano Ronaldo dos Santos Aveiro   29  1985-02-05   \n",
       "2          A. Robben                         Arjen Robben   30  1984-01-23   \n",
       "3     Z. Ibrahimović                   Zlatan Ibrahimović   32  1981-10-03   \n",
       "4           M. Neuer                         Manuel Neuer   28  1986-03-27   \n",
       "\n",
       "   height_cm  weight_kg  nationality                 club  ...   lwb   ldm  \\\n",
       "0        169         67    Argentina         FC Barcelona  ...  62+3  62+3   \n",
       "1        185         80     Portugal          Real Madrid  ...  63+3  63+3   \n",
       "2        180         80  Netherlands    FC Bayern München  ...  64+3  64+3   \n",
       "3        195         95       Sweden  Paris Saint-Germain  ...  61+3  65+3   \n",
       "4        193         92      Germany    FC Bayern München  ...   NaN   NaN   \n",
       "\n",
       "    cdm   rdm   rwb    lb   lcb    cb   rcb    rb  \n",
       "0  62+3  62+3  62+3  54+3  45+3  45+3  45+3  54+3  \n",
       "1  63+3  63+3  63+3  57+3  52+3  52+3  52+3  57+3  \n",
       "2  64+3  64+3  64+3  55+3  46+3  46+3  46+3  55+3  \n",
       "3  65+3  65+3  61+3  56+3  55+3  55+3  55+3  56+3  \n",
       "4   NaN   NaN   NaN   NaN   NaN   NaN   NaN   NaN  \n",
       "\n",
       "[5 rows x 104 columns]"
      ]
     },
     "execution_count": 4,
     "metadata": {},
     "output_type": "execute_result"
    }
   ],
   "source": [
    "df.head()"
   ]
  },
  {
   "cell_type": "code",
   "execution_count": 5,
   "id": "12bc248d-e425-45ab-86cc-1766065176b9",
   "metadata": {
    "tags": []
   },
   "outputs": [
    {
     "data": {
      "text/html": [
       "<div>\n",
       "<style scoped>\n",
       "    .dataframe tbody tr th:only-of-type {\n",
       "        vertical-align: middle;\n",
       "    }\n",
       "\n",
       "    .dataframe tbody tr th {\n",
       "        vertical-align: top;\n",
       "    }\n",
       "\n",
       "    .dataframe thead th {\n",
       "        text-align: right;\n",
       "    }\n",
       "</style>\n",
       "<table border=\"1\" class=\"dataframe\">\n",
       "  <thead>\n",
       "    <tr style=\"text-align: right;\">\n",
       "      <th></th>\n",
       "      <th>height_cm</th>\n",
       "      <th>weight_kg</th>\n",
       "      <th>weak_foot</th>\n",
       "      <th>skill_moves</th>\n",
       "      <th>work_rate</th>\n",
       "      <th>body_type</th>\n",
       "      <th>pace</th>\n",
       "      <th>shooting</th>\n",
       "      <th>passing</th>\n",
       "      <th>dribbling</th>\n",
       "      <th>...</th>\n",
       "      <th>attacking_volleys</th>\n",
       "      <th>skill_dribbling</th>\n",
       "      <th>skill_curve</th>\n",
       "      <th>skill_fk_accuracy</th>\n",
       "      <th>skill_long_passing</th>\n",
       "      <th>skill_ball_control</th>\n",
       "      <th>movement_acceleration</th>\n",
       "      <th>movement_sprint_speed</th>\n",
       "      <th>movement_agility</th>\n",
       "      <th>movement_balance</th>\n",
       "    </tr>\n",
       "  </thead>\n",
       "  <tbody>\n",
       "    <tr>\n",
       "      <th>0</th>\n",
       "      <td>169</td>\n",
       "      <td>67</td>\n",
       "      <td>3</td>\n",
       "      <td>4</td>\n",
       "      <td>Medium/Low</td>\n",
       "      <td>Normal</td>\n",
       "      <td>93.0</td>\n",
       "      <td>89.0</td>\n",
       "      <td>86.0</td>\n",
       "      <td>96.0</td>\n",
       "      <td>...</td>\n",
       "      <td>85-5</td>\n",
       "      <td>96-1</td>\n",
       "      <td>89+2</td>\n",
       "      <td>90+4</td>\n",
       "      <td>76</td>\n",
       "      <td>96</td>\n",
       "      <td>96</td>\n",
       "      <td>90+2</td>\n",
       "      <td>94</td>\n",
       "      <td>95</td>\n",
       "    </tr>\n",
       "    <tr>\n",
       "      <th>1</th>\n",
       "      <td>185</td>\n",
       "      <td>80</td>\n",
       "      <td>4</td>\n",
       "      <td>5</td>\n",
       "      <td>High/Low</td>\n",
       "      <td>Normal</td>\n",
       "      <td>93.0</td>\n",
       "      <td>93.0</td>\n",
       "      <td>81.0</td>\n",
       "      <td>91.0</td>\n",
       "      <td>...</td>\n",
       "      <td>87+2</td>\n",
       "      <td>93+3</td>\n",
       "      <td>88</td>\n",
       "      <td>79</td>\n",
       "      <td>72</td>\n",
       "      <td>92-3</td>\n",
       "      <td>91</td>\n",
       "      <td>94</td>\n",
       "      <td>93</td>\n",
       "      <td>63-12</td>\n",
       "    </tr>\n",
       "    <tr>\n",
       "      <th>2</th>\n",
       "      <td>180</td>\n",
       "      <td>80</td>\n",
       "      <td>2</td>\n",
       "      <td>4</td>\n",
       "      <td>High/Low</td>\n",
       "      <td>Normal</td>\n",
       "      <td>93.0</td>\n",
       "      <td>86.0</td>\n",
       "      <td>83.0</td>\n",
       "      <td>92.0</td>\n",
       "      <td>...</td>\n",
       "      <td>86+2</td>\n",
       "      <td>93</td>\n",
       "      <td>85</td>\n",
       "      <td>83-1</td>\n",
       "      <td>76+3</td>\n",
       "      <td>90+1</td>\n",
       "      <td>93</td>\n",
       "      <td>93+2</td>\n",
       "      <td>93+1</td>\n",
       "      <td>91</td>\n",
       "    </tr>\n",
       "    <tr>\n",
       "      <th>3</th>\n",
       "      <td>195</td>\n",
       "      <td>95</td>\n",
       "      <td>4</td>\n",
       "      <td>4</td>\n",
       "      <td>Medium/Low</td>\n",
       "      <td>Normal</td>\n",
       "      <td>76.0</td>\n",
       "      <td>91.0</td>\n",
       "      <td>81.0</td>\n",
       "      <td>86.0</td>\n",
       "      <td>...</td>\n",
       "      <td>92+3</td>\n",
       "      <td>88</td>\n",
       "      <td>80</td>\n",
       "      <td>80</td>\n",
       "      <td>76+4</td>\n",
       "      <td>90</td>\n",
       "      <td>74+2</td>\n",
       "      <td>77-1</td>\n",
       "      <td>86</td>\n",
       "      <td>41</td>\n",
       "    </tr>\n",
       "    <tr>\n",
       "      <th>4</th>\n",
       "      <td>193</td>\n",
       "      <td>92</td>\n",
       "      <td>4</td>\n",
       "      <td>1</td>\n",
       "      <td>Medium/Medium</td>\n",
       "      <td>Normal</td>\n",
       "      <td>NaN</td>\n",
       "      <td>NaN</td>\n",
       "      <td>NaN</td>\n",
       "      <td>NaN</td>\n",
       "      <td>...</td>\n",
       "      <td>25</td>\n",
       "      <td>25</td>\n",
       "      <td>25</td>\n",
       "      <td>25</td>\n",
       "      <td>41</td>\n",
       "      <td>31</td>\n",
       "      <td>58+8</td>\n",
       "      <td>61+7</td>\n",
       "      <td>43+4</td>\n",
       "      <td>35</td>\n",
       "    </tr>\n",
       "  </tbody>\n",
       "</table>\n",
       "<p>5 rows × 26 columns</p>\n",
       "</div>"
      ],
      "text/plain": [
       "   height_cm  weight_kg  weak_foot  skill_moves      work_rate body_type  \\\n",
       "0        169         67          3            4     Medium/Low    Normal   \n",
       "1        185         80          4            5       High/Low    Normal   \n",
       "2        180         80          2            4       High/Low    Normal   \n",
       "3        195         95          4            4     Medium/Low    Normal   \n",
       "4        193         92          4            1  Medium/Medium    Normal   \n",
       "\n",
       "   pace  shooting  passing  dribbling  ...  attacking_volleys  \\\n",
       "0  93.0      89.0     86.0       96.0  ...               85-5   \n",
       "1  93.0      93.0     81.0       91.0  ...               87+2   \n",
       "2  93.0      86.0     83.0       92.0  ...               86+2   \n",
       "3  76.0      91.0     81.0       86.0  ...               92+3   \n",
       "4   NaN       NaN      NaN        NaN  ...                 25   \n",
       "\n",
       "   skill_dribbling skill_curve skill_fk_accuracy skill_long_passing  \\\n",
       "0             96-1        89+2              90+4                 76   \n",
       "1             93+3          88                79                 72   \n",
       "2               93          85              83-1               76+3   \n",
       "3               88          80                80               76+4   \n",
       "4               25          25                25                 41   \n",
       "\n",
       "  skill_ball_control movement_acceleration movement_sprint_speed  \\\n",
       "0                 96                    96                  90+2   \n",
       "1               92-3                    91                    94   \n",
       "2               90+1                    93                  93+2   \n",
       "3                 90                  74+2                  77-1   \n",
       "4                 31                  58+8                  61+7   \n",
       "\n",
       "  movement_agility movement_balance  \n",
       "0               94               95  \n",
       "1               93            63-12  \n",
       "2             93+1               91  \n",
       "3               86               41  \n",
       "4             43+4               35  \n",
       "\n",
       "[5 rows x 26 columns]"
      ]
     },
     "execution_count": 5,
     "metadata": {},
     "output_type": "execute_result"
    }
   ],
   "source": [
    "df_reduced = df[['height_cm','weight_kg','weak_foot','skill_moves','work_rate','body_type','pace','shooting','passing','dribbling','defending','physic','attacking_crossing','attacking_finishing','attacking_heading_accuracy','attacking_short_passing','attacking_volleys','skill_dribbling','skill_curve','skill_fk_accuracy','skill_long_passing','skill_ball_control','movement_acceleration','movement_sprint_speed','movement_agility','movement_balance']]\n",
    "df_reduced.head()"
   ]
  },
  {
   "cell_type": "markdown",
   "id": "1fd247e3-7921-4cda-9bfc-c8fcc4a1ce4e",
   "metadata": {},
   "source": [
    "### Ordinal Encoding for the work_rate variable"
   ]
  },
  {
   "cell_type": "code",
   "execution_count": 6,
   "id": "d0520d2a-b1cf-4a00-ba7d-04ec4693c828",
   "metadata": {
    "tags": []
   },
   "outputs": [
    {
     "data": {
      "text/plain": [
       "array(['Medium/Low', 'High/Low', 'Medium/Medium', 'High/Medium',\n",
       "       'High/High', 'Medium/High', 'Low/Medium', 'Low/High', 'Low/Low'],\n",
       "      dtype=object)"
      ]
     },
     "execution_count": 6,
     "metadata": {},
     "output_type": "execute_result"
    }
   ],
   "source": [
    "df_reduced['work_rate'].unique()"
   ]
  },
  {
   "cell_type": "code",
   "execution_count": 7,
   "id": "d5208ee5-73ce-4236-a25d-533dcef49ea4",
   "metadata": {
    "tags": []
   },
   "outputs": [],
   "source": [
    "# Define the unique values and their corresponding numbers\n",
    "value_to_number = {'Low/Low': 0, 'Low/Medium': 1, 'Low/High': 2,\n",
    "                   'Medium/Low': 3, 'Medium/Medium': 4, 'Medium/High': 5,\n",
    "                   'High/Low': 6, 'High/Medium': 7, 'High/High': 8}\n",
    "\n",
    "# Encode the original array into numbers\n",
    "c = df_reduced['work_rate']\n",
    "df_reduced['work_rate'] = [value_to_number[wr] for wr in c]\n"
   ]
  },
  {
   "cell_type": "markdown",
   "id": "5496746f-85ec-412a-9e1f-6726725156b8",
   "metadata": {
    "tags": []
   },
   "source": [
    "### Convert important string data into numbers\n",
    "\n",
    "#### Instead of vague and broad descriptions such as 'Normal', ' Lean', and 'Stocky', replace these string values with BMI (weight/height^2)"
   ]
  },
  {
   "cell_type": "code",
   "execution_count": 8,
   "id": "5b3d70d9-84b1-4286-9214-8335b31d2529",
   "metadata": {},
   "outputs": [
    {
     "data": {
      "text/plain": [
       "array(['Normal', 'Lean', 'Stocky'], dtype=object)"
      ]
     },
     "execution_count": 8,
     "metadata": {},
     "output_type": "execute_result"
    }
   ],
   "source": [
    "df_reduced['body_type'].unique()"
   ]
  },
  {
   "cell_type": "code",
   "execution_count": 9,
   "id": "2d6473cf-e00c-487a-bdde-67ad1109ba30",
   "metadata": {
    "tags": []
   },
   "outputs": [],
   "source": [
    "df_reduced['body_type'] = df_reduced['weight_kg']/(df_reduced['height_cm']/100)**2"
   ]
  },
  {
   "cell_type": "code",
   "execution_count": 10,
   "id": "446d7f6e-3f9d-48e6-a53b-32678e97f62a",
   "metadata": {
    "tags": []
   },
   "outputs": [],
   "source": [
    "for column in df_reduced.columns:\n",
    "    c = df_reduced[column]\n",
    "    for i, value in enumerate(c):\n",
    "        if isinstance(value,str) and ('-' in value or '+' in value):\n",
    "            df_reduced[column] = eval(value)"
   ]
  },
  {
   "cell_type": "code",
   "execution_count": 11,
   "id": "1876e100-14f0-4456-818a-17acaf65dd5c",
   "metadata": {
    "tags": []
   },
   "outputs": [
    {
     "data": {
      "text/html": [
       "<div>\n",
       "<style scoped>\n",
       "    .dataframe tbody tr th:only-of-type {\n",
       "        vertical-align: middle;\n",
       "    }\n",
       "\n",
       "    .dataframe tbody tr th {\n",
       "        vertical-align: top;\n",
       "    }\n",
       "\n",
       "    .dataframe thead th {\n",
       "        text-align: right;\n",
       "    }\n",
       "</style>\n",
       "<table border=\"1\" class=\"dataframe\">\n",
       "  <thead>\n",
       "    <tr style=\"text-align: right;\">\n",
       "      <th></th>\n",
       "      <th>height_cm</th>\n",
       "      <th>weight_kg</th>\n",
       "      <th>weak_foot</th>\n",
       "      <th>skill_moves</th>\n",
       "      <th>work_rate</th>\n",
       "      <th>body_type</th>\n",
       "      <th>pace</th>\n",
       "      <th>shooting</th>\n",
       "      <th>passing</th>\n",
       "      <th>dribbling</th>\n",
       "      <th>...</th>\n",
       "      <th>attacking_volleys</th>\n",
       "      <th>skill_dribbling</th>\n",
       "      <th>skill_curve</th>\n",
       "      <th>skill_fk_accuracy</th>\n",
       "      <th>skill_long_passing</th>\n",
       "      <th>skill_ball_control</th>\n",
       "      <th>movement_acceleration</th>\n",
       "      <th>movement_sprint_speed</th>\n",
       "      <th>movement_agility</th>\n",
       "      <th>movement_balance</th>\n",
       "    </tr>\n",
       "  </thead>\n",
       "  <tbody>\n",
       "    <tr>\n",
       "      <th>0</th>\n",
       "      <td>169</td>\n",
       "      <td>67</td>\n",
       "      <td>3</td>\n",
       "      <td>4</td>\n",
       "      <td>3</td>\n",
       "      <td>23.458562</td>\n",
       "      <td>93.0</td>\n",
       "      <td>89.0</td>\n",
       "      <td>86.0</td>\n",
       "      <td>96.0</td>\n",
       "      <td>...</td>\n",
       "      <td>41</td>\n",
       "      <td>61</td>\n",
       "      <td>30</td>\n",
       "      <td>77</td>\n",
       "      <td>23</td>\n",
       "      <td>21</td>\n",
       "      <td>38</td>\n",
       "      <td>34</td>\n",
       "      <td>53</td>\n",
       "      <td>89</td>\n",
       "    </tr>\n",
       "    <tr>\n",
       "      <th>1</th>\n",
       "      <td>185</td>\n",
       "      <td>80</td>\n",
       "      <td>4</td>\n",
       "      <td>5</td>\n",
       "      <td>6</td>\n",
       "      <td>23.374726</td>\n",
       "      <td>93.0</td>\n",
       "      <td>93.0</td>\n",
       "      <td>81.0</td>\n",
       "      <td>91.0</td>\n",
       "      <td>...</td>\n",
       "      <td>41</td>\n",
       "      <td>61</td>\n",
       "      <td>30</td>\n",
       "      <td>77</td>\n",
       "      <td>23</td>\n",
       "      <td>21</td>\n",
       "      <td>38</td>\n",
       "      <td>34</td>\n",
       "      <td>53</td>\n",
       "      <td>89</td>\n",
       "    </tr>\n",
       "    <tr>\n",
       "      <th>2</th>\n",
       "      <td>180</td>\n",
       "      <td>80</td>\n",
       "      <td>2</td>\n",
       "      <td>4</td>\n",
       "      <td>6</td>\n",
       "      <td>24.691358</td>\n",
       "      <td>93.0</td>\n",
       "      <td>86.0</td>\n",
       "      <td>83.0</td>\n",
       "      <td>92.0</td>\n",
       "      <td>...</td>\n",
       "      <td>41</td>\n",
       "      <td>61</td>\n",
       "      <td>30</td>\n",
       "      <td>77</td>\n",
       "      <td>23</td>\n",
       "      <td>21</td>\n",
       "      <td>38</td>\n",
       "      <td>34</td>\n",
       "      <td>53</td>\n",
       "      <td>89</td>\n",
       "    </tr>\n",
       "    <tr>\n",
       "      <th>3</th>\n",
       "      <td>195</td>\n",
       "      <td>95</td>\n",
       "      <td>4</td>\n",
       "      <td>4</td>\n",
       "      <td>3</td>\n",
       "      <td>24.983563</td>\n",
       "      <td>76.0</td>\n",
       "      <td>91.0</td>\n",
       "      <td>81.0</td>\n",
       "      <td>86.0</td>\n",
       "      <td>...</td>\n",
       "      <td>41</td>\n",
       "      <td>61</td>\n",
       "      <td>30</td>\n",
       "      <td>77</td>\n",
       "      <td>23</td>\n",
       "      <td>21</td>\n",
       "      <td>38</td>\n",
       "      <td>34</td>\n",
       "      <td>53</td>\n",
       "      <td>89</td>\n",
       "    </tr>\n",
       "    <tr>\n",
       "      <th>4</th>\n",
       "      <td>193</td>\n",
       "      <td>92</td>\n",
       "      <td>4</td>\n",
       "      <td>1</td>\n",
       "      <td>4</td>\n",
       "      <td>24.698650</td>\n",
       "      <td>NaN</td>\n",
       "      <td>NaN</td>\n",
       "      <td>NaN</td>\n",
       "      <td>NaN</td>\n",
       "      <td>...</td>\n",
       "      <td>41</td>\n",
       "      <td>61</td>\n",
       "      <td>30</td>\n",
       "      <td>77</td>\n",
       "      <td>23</td>\n",
       "      <td>21</td>\n",
       "      <td>38</td>\n",
       "      <td>34</td>\n",
       "      <td>53</td>\n",
       "      <td>89</td>\n",
       "    </tr>\n",
       "  </tbody>\n",
       "</table>\n",
       "<p>5 rows × 26 columns</p>\n",
       "</div>"
      ],
      "text/plain": [
       "   height_cm  weight_kg  weak_foot  skill_moves  work_rate  body_type  pace  \\\n",
       "0        169         67          3            4          3  23.458562  93.0   \n",
       "1        185         80          4            5          6  23.374726  93.0   \n",
       "2        180         80          2            4          6  24.691358  93.0   \n",
       "3        195         95          4            4          3  24.983563  76.0   \n",
       "4        193         92          4            1          4  24.698650   NaN   \n",
       "\n",
       "   shooting  passing  dribbling  ...  attacking_volleys  skill_dribbling  \\\n",
       "0      89.0     86.0       96.0  ...                 41               61   \n",
       "1      93.0     81.0       91.0  ...                 41               61   \n",
       "2      86.0     83.0       92.0  ...                 41               61   \n",
       "3      91.0     81.0       86.0  ...                 41               61   \n",
       "4       NaN      NaN        NaN  ...                 41               61   \n",
       "\n",
       "   skill_curve  skill_fk_accuracy  skill_long_passing  skill_ball_control  \\\n",
       "0           30                 77                  23                  21   \n",
       "1           30                 77                  23                  21   \n",
       "2           30                 77                  23                  21   \n",
       "3           30                 77                  23                  21   \n",
       "4           30                 77                  23                  21   \n",
       "\n",
       "   movement_acceleration  movement_sprint_speed  movement_agility  \\\n",
       "0                     38                     34                53   \n",
       "1                     38                     34                53   \n",
       "2                     38                     34                53   \n",
       "3                     38                     34                53   \n",
       "4                     38                     34                53   \n",
       "\n",
       "   movement_balance  \n",
       "0                89  \n",
       "1                89  \n",
       "2                89  \n",
       "3                89  \n",
       "4                89  \n",
       "\n",
       "[5 rows x 26 columns]"
      ]
     },
     "execution_count": 11,
     "metadata": {},
     "output_type": "execute_result"
    }
   ],
   "source": [
    "df_reduced.head()"
   ]
  },
  {
   "cell_type": "code",
   "execution_count": 12,
   "id": "68d23bfd-a5ab-4dca-8197-fbc31b1ed6d4",
   "metadata": {},
   "outputs": [
    {
     "data": {
      "text/plain": [
       "height_cm                        0\n",
       "weight_kg                        0\n",
       "weak_foot                        0\n",
       "skill_moves                      0\n",
       "work_rate                        0\n",
       "body_type                        0\n",
       "pace                          1703\n",
       "shooting                      1703\n",
       "passing                       1703\n",
       "dribbling                     1703\n",
       "defending                     1703\n",
       "physic                        1703\n",
       "attacking_crossing               0\n",
       "attacking_finishing              0\n",
       "attacking_heading_accuracy       0\n",
       "attacking_short_passing          0\n",
       "attacking_volleys                0\n",
       "skill_dribbling                  0\n",
       "skill_curve                      0\n",
       "skill_fk_accuracy                0\n",
       "skill_long_passing               0\n",
       "skill_ball_control               0\n",
       "movement_acceleration            0\n",
       "movement_sprint_speed            0\n",
       "movement_agility                 0\n",
       "movement_balance                 0\n",
       "dtype: int64"
      ]
     },
     "execution_count": 12,
     "metadata": {},
     "output_type": "execute_result"
    }
   ],
   "source": [
    "df_reduced.isna().sum()"
   ]
  },
  {
   "cell_type": "code",
   "execution_count": 13,
   "id": "d9a68b72-5d03-494e-adca-22da0deff5c8",
   "metadata": {
    "tags": []
   },
   "outputs": [
    {
     "data": {
      "text/plain": [
       "(15465, 26)"
      ]
     },
     "execution_count": 13,
     "metadata": {},
     "output_type": "execute_result"
    }
   ],
   "source": [
    "df_reduced.shape"
   ]
  },
  {
   "cell_type": "code",
   "execution_count": 14,
   "id": "dd452bd8-941a-4ead-bd0e-208f91b1577f",
   "metadata": {
    "tags": []
   },
   "outputs": [],
   "source": [
    "# Get boolean mask of NaN values\n",
    "nan_mask = pd.isna(df_reduced)\n",
    "\n",
    "# Get index of rows with NaN values\n",
    "nan_rows = nan_mask.any(axis=1)\n",
    "nan_rows = nan_rows[nan_rows == True].index\n",
    "\n",
    "# Get index of columns with NaN values\n",
    "nan_cols = [6,7,8,9,10,11]"
   ]
  },
  {
   "cell_type": "code",
   "execution_count": 77,
   "id": "7d88a70e-9695-4104-87a4-5fc90a633592",
   "metadata": {
    "tags": []
   },
   "outputs": [],
   "source": [
    "def initialize(mat):\n",
    "    \"\"\"\n",
    "    Fill in missing values (NAs) with zeros.\n",
    "    \"\"\"\n",
    "    for col in nan_cols:\n",
    "        for row in nan_rows:\n",
    "            mat.iloc[row,col] = np.nanmean(mat[mat.columns[col]])\n",
    "    return mat\n",
    "\n",
    "def maxim_svd(mat, k):\n",
    "    \"\"\"\n",
    "    Iterative algorithm for matrix factorization using SVD.\n",
    "    \"\"\"\n",
    "    u, s, vt = linalg.svd(mat, full_matrices=False)\n",
    "    u_k = u[:, :k]\n",
    "    s_k = np.diag(s[:k])\n",
    "    vt_k = vt[:k, :]\n",
    "    \n",
    "    return np.matmul(np.matmul(u_k,s_k),vt_k)\n",
    "\n",
    "def recommender(mat, maxim, num_steps, k):\n",
    "    \"\"\"\n",
    "    EM algorithm for matrix factorization using SVD.\n",
    "    \"\"\"\n",
    "    mat2 = initialize(mat)\n",
    "    loss = np.zeros(num_steps)\n",
    "    \n",
    "    for j in tqdm(range(num_steps)):\n",
    "        loss_j = 0\n",
    "        if maxim == maxim_nmf:\n",
    "            res,err = maxim(mat2, k)\n",
    "            mat2 = pd.DataFrame(res)\n",
    "            loss[j] = err\n",
    "        else:\n",
    "            res= maxim(mat2, k)\n",
    "            mat2 = pd.DataFrame(res)\n",
    "            for col in nan_cols:\n",
    "                for row in nan_rows:\n",
    "                    loss_j += (mat.iloc[row,col]-mat2.iloc[row,col])**2\n",
    "            loss[j] = loss_j\n",
    "            mat2.iloc[row,col] = mat.iloc[row,col]\n",
    "    \n",
    "    plt.plot(loss)\n",
    "    plt.xlabel('Step')\n",
    "    plt.ylabel('Loss')\n",
    "    plt.show()\n",
    "    \n",
    "    return loss, mat2\n",
    "    \n",
    "    "
   ]
  },
  {
   "cell_type": "code",
   "execution_count": 78,
   "id": "c815e4f4-dddd-4a19-b2b1-d4d6dc2e7fa2",
   "metadata": {
    "tags": []
   },
   "outputs": [
    {
     "name": "stderr",
     "output_type": "stream",
     "text": [
      "100%|████████████████████████████████████████████████████████████████████████████████████████████████| 10/10 [00:05<00:00,  1.88it/s]\n"
     ]
    },
    {
     "data": {
      "image/png": "[encoded data removed]",
      "text/plain": [
       "<Figure size 640x480 with 1 Axes>"
      ]
     },
     "metadata": {},
     "output_type": "display_data"
    }
   ],
   "source": [
    "svd_loss, svd_mat = recommender(df_reduced, maxim = maxim_svd,num_steps=10, k=10)"
   ]
  },
  {
   "cell_type": "code",
   "execution_count": 79,
   "id": "4c7afb01-e3c3-4eee-ac49-c796d9f48909",
   "metadata": {
    "tags": []
   },
   "outputs": [],
   "source": [
    "def maxim_nmf(mat,k):\n",
    "    model = NMF(n_components=k, init='nndsvda', solver = 'mu')\n",
    "    W = model.fit_transform(mat)\n",
    "    H = model.components_\n",
    "    \n",
    "    return np.matmul(W,H), model.reconstruction_err_"
   ]
  },
  {
   "cell_type": "code",
   "execution_count": 85,
   "id": "5ad2a82f-14f7-4566-af8e-203a23993b0f",
   "metadata": {
    "tags": []
   },
   "outputs": [
    {
     "name": "stderr",
     "output_type": "stream",
     "text": [
      "100%|████████████████████████████████████████████████████████████████████████████████████████████| 1000/1000 [10:58<00:00,  1.52it/s]\n"
     ]
    },
    {
     "data": {
      "image/png": "[encoded data removed]",
      "text/plain": [
       "<Figure size 640x480 with 1 Axes>"
      ]
     },
     "metadata": {},
     "output_type": "display_data"
    }
   ],
   "source": [
    "loss_nmf, mat_nmf = recommender(df_reduced, maxim = maxim_nmf,num_steps=1000, k=10)"
   ]
  },
  {
   "cell_type": "code",
   "execution_count": null,
   "id": "78cefe10-ea00-4181-93b3-07008e9ad317",
   "metadata": {},
   "outputs": [],
   "source": []
  }
 ],
 "metadata": {
  "kernelspec": {
   "display_name": "Python 3 (ipykernel)",
   "language": "python",
   "name": "python3"
  },
  "language_info": {
   "codemirror_mode": {
    "name": "ipython",
    "version": 3
   },
   "file_extension": ".py",
   "mimetype": "text/x-python",
   "name": "python",
   "nbconvert_exporter": "python",
   "pygments_lexer": "ipython3",
   "version": "3.10.10"
  }
 },
 "nbformat": 4,
 "nbformat_minor": 5
}
