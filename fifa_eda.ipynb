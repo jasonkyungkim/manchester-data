{
 "cells": [
  {
   "cell_type": "markdown",
   "metadata": {},
   "source": [
    "# Manchester United EDA"
   ]
  },
  {
   "cell_type": "code",
   "execution_count": 1,
   "metadata": {
    "tags": [
     "remove_cell"
    ]
   },
   "outputs": [],
   "source": [
    "import pandas as pd\n",
    "import numpy as np\n",
    "import matplotlib.pyplot as plt\n",
    "import matplotlib.image as mpimg\n",
    "%matplotlib inline\n",
    "pd.set_option('display.max_rows', None)\n",
    "import plotly.offline as py\n",
    "import plotly.graph_objects as go\n",
    "import plotly.express as px\n",
    "from IPython.display import HTML,display,display_html"
   ]
  },
  {
   "cell_type": "code",
   "execution_count": 2,
   "metadata": {
    "slideshow": {
     "slide_type": "slide"
    },
    "tags": [
     "remove_cell"
    ]
   },
   "outputs": [],
   "source": [
    "df = pd.read_csv(r'data/FIFA-21 Complete.csv',sep=';', index_col='player_id')\n",
    "# in the FIFA21 player database, the team names had a space at the end: truncated.\n",
    "df['team'] = df['team'].str.rstrip()"
   ]
  },
  {
   "cell_type": "markdown",
   "metadata": {},
   "source": [
    "### Let's look at the raw FIFA stats first and see how Manchester United compares to other clubs in the world and especially their PL rivals."
   ]
  },
  {
   "cell_type": "markdown",
   "metadata": {},
   "source": [
    "## Intro: Basic comparisons between top European teams"
   ]
  },
  {
   "cell_type": "code",
   "execution_count": 3,
   "metadata": {
    "tags": [
     "remove_cell"
    ]
   },
   "outputs": [
    {
     "data": {
      "text/html": [
       "<style type=\"text/css\">\n",
       "#T_a4db2_row0_col0 {\n",
       "  background-color: #fcfdbf;\n",
       "  color: #000000;\n",
       "}\n",
       "#T_a4db2_row1_col0 {\n",
       "  background-color: #fd9b6b;\n",
       "  color: #000000;\n",
       "}\n",
       "#T_a4db2_row2_col0 {\n",
       "  background-color: #c23b75;\n",
       "  color: #f1f1f1;\n",
       "}\n",
       "#T_a4db2_row3_col0 {\n",
       "  background-color: #ba3878;\n",
       "  color: #f1f1f1;\n",
       "}\n",
       "#T_a4db2_row4_col0 {\n",
       "  background-color: #8e2a81;\n",
       "  color: #f1f1f1;\n",
       "}\n",
       "#T_a4db2_row5_col0 {\n",
       "  background-color: #7c2382;\n",
       "  color: #f1f1f1;\n",
       "}\n",
       "#T_a4db2_row6_col0 {\n",
       "  background-color: #621980;\n",
       "  color: #f1f1f1;\n",
       "}\n",
       "#T_a4db2_row7_col0 {\n",
       "  background-color: #57157e;\n",
       "  color: #f1f1f1;\n",
       "}\n",
       "#T_a4db2_row8_col0 {\n",
       "  background-color: #1a1042;\n",
       "  color: #f1f1f1;\n",
       "}\n",
       "#T_a4db2_row9_col0 {\n",
       "  background-color: #0e0b2b;\n",
       "  color: #f1f1f1;\n",
       "}\n",
       "#T_a4db2_row10_col0 {\n",
       "  background-color: #0b0924;\n",
       "  color: #f1f1f1;\n",
       "}\n",
       "#T_a4db2_row11_col0 {\n",
       "  background-color: #090720;\n",
       "  color: #f1f1f1;\n",
       "}\n",
       "#T_a4db2_row12_col0 {\n",
       "  background-color: #08071e;\n",
       "  color: #f1f1f1;\n",
       "}\n",
       "#T_a4db2_row13_col0, #T_a4db2_row14_col0 {\n",
       "  background-color: #000004;\n",
       "  color: #f1f1f1;\n",
       "}\n",
       "</style>\n",
       "<table id=\"T_a4db2\">\n",
       "  <thead>\n",
       "    <tr>\n",
       "      <th class=\"blank level0\" >&nbsp;</th>\n",
       "      <th id=\"T_a4db2_level0_col0\" class=\"col_heading level0 col0\" >overall</th>\n",
       "    </tr>\n",
       "    <tr>\n",
       "      <th class=\"index_name level0\" >team</th>\n",
       "      <th class=\"blank col0\" >&nbsp;</th>\n",
       "    </tr>\n",
       "  </thead>\n",
       "  <tbody>\n",
       "    <tr>\n",
       "      <th id=\"T_a4db2_level0_row0\" class=\"row_heading level0 row0\" >Juventus</th>\n",
       "      <td id=\"T_a4db2_row0_col0\" class=\"data row0 col0\" >83.043478</td>\n",
       "    </tr>\n",
       "    <tr>\n",
       "      <th id=\"T_a4db2_level0_row1\" class=\"row_heading level0 row1\" >FC Bayern München</th>\n",
       "      <td id=\"T_a4db2_row1_col0\" class=\"data row1 col0\" >81.565217</td>\n",
       "    </tr>\n",
       "    <tr>\n",
       "      <th id=\"T_a4db2_level0_row2\" class=\"row_heading level0 row2\" >Napoli</th>\n",
       "      <td id=\"T_a4db2_row2_col0\" class=\"data row2 col0\" >79.730769</td>\n",
       "    </tr>\n",
       "    <tr>\n",
       "      <th id=\"T_a4db2_level0_row3\" class=\"row_heading level0 row3\" >Real Madrid</th>\n",
       "      <td id=\"T_a4db2_row3_col0\" class=\"data row3 col0\" >79.606061</td>\n",
       "    </tr>\n",
       "    <tr>\n",
       "      <th id=\"T_a4db2_level0_row4\" class=\"row_heading level0 row4\" >Paris Saint-Germain</th>\n",
       "      <td id=\"T_a4db2_row4_col0\" class=\"data row4 col0\" >78.866667</td>\n",
       "    </tr>\n",
       "    <tr>\n",
       "      <th id=\"T_a4db2_level0_row5\" class=\"row_heading level0 row5\" >Inter</th>\n",
       "      <td id=\"T_a4db2_row5_col0\" class=\"data row5 col0\" >78.576923</td>\n",
       "    </tr>\n",
       "    <tr>\n",
       "      <th id=\"T_a4db2_level0_row6\" class=\"row_heading level0 row6\" >FC Barcelona</th>\n",
       "      <td id=\"T_a4db2_row6_col0\" class=\"data row6 col0\" >78.090909</td>\n",
       "    </tr>\n",
       "    <tr>\n",
       "      <th id=\"T_a4db2_level0_row7\" class=\"row_heading level0 row7\" >Bayer 04 Leverkusen</th>\n",
       "      <td id=\"T_a4db2_row7_col0\" class=\"data row7 col0\" >77.916667</td>\n",
       "    </tr>\n",
       "    <tr>\n",
       "      <th id=\"T_a4db2_level0_row8\" class=\"row_heading level0 row8\" >Manchester City</th>\n",
       "      <td id=\"T_a4db2_row8_col0\" class=\"data row8 col0\" >76.875000</td>\n",
       "    </tr>\n",
       "    <tr>\n",
       "      <th id=\"T_a4db2_level0_row9\" class=\"row_heading level0 row9\" >SL Benfica</th>\n",
       "      <td id=\"T_a4db2_row9_col0\" class=\"data row9 col0\" >76.600000</td>\n",
       "    </tr>\n",
       "    <tr>\n",
       "      <th id=\"T_a4db2_level0_row10\" class=\"row_heading level0 row10\" >Lazio</th>\n",
       "      <td id=\"T_a4db2_row10_col0\" class=\"data row10 col0\" >76.500000</td>\n",
       "    </tr>\n",
       "    <tr>\n",
       "      <th id=\"T_a4db2_level0_row11\" class=\"row_heading level0 row11\" >Liverpool</th>\n",
       "      <td id=\"T_a4db2_row11_col0\" class=\"data row11 col0\" >76.454545</td>\n",
       "    </tr>\n",
       "    <tr>\n",
       "      <th id=\"T_a4db2_level0_row12\" class=\"row_heading level0 row12\" >Atlético Madrid</th>\n",
       "      <td id=\"T_a4db2_row12_col0\" class=\"data row12 col0\" >76.424242</td>\n",
       "    </tr>\n",
       "    <tr>\n",
       "      <th id=\"T_a4db2_level0_row13\" class=\"row_heading level0 row13\" >Milan</th>\n",
       "      <td id=\"T_a4db2_row13_col0\" class=\"data row13 col0\" >76.040000</td>\n",
       "    </tr>\n",
       "    <tr>\n",
       "      <th id=\"T_a4db2_level0_row14\" class=\"row_heading level0 row14\" >Manchester United</th>\n",
       "      <td id=\"T_a4db2_row14_col0\" class=\"data row14 col0\" >76.030303</td>\n",
       "    </tr>\n",
       "  </tbody>\n",
       "</table>\n"
      ],
      "text/plain": [
       "<pandas.io.formats.style.Styler at 0x7f4707e0f4c0>"
      ]
     },
     "execution_count": 3,
     "metadata": {},
     "output_type": "execute_result"
    }
   ],
   "source": [
    "team_stat = df.groupby(['team'])['overall'].mean().sort_values(ascending=False)\n",
    "team_stat.head(15).to_frame().style.background_gradient(cmap=\"magma\")"
   ]
  },
  {
   "cell_type": "markdown",
   "metadata": {
    "slideshow": {
     "slide_type": "slide"
    }
   },
   "source": [
    "### Manchester United ranks 15th in the world, by mean FIFA21 overall stats;\n",
    "### Man City and Liverpool are the only PL clubs with higher mean overall stats\n"
   ]
  },
  {
   "cell_type": "code",
   "execution_count": 4,
   "metadata": {
    "tags": [
     "remove_cell"
    ]
   },
   "outputs": [
    {
     "data": {
      "text/html": [
       "<style type=\"text/css\">\n",
       "#T_74ef2_row0_col0, #T_74ef2_row14_col0 {\n",
       "  background-color: #e2d9e2;\n",
       "  color: #000000;\n",
       "}\n",
       "#T_74ef2_row1_col0, #T_74ef2_row2_col0 {\n",
       "  background-color: #d0b39e;\n",
       "  color: #000000;\n",
       "}\n",
       "#T_74ef2_row3_col0 {\n",
       "  background-color: #c0755e;\n",
       "  color: #f1f1f1;\n",
       "}\n",
       "#T_74ef2_row4_col0 {\n",
       "  background-color: #9f3c50;\n",
       "  color: #f1f1f1;\n",
       "}\n",
       "#T_74ef2_row5_col0, #T_74ef2_row6_col0 {\n",
       "  background-color: #64194b;\n",
       "  color: #f1f1f1;\n",
       "}\n",
       "#T_74ef2_row7_col0 {\n",
       "  background-color: #531e7c;\n",
       "  color: #f1f1f1;\n",
       "}\n",
       "#T_74ef2_row8_col0, #T_74ef2_row9_col0 {\n",
       "  background-color: #5f58b0;\n",
       "  color: #f1f1f1;\n",
       "}\n",
       "#T_74ef2_row10_col0 {\n",
       "  background-color: #6d90c0;\n",
       "  color: #f1f1f1;\n",
       "}\n",
       "#T_74ef2_row11_col0, #T_74ef2_row12_col0, #T_74ef2_row13_col0 {\n",
       "  background-color: #a6bfca;\n",
       "  color: #000000;\n",
       "}\n",
       "</style>\n",
       "<table id=\"T_74ef2\">\n",
       "  <thead>\n",
       "    <tr>\n",
       "      <th class=\"blank level0\" >&nbsp;</th>\n",
       "      <th id=\"T_74ef2_level0_col0\" class=\"col_heading level0 col0\" >team</th>\n",
       "    </tr>\n",
       "  </thead>\n",
       "  <tbody>\n",
       "    <tr>\n",
       "      <th id=\"T_74ef2_level0_row0\" class=\"row_heading level0 row0\" >FC Barcelona</th>\n",
       "      <td id=\"T_74ef2_row0_col0\" class=\"data row0 col0\" >12</td>\n",
       "    </tr>\n",
       "    <tr>\n",
       "      <th id=\"T_74ef2_level0_row1\" class=\"row_heading level0 row1\" >Manchester City</th>\n",
       "      <td id=\"T_74ef2_row1_col0\" class=\"data row1 col0\" >11</td>\n",
       "    </tr>\n",
       "    <tr>\n",
       "      <th id=\"T_74ef2_level0_row2\" class=\"row_heading level0 row2\" >Real Madrid</th>\n",
       "      <td id=\"T_74ef2_row2_col0\" class=\"data row2 col0\" >11</td>\n",
       "    </tr>\n",
       "    <tr>\n",
       "      <th id=\"T_74ef2_level0_row3\" class=\"row_heading level0 row3\" >Liverpool</th>\n",
       "      <td id=\"T_74ef2_row3_col0\" class=\"data row3 col0\" >10</td>\n",
       "    </tr>\n",
       "    <tr>\n",
       "      <th id=\"T_74ef2_level0_row4\" class=\"row_heading level0 row4\" >Paris Saint-Germain</th>\n",
       "      <td id=\"T_74ef2_row4_col0\" class=\"data row4 col0\" >9</td>\n",
       "    </tr>\n",
       "    <tr>\n",
       "      <th id=\"T_74ef2_level0_row5\" class=\"row_heading level0 row5\" >Juventus</th>\n",
       "      <td id=\"T_74ef2_row5_col0\" class=\"data row5 col0\" >8</td>\n",
       "    </tr>\n",
       "    <tr>\n",
       "      <th id=\"T_74ef2_level0_row6\" class=\"row_heading level0 row6\" >FC Bayern München</th>\n",
       "      <td id=\"T_74ef2_row6_col0\" class=\"data row6 col0\" >8</td>\n",
       "    </tr>\n",
       "    <tr>\n",
       "      <th id=\"T_74ef2_level0_row7\" class=\"row_heading level0 row7\" >Inter</th>\n",
       "      <td id=\"T_74ef2_row7_col0\" class=\"data row7 col0\" >6</td>\n",
       "    </tr>\n",
       "    <tr>\n",
       "      <th id=\"T_74ef2_level0_row8\" class=\"row_heading level0 row8\" >Tottenham Hotspur</th>\n",
       "      <td id=\"T_74ef2_row8_col0\" class=\"data row8 col0\" >5</td>\n",
       "    </tr>\n",
       "    <tr>\n",
       "      <th id=\"T_74ef2_level0_row9\" class=\"row_heading level0 row9\" >Borussia Dortmund</th>\n",
       "      <td id=\"T_74ef2_row9_col0\" class=\"data row9 col0\" >5</td>\n",
       "    </tr>\n",
       "    <tr>\n",
       "      <th id=\"T_74ef2_level0_row10\" class=\"row_heading level0 row10\" >Atlético Madrid</th>\n",
       "      <td id=\"T_74ef2_row10_col0\" class=\"data row10 col0\" >4</td>\n",
       "    </tr>\n",
       "    <tr>\n",
       "      <th id=\"T_74ef2_level0_row11\" class=\"row_heading level0 row11\" >Lazio</th>\n",
       "      <td id=\"T_74ef2_row11_col0\" class=\"data row11 col0\" >3</td>\n",
       "    </tr>\n",
       "    <tr>\n",
       "      <th id=\"T_74ef2_level0_row12\" class=\"row_heading level0 row12\" >Napoli</th>\n",
       "      <td id=\"T_74ef2_row12_col0\" class=\"data row12 col0\" >3</td>\n",
       "    </tr>\n",
       "    <tr>\n",
       "      <th id=\"T_74ef2_level0_row13\" class=\"row_heading level0 row13\" >Manchester United</th>\n",
       "      <td id=\"T_74ef2_row13_col0\" class=\"data row13 col0\" >3</td>\n",
       "    </tr>\n",
       "    <tr>\n",
       "      <th id=\"T_74ef2_level0_row14\" class=\"row_heading level0 row14\" >Arsenal</th>\n",
       "      <td id=\"T_74ef2_row14_col0\" class=\"data row14 col0\" >2</td>\n",
       "    </tr>\n",
       "  </tbody>\n",
       "</table>\n"
      ],
      "text/plain": [
       "<pandas.io.formats.style.Styler at 0x7f477b39efe0>"
      ]
     },
     "execution_count": 4,
     "metadata": {},
     "output_type": "execute_result"
    }
   ],
   "source": [
    "best_itw=df.loc[df['overall'] > 84 ].sort_values(by = ['overall'],ascending=False)\n",
    "best_itw['team'].value_counts().head(15).to_frame().style.background_gradient(cmap=\"twilight\")"
   ]
  },
  {
   "cell_type": "markdown",
   "metadata": {},
   "source": [
    "### It is commonly accepted by FIFA fans that world class players have at least a 85 overall rating.  By this popular metric, Manchester United has only 3 world class players, less than Man City's 11, Liverpool's 10, and even Tottenham's 5."
   ]
  },
  {
   "cell_type": "markdown",
   "metadata": {},
   "source": [
    "## A Look inside Average League Positions for the past decade"
   ]
  },
  {
   "cell_type": "code",
   "execution_count": 7,
   "metadata": {
    "tags": [
     "remove_cell"
    ]
   },
   "outputs": [],
   "source": [
    "# Average Position Analysis\n",
    "# Data pulled from Wikipedia\n",
    "# (not many sites and data sources keep track of teams' mid-season league positions)\n",
    "links = [\"https://en.wikipedia.org/wiki/2009%E2%80%9310_Manchester_United_F.C._season\",\"https://en.wikipedia.org/wiki/2010%E2%80%9311_Manchester_United_F.C._season\",\"https://en.wikipedia.org/wiki/2011%E2%80%9312_Manchester_United_F.C._season\",\"https://en.wikipedia.org/wiki/2012%E2%80%9313_Manchester_United_F.C._season\",\"https://en.wikipedia.org/wiki/2013%E2%80%9314_Manchester_United_F.C._season\",\"https://en.wikipedia.org/wiki/2014%E2%80%9315_Manchester_United_F.C._season\",\"https://en.wikipedia.org/wiki/2015%E2%80%9316_Manchester_United_F.C._season\",\"https://en.wikipedia.org/wiki/2016%E2%80%9317_Manchester_United_F.C._season\",\"https://en.wikipedia.org/wiki/2017%E2%80%9318_Manchester_United_F.C._season\",\"https://en.wikipedia.org/wiki/2018%E2%80%9319_Manchester_United_F.C._season\",\"https://en.wikipedia.org/wiki/2019%E2%80%9320_Manchester_United_F.C._season\"]\n",
    "league_pos = []\n",
    "\n",
    "def league_pos_extractor(link,league):\n",
    "    manu_df = pd.read_html(link)\n",
    "    if len(manu_df[4]) ==38:\n",
    "        positions = manu_df[4].iloc[:,-1].values.tolist()\n",
    "    elif link == \"https://en.wikipedia.org/wiki/2018%E2%80%9319_Manchester_United_F.C._season\":\n",
    "        positions = manu_df[3].iloc[:,-2].values.tolist()\n",
    "    else:\n",
    "        positions = manu_df[3].iloc[:,-1].values.tolist()\n",
    "    league.append(positions)\n",
    "\n",
    "for link in links:\n",
    "    league_pos_extractor(link,league_pos)\n",
    "agg_lg_pos = pd.DataFrame(league_pos)\n",
    "\n",
    "df2 = agg_lg_pos.T\n",
    "df2.columns = [\"09/10\",\"10/11\",\"11/12\",\"12/13\",\"13/14\",\"14/15\",\"15/16\",\"16/17\",\"17/18\",\"18/19\",\"19/20\"]\n",
    "\n",
    "for col in df2:\n",
    "    if col == \"15/16\":\n",
    "        df2[col] = df2[col].str[0]\n",
    "    else:\n",
    "        df2[col] = df2[col].str[:-2]\n",
    "    df2[col] = pd.to_numeric(df2[col])\n",
    "\n",
    "df2.index = range(1,39)\n",
    "\n",
    "avg_pos = []\n",
    "\n",
    "for col in df2:\n",
    "    avg_pos.append((np.mean(df2[col])))"
   ]
  },
  {
   "cell_type": "code",
   "execution_count": 9,
   "metadata": {
    "tags": [
     "remove_cell"
    ]
   },
   "outputs": [
    {
     "data": {
      "application/vnd.plotly.v1+json": {
       "config": {
        "plotlyServerURL": "https://plotly.com"
       },
       "data": [
        {
         "hovertemplate": "season=09/10<br>Gameweek=%{x}<br>League Position=%{y}<extra></extra>",
         "legendgroup": "09/10",
         "line": {
          "color": "#636efa",
          "dash": "solid"
         },
         "marker": {
          "symbol": "circle"
         },
         "mode": "lines",
         "name": "09/10",
         "orientation": "v",
         "showlegend": true,
         "type": "scatter",
         "x": [
          1,
          2,
          3,
          4,
          5,
          6,
          7,
          8,
          9,
          10,
          11,
          12,
          13,
          14,
          15,
          16,
          17,
          18,
          19,
          20,
          21,
          22,
          23,
          24,
          25,
          26,
          27,
          28,
          29,
          30,
          31,
          32,
          33,
          34,
          35,
          36,
          37,
          38
         ],
         "xaxis": "x",
         "y": [
          9,
          10,
          3,
          3,
          2,
          2,
          1,
          1,
          1,
          2,
          2,
          3,
          2,
          2,
          2,
          2,
          2,
          2,
          2,
          2,
          2,
          2,
          1,
          2,
          1,
          2,
          2,
          2,
          1,
          1,
          1,
          1,
          2,
          2,
          2,
          1,
          2,
          2
         ],
         "yaxis": "y"
        },
        {
         "hovertemplate": "season=10/11<br>Gameweek=%{x}<br>League Position=%{y}<extra></extra>",
         "legendgroup": "10/11",
         "line": {
          "color": "#EF553B",
          "dash": "solid"
         },
         "marker": {
          "symbol": "circle"
         },
         "mode": "lines",
         "name": "10/11",
         "orientation": "v",
         "showlegend": true,
         "type": "scatter",
         "x": [
          1,
          2,
          3,
          4,
          5,
          6,
          7,
          8,
          9,
          10,
          11,
          12,
          13,
          14,
          15,
          16,
          17,
          18,
          19,
          20,
          21,
          22,
          23,
          24,
          25,
          26,
          27,
          28,
          29,
          30,
          31,
          32,
          33,
          34,
          35,
          36,
          37,
          38
         ],
         "xaxis": "x",
         "y": [
          4,
          3,
          3,
          3,
          3,
          2,
          3,
          3,
          3,
          3,
          2,
          2,
          3,
          2,
          1,
          1,
          1,
          1,
          1,
          1,
          1,
          1,
          1,
          1,
          1,
          1,
          1,
          1,
          1,
          1,
          1,
          1,
          1,
          1,
          1,
          1,
          1,
          1
         ],
         "yaxis": "y"
        },
        {
         "hovertemplate": "season=11/12<br>Gameweek=%{x}<br>League Position=%{y}<extra></extra>",
         "legendgroup": "11/12",
         "line": {
          "color": "#00cc96",
          "dash": "solid"
         },
         "marker": {
          "symbol": "circle"
         },
         "mode": "lines",
         "name": "11/12",
         "orientation": "v",
         "showlegend": true,
         "type": "scatter",
         "x": [
          1,
          2,
          3,
          4,
          5,
          6,
          7,
          8,
          9,
          10,
          11,
          12,
          13,
          14,
          15,
          16,
          17,
          18,
          19,
          20,
          21,
          22,
          23,
          24,
          25,
          26,
          27,
          28,
          29,
          30,
          31,
          32,
          33,
          34,
          35,
          36,
          37,
          38
         ],
         "xaxis": "x",
         "y": [
          3,
          2,
          1,
          1,
          1,
          1,
          1,
          2,
          2,
          2,
          2,
          2,
          2,
          2,
          2,
          2,
          2,
          2,
          2,
          2,
          2,
          2,
          2,
          2,
          1,
          2,
          2,
          1,
          1,
          1,
          1,
          1,
          1,
          1,
          1,
          2,
          2,
          2
         ],
         "yaxis": "y"
        },
        {
         "hovertemplate": "season=12/13<br>Gameweek=%{x}<br>League Position=%{y}<extra></extra>",
         "legendgroup": "12/13",
         "line": {
          "color": "#ab63fa",
          "dash": "solid"
         },
         "marker": {
          "symbol": "circle"
         },
         "mode": "lines",
         "name": "12/13",
         "orientation": "v",
         "showlegend": true,
         "type": "scatter",
         "x": [
          1,
          2,
          3,
          4,
          5,
          6,
          7,
          8,
          9,
          10,
          11,
          12,
          13,
          14,
          15,
          16,
          17,
          18,
          19,
          20,
          21,
          22,
          23,
          24,
          25,
          26,
          27,
          28,
          29,
          30,
          31,
          32,
          33,
          34,
          35,
          36,
          37,
          38
         ],
         "xaxis": "x",
         "y": [
          16,
          7,
          5,
          2,
          2,
          3,
          2,
          2,
          2,
          1,
          1,
          2,
          1,
          1,
          1,
          1,
          1,
          1,
          1,
          1,
          1,
          1,
          1,
          1,
          1,
          1,
          1,
          1,
          1,
          1,
          1,
          1,
          1,
          1,
          1,
          1,
          1,
          1
         ],
         "yaxis": "y"
        },
        {
         "hovertemplate": "season=13/14<br>Gameweek=%{x}<br>League Position=%{y}<extra></extra>",
         "legendgroup": "13/14",
         "line": {
          "color": "#FFA15A",
          "dash": "solid"
         },
         "marker": {
          "symbol": "circle"
         },
         "mode": "lines",
         "name": "13/14",
         "orientation": "v",
         "showlegend": true,
         "type": "scatter",
         "x": [
          1,
          2,
          3,
          4,
          5,
          6,
          7,
          8,
          9,
          10,
          11,
          12,
          13,
          14,
          15,
          16,
          17,
          18,
          19,
          20,
          21,
          22,
          23,
          24,
          25,
          26,
          27,
          28,
          29,
          30,
          31,
          32,
          33,
          34,
          35,
          36,
          37,
          38
         ],
         "xaxis": "x",
         "y": [
          1,
          4,
          7,
          5,
          8,
          12,
          9,
          8,
          8,
          8,
          5,
          6,
          8,
          9,
          9,
          8,
          7,
          7,
          6,
          7,
          7,
          7,
          7,
          7,
          7,
          7,
          7,
          6,
          7,
          7,
          7,
          7,
          6,
          7,
          7,
          7,
          7,
          7
         ],
         "yaxis": "y"
        },
        {
         "hovertemplate": "season=14/15<br>Gameweek=%{x}<br>League Position=%{y}<extra></extra>",
         "legendgroup": "14/15",
         "line": {
          "color": "#19d3f3",
          "dash": "solid"
         },
         "marker": {
          "symbol": "circle"
         },
         "mode": "lines",
         "name": "14/15",
         "orientation": "v",
         "showlegend": true,
         "type": "scatter",
         "x": [
          1,
          2,
          3,
          4,
          5,
          6,
          7,
          8,
          9,
          10,
          11,
          12,
          13,
          14,
          15,
          16,
          17,
          18,
          19,
          20,
          21,
          22,
          23,
          24,
          25,
          26,
          27,
          28,
          29,
          30,
          31,
          32,
          33,
          34,
          35,
          36,
          37,
          38
         ],
         "xaxis": "x",
         "y": [
          16,
          13,
          14,
          9,
          12,
          7,
          4,
          6,
          8,
          9,
          6,
          4,
          4,
          4,
          3,
          3,
          3,
          3,
          3,
          3,
          4,
          4,
          3,
          4,
          3,
          4,
          3,
          4,
          4,
          4,
          3,
          3,
          3,
          4,
          4,
          4,
          4,
          4
         ],
         "yaxis": "y"
        },
        {
         "hovertemplate": "season=15/16<br>Gameweek=%{x}<br>League Position=%{y}<extra></extra>",
         "legendgroup": "15/16",
         "line": {
          "color": "#FF6692",
          "dash": "solid"
         },
         "marker": {
          "symbol": "circle"
         },
         "mode": "lines",
         "name": "15/16",
         "orientation": "v",
         "showlegend": true,
         "type": "scatter",
         "x": [
          1,
          2,
          3,
          4,
          5,
          6,
          7,
          8,
          9,
          10,
          11,
          12,
          13,
          14,
          15,
          16,
          17,
          18,
          19,
          20,
          21,
          22,
          23,
          24,
          25,
          26,
          27,
          28,
          29,
          30,
          31,
          32,
          33,
          34,
          35,
          36,
          37,
          38
         ],
         "xaxis": "x",
         "y": [
          4,
          1,
          2,
          5,
          2,
          2,
          1,
          3,
          2,
          4,
          4,
          4,
          2,
          3,
          4,
          4,
          5,
          6,
          6,
          5,
          6,
          5,
          5,
          5,
          5,
          5,
          5,
          5,
          6,
          6,
          5,
          5,
          5,
          5,
          5,
          5,
          5,
          5
         ],
         "yaxis": "y"
        },
        {
         "hovertemplate": "season=16/17<br>Gameweek=%{x}<br>League Position=%{y}<extra></extra>",
         "legendgroup": "16/17",
         "line": {
          "color": "#B6E880",
          "dash": "solid"
         },
         "marker": {
          "symbol": "circle"
         },
         "mode": "lines",
         "name": "16/17",
         "orientation": "v",
         "showlegend": true,
         "type": "scatter",
         "x": [
          1,
          2,
          3,
          4,
          5,
          6,
          7,
          8,
          9,
          10,
          11,
          12,
          13,
          14,
          15,
          16,
          17,
          18,
          19,
          20,
          21,
          22,
          23,
          24,
          25,
          26,
          27,
          28,
          29,
          30,
          31,
          32,
          33,
          34,
          35,
          36,
          37,
          38
         ],
         "xaxis": "x",
         "y": [
          1,
          1,
          2,
          3,
          7,
          6,
          6,
          7,
          7,
          8,
          6,
          6,
          6,
          6,
          6,
          6,
          6,
          6,
          6,
          6,
          6,
          6,
          6,
          6,
          6,
          6,
          5,
          5,
          6,
          5,
          5,
          5,
          5,
          5,
          5,
          6,
          6,
          6
         ],
         "yaxis": "y"
        },
        {
         "hovertemplate": "season=17/18<br>Gameweek=%{x}<br>League Position=%{y}<extra></extra>",
         "legendgroup": "17/18",
         "line": {
          "color": "#FF97FF",
          "dash": "solid"
         },
         "marker": {
          "symbol": "circle"
         },
         "mode": "lines",
         "name": "17/18",
         "orientation": "v",
         "showlegend": true,
         "type": "scatter",
         "x": [
          1,
          2,
          3,
          4,
          5,
          6,
          7,
          8,
          9,
          10,
          11,
          12,
          13,
          14,
          15,
          16,
          17,
          18,
          19,
          20,
          21,
          22,
          23,
          24,
          25,
          26,
          27,
          28,
          29,
          30,
          31,
          32,
          33,
          34,
          35,
          36,
          37,
          38
         ],
         "xaxis": "x",
         "y": [
          1,
          1,
          1,
          1,
          2,
          2,
          2,
          2,
          2,
          2,
          2,
          2,
          2,
          2,
          2,
          2,
          2,
          2,
          2,
          2,
          3,
          2,
          2,
          2,
          2,
          2,
          2,
          2,
          2,
          2,
          2,
          2,
          2,
          2,
          2,
          2,
          2,
          2
         ],
         "yaxis": "y"
        },
        {
         "hovertemplate": "season=18/19<br>Gameweek=%{x}<br>League Position=%{y}<extra></extra>",
         "legendgroup": "18/19",
         "line": {
          "color": "#FECB52",
          "dash": "solid"
         },
         "marker": {
          "symbol": "circle"
         },
         "mode": "lines",
         "name": "18/19",
         "orientation": "v",
         "showlegend": true,
         "type": "scatter",
         "x": [
          1,
          2,
          3,
          4,
          5,
          6,
          7,
          8,
          9,
          10,
          11,
          12,
          13,
          14,
          15,
          16,
          17,
          18,
          19,
          20,
          21,
          22,
          23,
          24,
          25,
          26,
          27,
          28,
          29,
          30,
          31,
          32,
          33,
          34,
          35,
          36,
          37,
          38
         ],
         "xaxis": "x",
         "y": [
          7,
          9,
          13,
          10,
          8,
          7,
          10,
          8,
          10,
          8,
          7,
          8,
          7,
          7,
          8,
          6,
          6,
          6,
          6,
          6,
          6,
          6,
          6,
          6,
          5,
          4,
          5,
          5,
          4,
          5,
          5,
          6,
          6,
          6,
          6,
          6,
          6,
          6
         ],
         "yaxis": "y"
        },
        {
         "hovertemplate": "season=19/20<br>Gameweek=%{x}<br>League Position=%{y}<extra></extra>",
         "legendgroup": "19/20",
         "line": {
          "color": "#636efa",
          "dash": "solid"
         },
         "marker": {
          "symbol": "circle"
         },
         "mode": "lines",
         "name": "19/20",
         "orientation": "v",
         "showlegend": true,
         "type": "scatter",
         "x": [
          1,
          2,
          3,
          4,
          5,
          6,
          7,
          8,
          9,
          10,
          11,
          12,
          13,
          14,
          15,
          16,
          17,
          18,
          19,
          20,
          21,
          22,
          23,
          24,
          25,
          26,
          27,
          28,
          29,
          30,
          31,
          32,
          33,
          34,
          35,
          36,
          37,
          38
         ],
         "xaxis": "x",
         "y": [
          2,
          4,
          5,
          7,
          4,
          8,
          10,
          12,
          14,
          7,
          10,
          7,
          9,
          9,
          6,
          5,
          6,
          8,
          8,
          5,
          5,
          5,
          5,
          5,
          7,
          7,
          5,
          5,
          5,
          5,
          5,
          5,
          5,
          5,
          5,
          5,
          3,
          3
         ],
         "yaxis": "y"
        }
       ],
       "layout": {
        "autosize": true,
        "legend": {
         "title": {
          "text": "season"
         },
         "tracegroupgap": 0
        },
        "margin": {
         "t": 60
        },
        "template": {
         "data": {
          "bar": [
           {
            "error_x": {
             "color": "#2a3f5f"
            },
            "error_y": {
             "color": "#2a3f5f"
            },
            "marker": {
             "line": {
              "color": "#E5ECF6",
              "width": 0.5
             },
             "pattern": {
              "fillmode": "overlay",
              "size": 10,
              "solidity": 0.2
             }
            },
            "type": "bar"
           }
          ],
          "barpolar": [
           {
            "marker": {
             "line": {
              "color": "#E5ECF6",
              "width": 0.5
             },
             "pattern": {
              "fillmode": "overlay",
              "size": 10,
              "solidity": 0.2
             }
            },
            "type": "barpolar"
           }
          ],
          "carpet": [
           {
            "aaxis": {
             "endlinecolor": "#2a3f5f",
             "gridcolor": "white",
             "linecolor": "white",
             "minorgridcolor": "white",
             "startlinecolor": "#2a3f5f"
            },
            "baxis": {
             "endlinecolor": "#2a3f5f",
             "gridcolor": "white",
             "linecolor": "white",
             "minorgridcolor": "white",
             "startlinecolor": "#2a3f5f"
            },
            "type": "carpet"
           }
          ],
          "choropleth": [
           {
            "colorbar": {
             "outlinewidth": 0,
             "ticks": ""
            },
            "type": "choropleth"
           }
          ],
          "contour": [
           {
            "colorbar": {
             "outlinewidth": 0,
             "ticks": ""
            },
            "colorscale": [
             [
              0,
              "#0d0887"
             ],
             [
              0.1111111111111111,
              "#46039f"
             ],
             [
              0.2222222222222222,
              "#7201a8"
             ],
             [
              0.3333333333333333,
              "#9c179e"
             ],
             [
              0.4444444444444444,
              "#bd3786"
             ],
             [
              0.5555555555555556,
              "#d8576b"
             ],
             [
              0.6666666666666666,
              "#ed7953"
             ],
             [
              0.7777777777777778,
              "#fb9f3a"
             ],
             [
              0.8888888888888888,
              "#fdca26"
             ],
             [
              1,
              "#f0f921"
             ]
            ],
            "type": "contour"
           }
          ],
          "contourcarpet": [
           {
            "colorbar": {
             "outlinewidth": 0,
             "ticks": ""
            },
            "type": "contourcarpet"
           }
          ],
          "heatmap": [
           {
            "colorbar": {
             "outlinewidth": 0,
             "ticks": ""
            },
            "colorscale": [
             [
              0,
              "#0d0887"
             ],
             [
              0.1111111111111111,
              "#46039f"
             ],
             [
              0.2222222222222222,
              "#7201a8"
             ],
             [
              0.3333333333333333,
              "#9c179e"
             ],
             [
              0.4444444444444444,
              "#bd3786"
             ],
             [
              0.5555555555555556,
              "#d8576b"
             ],
             [
              0.6666666666666666,
              "#ed7953"
             ],
             [
              0.7777777777777778,
              "#fb9f3a"
             ],
             [
              0.8888888888888888,
              "#fdca26"
             ],
             [
              1,
              "#f0f921"
             ]
            ],
            "type": "heatmap"
           }
          ],
          "heatmapgl": [
           {
            "colorbar": {
             "outlinewidth": 0,
             "ticks": ""
            },
            "colorscale": [
             [
              0,
              "#0d0887"
             ],
             [
              0.1111111111111111,
              "#46039f"
             ],
             [
              0.2222222222222222,
              "#7201a8"
             ],
             [
              0.3333333333333333,
              "#9c179e"
             ],
             [
              0.4444444444444444,
              "#bd3786"
             ],
             [
              0.5555555555555556,
              "#d8576b"
             ],
             [
              0.6666666666666666,
              "#ed7953"
             ],
             [
              0.7777777777777778,
              "#fb9f3a"
             ],
             [
              0.8888888888888888,
              "#fdca26"
             ],
             [
              1,
              "#f0f921"
             ]
            ],
            "type": "heatmapgl"
           }
          ],
          "histogram": [
           {
            "marker": {
             "pattern": {
              "fillmode": "overlay",
              "size": 10,
              "solidity": 0.2
             }
            },
            "type": "histogram"
           }
          ],
          "histogram2d": [
           {
            "colorbar": {
             "outlinewidth": 0,
             "ticks": ""
            },
            "colorscale": [
             [
              0,
              "#0d0887"
             ],
             [
              0.1111111111111111,
              "#46039f"
             ],
             [
              0.2222222222222222,
              "#7201a8"
             ],
             [
              0.3333333333333333,
              "#9c179e"
             ],
             [
              0.4444444444444444,
              "#bd3786"
             ],
             [
              0.5555555555555556,
              "#d8576b"
             ],
             [
              0.6666666666666666,
              "#ed7953"
             ],
             [
              0.7777777777777778,
              "#fb9f3a"
             ],
             [
              0.8888888888888888,
              "#fdca26"
             ],
             [
              1,
              "#f0f921"
             ]
            ],
            "type": "histogram2d"
           }
          ],
          "histogram2dcontour": [
           {
            "colorbar": {
             "outlinewidth": 0,
             "ticks": ""
            },
            "colorscale": [
             [
              0,
              "#0d0887"
             ],
             [
              0.1111111111111111,
              "#46039f"
             ],
             [
              0.2222222222222222,
              "#7201a8"
             ],
             [
              0.3333333333333333,
              "#9c179e"
             ],
             [
              0.4444444444444444,
              "#bd3786"
             ],
             [
              0.5555555555555556,
              "#d8576b"
             ],
             [
              0.6666666666666666,
              "#ed7953"
             ],
             [
              0.7777777777777778,
              "#fb9f3a"
             ],
             [
              0.8888888888888888,
              "#fdca26"
             ],
             [
              1,
              "#f0f921"
             ]
            ],
            "type": "histogram2dcontour"
           }
          ],
          "mesh3d": [
           {
            "colorbar": {
             "outlinewidth": 0,
             "ticks": ""
            },
            "type": "mesh3d"
           }
          ],
          "parcoords": [
           {
            "line": {
             "colorbar": {
              "outlinewidth": 0,
              "ticks": ""
             }
            },
            "type": "parcoords"
           }
          ],
          "pie": [
           {
            "automargin": true,
            "type": "pie"
           }
          ],
          "scatter": [
           {
            "fillpattern": {
             "fillmode": "overlay",
             "size": 10,
             "solidity": 0.2
            },
            "type": "scatter"
           }
          ],
          "scatter3d": [
           {
            "line": {
             "colorbar": {
              "outlinewidth": 0,
              "ticks": ""
             }
            },
            "marker": {
             "colorbar": {
              "outlinewidth": 0,
              "ticks": ""
             }
            },
            "type": "scatter3d"
           }
          ],
          "scattercarpet": [
           {
            "marker": {
             "colorbar": {
              "outlinewidth": 0,
              "ticks": ""
             }
            },
            "type": "scattercarpet"
           }
          ],
          "scattergeo": [
           {
            "marker": {
             "colorbar": {
              "outlinewidth": 0,
              "ticks": ""
             }
            },
            "type": "scattergeo"
           }
          ],
          "scattergl": [
           {
            "marker": {
             "colorbar": {
              "outlinewidth": 0,
              "ticks": ""
             }
            },
            "type": "scattergl"
           }
          ],
          "scattermapbox": [
           {
            "marker": {
             "colorbar": {
              "outlinewidth": 0,
              "ticks": ""
             }
            },
            "type": "scattermapbox"
           }
          ],
          "scatterpolar": [
           {
            "marker": {
             "colorbar": {
              "outlinewidth": 0,
              "ticks": ""
             }
            },
            "type": "scatterpolar"
           }
          ],
          "scatterpolargl": [
           {
            "marker": {
             "colorbar": {
              "outlinewidth": 0,
              "ticks": ""
             }
            },
            "type": "scatterpolargl"
           }
          ],
          "scatterternary": [
           {
            "marker": {
             "colorbar": {
              "outlinewidth": 0,
              "ticks": ""
             }
            },
            "type": "scatterternary"
           }
          ],
          "surface": [
           {
            "colorbar": {
             "outlinewidth": 0,
             "ticks": ""
            },
            "colorscale": [
             [
              0,
              "#0d0887"
             ],
             [
              0.1111111111111111,
              "#46039f"
             ],
             [
              0.2222222222222222,
              "#7201a8"
             ],
             [
              0.3333333333333333,
              "#9c179e"
             ],
             [
              0.4444444444444444,
              "#bd3786"
             ],
             [
              0.5555555555555556,
              "#d8576b"
             ],
             [
              0.6666666666666666,
              "#ed7953"
             ],
             [
              0.7777777777777778,
              "#fb9f3a"
             ],
             [
              0.8888888888888888,
              "#fdca26"
             ],
             [
              1,
              "#f0f921"
             ]
            ],
            "type": "surface"
           }
          ],
          "table": [
           {
            "cells": {
             "fill": {
              "color": "#EBF0F8"
             },
             "line": {
              "color": "white"
             }
            },
            "header": {
             "fill": {
              "color": "#C8D4E3"
             },
             "line": {
              "color": "white"
             }
            },
            "type": "table"
           }
          ]
         },
         "layout": {
          "annotationdefaults": {
           "arrowcolor": "#2a3f5f",
           "arrowhead": 0,
           "arrowwidth": 1
          },
          "autotypenumbers": "strict",
          "coloraxis": {
           "colorbar": {
            "outlinewidth": 0,
            "ticks": ""
           }
          },
          "colorscale": {
           "diverging": [
            [
             0,
             "#8e0152"
            ],
            [
             0.1,
             "#c51b7d"
            ],
            [
             0.2,
             "#de77ae"
            ],
            [
             0.3,
             "#f1b6da"
            ],
            [
             0.4,
             "#fde0ef"
            ],
            [
             0.5,
             "#f7f7f7"
            ],
            [
             0.6,
             "#e6f5d0"
            ],
            [
             0.7,
             "#b8e186"
            ],
            [
             0.8,
             "#7fbc41"
            ],
            [
             0.9,
             "#4d9221"
            ],
            [
             1,
             "#276419"
            ]
           ],
           "sequential": [
            [
             0,
             "#0d0887"
            ],
            [
             0.1111111111111111,
             "#46039f"
            ],
            [
             0.2222222222222222,
             "#7201a8"
            ],
            [
             0.3333333333333333,
             "#9c179e"
            ],
            [
             0.4444444444444444,
             "#bd3786"
            ],
            [
             0.5555555555555556,
             "#d8576b"
            ],
            [
             0.6666666666666666,
             "#ed7953"
            ],
            [
             0.7777777777777778,
             "#fb9f3a"
            ],
            [
             0.8888888888888888,
             "#fdca26"
            ],
            [
             1,
             "#f0f921"
            ]
           ],
           "sequentialminus": [
            [
             0,
             "#0d0887"
            ],
            [
             0.1111111111111111,
             "#46039f"
            ],
            [
             0.2222222222222222,
             "#7201a8"
            ],
            [
             0.3333333333333333,
             "#9c179e"
            ],
            [
             0.4444444444444444,
             "#bd3786"
            ],
            [
             0.5555555555555556,
             "#d8576b"
            ],
            [
             0.6666666666666666,
             "#ed7953"
            ],
            [
             0.7777777777777778,
             "#fb9f3a"
            ],
            [
             0.8888888888888888,
             "#fdca26"
            ],
            [
             1,
             "#f0f921"
            ]
           ]
          },
          "colorway": [
           "#636efa",
           "#EF553B",
           "#00cc96",
           "#ab63fa",
           "#FFA15A",
           "#19d3f3",
           "#FF6692",
           "#B6E880",
           "#FF97FF",
           "#FECB52"
          ],
          "font": {
           "color": "#2a3f5f"
          },
          "geo": {
           "bgcolor": "white",
           "lakecolor": "white",
           "landcolor": "#E5ECF6",
           "showlakes": true,
           "showland": true,
           "subunitcolor": "white"
          },
          "hoverlabel": {
           "align": "left"
          },
          "hovermode": "closest",
          "mapbox": {
           "style": "light"
          },
          "paper_bgcolor": "white",
          "plot_bgcolor": "#E5ECF6",
          "polar": {
           "angularaxis": {
            "gridcolor": "white",
            "linecolor": "white",
            "ticks": ""
           },
           "bgcolor": "#E5ECF6",
           "radialaxis": {
            "gridcolor": "white",
            "linecolor": "white",
            "ticks": ""
           }
          },
          "scene": {
           "xaxis": {
            "backgroundcolor": "#E5ECF6",
            "gridcolor": "white",
            "gridwidth": 2,
            "linecolor": "white",
            "showbackground": true,
            "ticks": "",
            "zerolinecolor": "white"
           },
           "yaxis": {
            "backgroundcolor": "#E5ECF6",
            "gridcolor": "white",
            "gridwidth": 2,
            "linecolor": "white",
            "showbackground": true,
            "ticks": "",
            "zerolinecolor": "white"
           },
           "zaxis": {
            "backgroundcolor": "#E5ECF6",
            "gridcolor": "white",
            "gridwidth": 2,
            "linecolor": "white",
            "showbackground": true,
            "ticks": "",
            "zerolinecolor": "white"
           }
          },
          "shapedefaults": {
           "line": {
            "color": "#2a3f5f"
           }
          },
          "ternary": {
           "aaxis": {
            "gridcolor": "white",
            "linecolor": "white",
            "ticks": ""
           },
           "baxis": {
            "gridcolor": "white",
            "linecolor": "white",
            "ticks": ""
           },
           "bgcolor": "#E5ECF6",
           "caxis": {
            "gridcolor": "white",
            "linecolor": "white",
            "ticks": ""
           }
          },
          "title": {
           "x": 0.05
          },
          "xaxis": {
           "automargin": true,
           "gridcolor": "white",
           "linecolor": "white",
           "ticks": "",
           "title": {
            "standoff": 15
           },
           "zerolinecolor": "white",
           "zerolinewidth": 2
          },
          "yaxis": {
           "automargin": true,
           "gridcolor": "white",
           "linecolor": "white",
           "ticks": "",
           "title": {
            "standoff": 15
           },
           "zerolinecolor": "white",
           "zerolinewidth": 2
          }
         }
        },
        "title": {
         "text": "Man UTD league position by GW since 09/10"
        },
        "xaxis": {
         "anchor": "y",
         "autorange": true,
         "domain": [
          0,
          1
         ],
         "range": [
          1,
          38
         ],
         "title": {
          "text": "Gameweek"
         },
         "type": "linear"
        },
        "yaxis": {
         "anchor": "x",
         "autorange": true,
         "domain": [
          0,
          1
         ],
         "range": [
          16.833333333333332,
          0.16666666666666663
         ],
         "title": {
          "text": "League Position"
         },
         "type": "linear"
        }
       }
      },
      "image/png": "[encoded data removed]",
      "text/html": [
       "<div>                            <div id=\"79b63fdc-06bf-48aa-b590-2bfb0b66ca13\" class=\"plotly-graph-div\" style=\"height:525px; width:100%;\"></div>            <script type=\"text/javascript\">                require([\"plotly\"], function(Plotly) {                    window.PLOTLYENV=window.PLOTLYENV || {};                                    if (document.getElementById(\"79b63fdc-06bf-48aa-b590-2bfb0b66ca13\")) {                    Plotly.newPlot(                        \"79b63fdc-06bf-48aa-b590-2bfb0b66ca13\",                        [{\"hovertemplate\":\"season=09/10<br>Gameweek=%{x}<br>League Position=%{y}<extra></extra>\",\"legendgroup\":\"09/10\",\"line\":{\"color\":\"#636efa\",\"dash\":\"solid\"},\"marker\":{\"symbol\":\"circle\"},\"mode\":\"lines\",\"name\":\"09/10\",\"orientation\":\"v\",\"showlegend\":true,\"x\":[1,2,3,4,5,6,7,8,9,10,11,12,13,14,15,16,17,18,19,20,21,22,23,24,25,26,27,28,29,30,31,32,33,34,35,36,37,38],\"xaxis\":\"x\",\"y\":[9,10,3,3,2,2,1,1,1,2,2,3,2,2,2,2,2,2,2,2,2,2,1,2,1,2,2,2,1,1,1,1,2,2,2,1,2,2],\"yaxis\":\"y\",\"type\":\"scatter\"},{\"hovertemplate\":\"season=10/11<br>Gameweek=%{x}<br>League Position=%{y}<extra></extra>\",\"legendgroup\":\"10/11\",\"line\":{\"color\":\"#EF553B\",\"dash\":\"solid\"},\"marker\":{\"symbol\":\"circle\"},\"mode\":\"lines\",\"name\":\"10/11\",\"orientation\":\"v\",\"showlegend\":true,\"x\":[1,2,3,4,5,6,7,8,9,10,11,12,13,14,15,16,17,18,19,20,21,22,23,24,25,26,27,28,29,30,31,32,33,34,35,36,37,38],\"xaxis\":\"x\",\"y\":[4,3,3,3,3,2,3,3,3,3,2,2,3,2,1,1,1,1,1,1,1,1,1,1,1,1,1,1,1,1,1,1,1,1,1,1,1,1],\"yaxis\":\"y\",\"type\":\"scatter\"},{\"hovertemplate\":\"season=11/12<br>Gameweek=%{x}<br>League Position=%{y}<extra></extra>\",\"legendgroup\":\"11/12\",\"line\":{\"color\":\"#00cc96\",\"dash\":\"solid\"},\"marker\":{\"symbol\":\"circle\"},\"mode\":\"lines\",\"name\":\"11/12\",\"orientation\":\"v\",\"showlegend\":true,\"x\":[1,2,3,4,5,6,7,8,9,10,11,12,13,14,15,16,17,18,19,20,21,22,23,24,25,26,27,28,29,30,31,32,33,34,35,36,37,38],\"xaxis\":\"x\",\"y\":[3,2,1,1,1,1,1,2,2,2,2,2,2,2,2,2,2,2,2,2,2,2,2,2,1,2,2,1,1,1,1,1,1,1,1,2,2,2],\"yaxis\":\"y\",\"type\":\"scatter\"},{\"hovertemplate\":\"season=12/13<br>Gameweek=%{x}<br>League Position=%{y}<extra></extra>\",\"legendgroup\":\"12/13\",\"line\":{\"color\":\"#ab63fa\",\"dash\":\"solid\"},\"marker\":{\"symbol\":\"circle\"},\"mode\":\"lines\",\"name\":\"12/13\",\"orientation\":\"v\",\"showlegend\":true,\"x\":[1,2,3,4,5,6,7,8,9,10,11,12,13,14,15,16,17,18,19,20,21,22,23,24,25,26,27,28,29,30,31,32,33,34,35,36,37,38],\"xaxis\":\"x\",\"y\":[16,7,5,2,2,3,2,2,2,1,1,2,1,1,1,1,1,1,1,1,1,1,1,1,1,1,1,1,1,1,1,1,1,1,1,1,1,1],\"yaxis\":\"y\",\"type\":\"scatter\"},{\"hovertemplate\":\"season=13/14<br>Gameweek=%{x}<br>League Position=%{y}<extra></extra>\",\"legendgroup\":\"13/14\",\"line\":{\"color\":\"#FFA15A\",\"dash\":\"solid\"},\"marker\":{\"symbol\":\"circle\"},\"mode\":\"lines\",\"name\":\"13/14\",\"orientation\":\"v\",\"showlegend\":true,\"x\":[1,2,3,4,5,6,7,8,9,10,11,12,13,14,15,16,17,18,19,20,21,22,23,24,25,26,27,28,29,30,31,32,33,34,35,36,37,38],\"xaxis\":\"x\",\"y\":[1,4,7,5,8,12,9,8,8,8,5,6,8,9,9,8,7,7,6,7,7,7,7,7,7,7,7,6,7,7,7,7,6,7,7,7,7,7],\"yaxis\":\"y\",\"type\":\"scatter\"},{\"hovertemplate\":\"season=14/15<br>Gameweek=%{x}<br>League Position=%{y}<extra></extra>\",\"legendgroup\":\"14/15\",\"line\":{\"color\":\"#19d3f3\",\"dash\":\"solid\"},\"marker\":{\"symbol\":\"circle\"},\"mode\":\"lines\",\"name\":\"14/15\",\"orientation\":\"v\",\"showlegend\":true,\"x\":[1,2,3,4,5,6,7,8,9,10,11,12,13,14,15,16,17,18,19,20,21,22,23,24,25,26,27,28,29,30,31,32,33,34,35,36,37,38],\"xaxis\":\"x\",\"y\":[16,13,14,9,12,7,4,6,8,9,6,4,4,4,3,3,3,3,3,3,4,4,3,4,3,4,3,4,4,4,3,3,3,4,4,4,4,4],\"yaxis\":\"y\",\"type\":\"scatter\"},{\"hovertemplate\":\"season=15/16<br>Gameweek=%{x}<br>League Position=%{y}<extra></extra>\",\"legendgroup\":\"15/16\",\"line\":{\"color\":\"#FF6692\",\"dash\":\"solid\"},\"marker\":{\"symbol\":\"circle\"},\"mode\":\"lines\",\"name\":\"15/16\",\"orientation\":\"v\",\"showlegend\":true,\"x\":[1,2,3,4,5,6,7,8,9,10,11,12,13,14,15,16,17,18,19,20,21,22,23,24,25,26,27,28,29,30,31,32,33,34,35,36,37,38],\"xaxis\":\"x\",\"y\":[4,1,2,5,2,2,1,3,2,4,4,4,2,3,4,4,5,6,6,5,6,5,5,5,5,5,5,5,6,6,5,5,5,5,5,5,5,5],\"yaxis\":\"y\",\"type\":\"scatter\"},{\"hovertemplate\":\"season=16/17<br>Gameweek=%{x}<br>League Position=%{y}<extra></extra>\",\"legendgroup\":\"16/17\",\"line\":{\"color\":\"#B6E880\",\"dash\":\"solid\"},\"marker\":{\"symbol\":\"circle\"},\"mode\":\"lines\",\"name\":\"16/17\",\"orientation\":\"v\",\"showlegend\":true,\"x\":[1,2,3,4,5,6,7,8,9,10,11,12,13,14,15,16,17,18,19,20,21,22,23,24,25,26,27,28,29,30,31,32,33,34,35,36,37,38],\"xaxis\":\"x\",\"y\":[1,1,2,3,7,6,6,7,7,8,6,6,6,6,6,6,6,6,6,6,6,6,6,6,6,6,5,5,6,5,5,5,5,5,5,6,6,6],\"yaxis\":\"y\",\"type\":\"scatter\"},{\"hovertemplate\":\"season=17/18<br>Gameweek=%{x}<br>League Position=%{y}<extra></extra>\",\"legendgroup\":\"17/18\",\"line\":{\"color\":\"#FF97FF\",\"dash\":\"solid\"},\"marker\":{\"symbol\":\"circle\"},\"mode\":\"lines\",\"name\":\"17/18\",\"orientation\":\"v\",\"showlegend\":true,\"x\":[1,2,3,4,5,6,7,8,9,10,11,12,13,14,15,16,17,18,19,20,21,22,23,24,25,26,27,28,29,30,31,32,33,34,35,36,37,38],\"xaxis\":\"x\",\"y\":[1,1,1,1,2,2,2,2,2,2,2,2,2,2,2,2,2,2,2,2,3,2,2,2,2,2,2,2,2,2,2,2,2,2,2,2,2,2],\"yaxis\":\"y\",\"type\":\"scatter\"},{\"hovertemplate\":\"season=18/19<br>Gameweek=%{x}<br>League Position=%{y}<extra></extra>\",\"legendgroup\":\"18/19\",\"line\":{\"color\":\"#FECB52\",\"dash\":\"solid\"},\"marker\":{\"symbol\":\"circle\"},\"mode\":\"lines\",\"name\":\"18/19\",\"orientation\":\"v\",\"showlegend\":true,\"x\":[1,2,3,4,5,6,7,8,9,10,11,12,13,14,15,16,17,18,19,20,21,22,23,24,25,26,27,28,29,30,31,32,33,34,35,36,37,38],\"xaxis\":\"x\",\"y\":[7,9,13,10,8,7,10,8,10,8,7,8,7,7,8,6,6,6,6,6,6,6,6,6,5,4,5,5,4,5,5,6,6,6,6,6,6,6],\"yaxis\":\"y\",\"type\":\"scatter\"},{\"hovertemplate\":\"season=19/20<br>Gameweek=%{x}<br>League Position=%{y}<extra></extra>\",\"legendgroup\":\"19/20\",\"line\":{\"color\":\"#636efa\",\"dash\":\"solid\"},\"marker\":{\"symbol\":\"circle\"},\"mode\":\"lines\",\"name\":\"19/20\",\"orientation\":\"v\",\"showlegend\":true,\"x\":[1,2,3,4,5,6,7,8,9,10,11,12,13,14,15,16,17,18,19,20,21,22,23,24,25,26,27,28,29,30,31,32,33,34,35,36,37,38],\"xaxis\":\"x\",\"y\":[2,4,5,7,4,8,10,12,14,7,10,7,9,9,6,5,6,8,8,5,5,5,5,5,7,7,5,5,5,5,5,5,5,5,5,5,3,3],\"yaxis\":\"y\",\"type\":\"scatter\"}],                        {\"template\":{\"data\":{\"histogram2dcontour\":[{\"type\":\"histogram2dcontour\",\"colorbar\":{\"outlinewidth\":0,\"ticks\":\"\"},\"colorscale\":[[0.0,\"#0d0887\"],[0.1111111111111111,\"#46039f\"],[0.2222222222222222,\"#7201a8\"],[0.3333333333333333,\"#9c179e\"],[0.4444444444444444,\"#bd3786\"],[0.5555555555555556,\"#d8576b\"],[0.6666666666666666,\"#ed7953\"],[0.7777777777777778,\"#fb9f3a\"],[0.8888888888888888,\"#fdca26\"],[1.0,\"#f0f921\"]]}],\"choropleth\":[{\"type\":\"choropleth\",\"colorbar\":{\"outlinewidth\":0,\"ticks\":\"\"}}],\"histogram2d\":[{\"type\":\"histogram2d\",\"colorbar\":{\"outlinewidth\":0,\"ticks\":\"\"},\"colorscale\":[[0.0,\"#0d0887\"],[0.1111111111111111,\"#46039f\"],[0.2222222222222222,\"#7201a8\"],[0.3333333333333333,\"#9c179e\"],[0.4444444444444444,\"#bd3786\"],[0.5555555555555556,\"#d8576b\"],[0.6666666666666666,\"#ed7953\"],[0.7777777777777778,\"#fb9f3a\"],[0.8888888888888888,\"#fdca26\"],[1.0,\"#f0f921\"]]}],\"heatmap\":[{\"type\":\"heatmap\",\"colorbar\":{\"outlinewidth\":0,\"ticks\":\"\"},\"colorscale\":[[0.0,\"#0d0887\"],[0.1111111111111111,\"#46039f\"],[0.2222222222222222,\"#7201a8\"],[0.3333333333333333,\"#9c179e\"],[0.4444444444444444,\"#bd3786\"],[0.5555555555555556,\"#d8576b\"],[0.6666666666666666,\"#ed7953\"],[0.7777777777777778,\"#fb9f3a\"],[0.8888888888888888,\"#fdca26\"],[1.0,\"#f0f921\"]]}],\"heatmapgl\":[{\"type\":\"heatmapgl\",\"colorbar\":{\"outlinewidth\":0,\"ticks\":\"\"},\"colorscale\":[[0.0,\"#0d0887\"],[0.1111111111111111,\"#46039f\"],[0.2222222222222222,\"#7201a8\"],[0.3333333333333333,\"#9c179e\"],[0.4444444444444444,\"#bd3786\"],[0.5555555555555556,\"#d8576b\"],[0.6666666666666666,\"#ed7953\"],[0.7777777777777778,\"#fb9f3a\"],[0.8888888888888888,\"#fdca26\"],[1.0,\"#f0f921\"]]}],\"contourcarpet\":[{\"type\":\"contourcarpet\",\"colorbar\":{\"outlinewidth\":0,\"ticks\":\"\"}}],\"contour\":[{\"type\":\"contour\",\"colorbar\":{\"outlinewidth\":0,\"ticks\":\"\"},\"colorscale\":[[0.0,\"#0d0887\"],[0.1111111111111111,\"#46039f\"],[0.2222222222222222,\"#7201a8\"],[0.3333333333333333,\"#9c179e\"],[0.4444444444444444,\"#bd3786\"],[0.5555555555555556,\"#d8576b\"],[0.6666666666666666,\"#ed7953\"],[0.7777777777777778,\"#fb9f3a\"],[0.8888888888888888,\"#fdca26\"],[1.0,\"#f0f921\"]]}],\"surface\":[{\"type\":\"surface\",\"colorbar\":{\"outlinewidth\":0,\"ticks\":\"\"},\"colorscale\":[[0.0,\"#0d0887\"],[0.1111111111111111,\"#46039f\"],[0.2222222222222222,\"#7201a8\"],[0.3333333333333333,\"#9c179e\"],[0.4444444444444444,\"#bd3786\"],[0.5555555555555556,\"#d8576b\"],[0.6666666666666666,\"#ed7953\"],[0.7777777777777778,\"#fb9f3a\"],[0.8888888888888888,\"#fdca26\"],[1.0,\"#f0f921\"]]}],\"mesh3d\":[{\"type\":\"mesh3d\",\"colorbar\":{\"outlinewidth\":0,\"ticks\":\"\"}}],\"scatter\":[{\"fillpattern\":{\"fillmode\":\"overlay\",\"size\":10,\"solidity\":0.2},\"type\":\"scatter\"}],\"parcoords\":[{\"type\":\"parcoords\",\"line\":{\"colorbar\":{\"outlinewidth\":0,\"ticks\":\"\"}}}],\"scatterpolargl\":[{\"type\":\"scatterpolargl\",\"marker\":{\"colorbar\":{\"outlinewidth\":0,\"ticks\":\"\"}}}],\"bar\":[{\"error_x\":{\"color\":\"#2a3f5f\"},\"error_y\":{\"color\":\"#2a3f5f\"},\"marker\":{\"line\":{\"color\":\"#E5ECF6\",\"width\":0.5},\"pattern\":{\"fillmode\":\"overlay\",\"size\":10,\"solidity\":0.2}},\"type\":\"bar\"}],\"scattergeo\":[{\"type\":\"scattergeo\",\"marker\":{\"colorbar\":{\"outlinewidth\":0,\"ticks\":\"\"}}}],\"scatterpolar\":[{\"type\":\"scatterpolar\",\"marker\":{\"colorbar\":{\"outlinewidth\":0,\"ticks\":\"\"}}}],\"histogram\":[{\"marker\":{\"pattern\":{\"fillmode\":\"overlay\",\"size\":10,\"solidity\":0.2}},\"type\":\"histogram\"}],\"scattergl\":[{\"type\":\"scattergl\",\"marker\":{\"colorbar\":{\"outlinewidth\":0,\"ticks\":\"\"}}}],\"scatter3d\":[{\"type\":\"scatter3d\",\"line\":{\"colorbar\":{\"outlinewidth\":0,\"ticks\":\"\"}},\"marker\":{\"colorbar\":{\"outlinewidth\":0,\"ticks\":\"\"}}}],\"scattermapbox\":[{\"type\":\"scattermapbox\",\"marker\":{\"colorbar\":{\"outlinewidth\":0,\"ticks\":\"\"}}}],\"scatterternary\":[{\"type\":\"scatterternary\",\"marker\":{\"colorbar\":{\"outlinewidth\":0,\"ticks\":\"\"}}}],\"scattercarpet\":[{\"type\":\"scattercarpet\",\"marker\":{\"colorbar\":{\"outlinewidth\":0,\"ticks\":\"\"}}}],\"carpet\":[{\"aaxis\":{\"endlinecolor\":\"#2a3f5f\",\"gridcolor\":\"white\",\"linecolor\":\"white\",\"minorgridcolor\":\"white\",\"startlinecolor\":\"#2a3f5f\"},\"baxis\":{\"endlinecolor\":\"#2a3f5f\",\"gridcolor\":\"white\",\"linecolor\":\"white\",\"minorgridcolor\":\"white\",\"startlinecolor\":\"#2a3f5f\"},\"type\":\"carpet\"}],\"table\":[{\"cells\":{\"fill\":{\"color\":\"#EBF0F8\"},\"line\":{\"color\":\"white\"}},\"header\":{\"fill\":{\"color\":\"#C8D4E3\"},\"line\":{\"color\":\"white\"}},\"type\":\"table\"}],\"barpolar\":[{\"marker\":{\"line\":{\"color\":\"#E5ECF6\",\"width\":0.5},\"pattern\":{\"fillmode\":\"overlay\",\"size\":10,\"solidity\":0.2}},\"type\":\"barpolar\"}],\"pie\":[{\"automargin\":true,\"type\":\"pie\"}]},\"layout\":{\"autotypenumbers\":\"strict\",\"colorway\":[\"#636efa\",\"#EF553B\",\"#00cc96\",\"#ab63fa\",\"#FFA15A\",\"#19d3f3\",\"#FF6692\",\"#B6E880\",\"#FF97FF\",\"#FECB52\"],\"font\":{\"color\":\"#2a3f5f\"},\"hovermode\":\"closest\",\"hoverlabel\":{\"align\":\"left\"},\"paper_bgcolor\":\"white\",\"plot_bgcolor\":\"#E5ECF6\",\"polar\":{\"bgcolor\":\"#E5ECF6\",\"angularaxis\":{\"gridcolor\":\"white\",\"linecolor\":\"white\",\"ticks\":\"\"},\"radialaxis\":{\"gridcolor\":\"white\",\"linecolor\":\"white\",\"ticks\":\"\"}},\"ternary\":{\"bgcolor\":\"#E5ECF6\",\"aaxis\":{\"gridcolor\":\"white\",\"linecolor\":\"white\",\"ticks\":\"\"},\"baxis\":{\"gridcolor\":\"white\",\"linecolor\":\"white\",\"ticks\":\"\"},\"caxis\":{\"gridcolor\":\"white\",\"linecolor\":\"white\",\"ticks\":\"\"}},\"coloraxis\":{\"colorbar\":{\"outlinewidth\":0,\"ticks\":\"\"}},\"colorscale\":{\"sequential\":[[0.0,\"#0d0887\"],[0.1111111111111111,\"#46039f\"],[0.2222222222222222,\"#7201a8\"],[0.3333333333333333,\"#9c179e\"],[0.4444444444444444,\"#bd3786\"],[0.5555555555555556,\"#d8576b\"],[0.6666666666666666,\"#ed7953\"],[0.7777777777777778,\"#fb9f3a\"],[0.8888888888888888,\"#fdca26\"],[1.0,\"#f0f921\"]],\"sequentialminus\":[[0.0,\"#0d0887\"],[0.1111111111111111,\"#46039f\"],[0.2222222222222222,\"#7201a8\"],[0.3333333333333333,\"#9c179e\"],[0.4444444444444444,\"#bd3786\"],[0.5555555555555556,\"#d8576b\"],[0.6666666666666666,\"#ed7953\"],[0.7777777777777778,\"#fb9f3a\"],[0.8888888888888888,\"#fdca26\"],[1.0,\"#f0f921\"]],\"diverging\":[[0,\"#8e0152\"],[0.1,\"#c51b7d\"],[0.2,\"#de77ae\"],[0.3,\"#f1b6da\"],[0.4,\"#fde0ef\"],[0.5,\"#f7f7f7\"],[0.6,\"#e6f5d0\"],[0.7,\"#b8e186\"],[0.8,\"#7fbc41\"],[0.9,\"#4d9221\"],[1,\"#276419\"]]},\"xaxis\":{\"gridcolor\":\"white\",\"linecolor\":\"white\",\"ticks\":\"\",\"title\":{\"standoff\":15},\"zerolinecolor\":\"white\",\"automargin\":true,\"zerolinewidth\":2},\"yaxis\":{\"gridcolor\":\"white\",\"linecolor\":\"white\",\"ticks\":\"\",\"title\":{\"standoff\":15},\"zerolinecolor\":\"white\",\"automargin\":true,\"zerolinewidth\":2},\"scene\":{\"xaxis\":{\"backgroundcolor\":\"#E5ECF6\",\"gridcolor\":\"white\",\"linecolor\":\"white\",\"showbackground\":true,\"ticks\":\"\",\"zerolinecolor\":\"white\",\"gridwidth\":2},\"yaxis\":{\"backgroundcolor\":\"#E5ECF6\",\"gridcolor\":\"white\",\"linecolor\":\"white\",\"showbackground\":true,\"ticks\":\"\",\"zerolinecolor\":\"white\",\"gridwidth\":2},\"zaxis\":{\"backgroundcolor\":\"#E5ECF6\",\"gridcolor\":\"white\",\"linecolor\":\"white\",\"showbackground\":true,\"ticks\":\"\",\"zerolinecolor\":\"white\",\"gridwidth\":2}},\"shapedefaults\":{\"line\":{\"color\":\"#2a3f5f\"}},\"annotationdefaults\":{\"arrowcolor\":\"#2a3f5f\",\"arrowhead\":0,\"arrowwidth\":1},\"geo\":{\"bgcolor\":\"white\",\"landcolor\":\"#E5ECF6\",\"subunitcolor\":\"white\",\"showland\":true,\"showlakes\":true,\"lakecolor\":\"white\"},\"title\":{\"x\":0.05},\"mapbox\":{\"style\":\"light\"}}},\"xaxis\":{\"anchor\":\"y\",\"domain\":[0.0,1.0],\"title\":{\"text\":\"Gameweek\"}},\"yaxis\":{\"anchor\":\"x\",\"domain\":[0.0,1.0],\"title\":{\"text\":\"League Position\"},\"autorange\":\"reversed\"},\"legend\":{\"title\":{\"text\":\"season\"},\"tracegroupgap\":0},\"margin\":{\"t\":60},\"title\":{\"text\":\"Man UTD league position by GW since 09/10\"}},                        {\"responsive\": true}                    ).then(function(){\n",
       "                            \n",
       "var gd = document.getElementById('79b63fdc-06bf-48aa-b590-2bfb0b66ca13');\n",
       "var x = new MutationObserver(function (mutations, observer) {{\n",
       "        var display = window.getComputedStyle(gd).display;\n",
       "        if (!display || display === 'none') {{\n",
       "            console.log([gd, 'removed!']);\n",
       "            Plotly.purge(gd);\n",
       "            observer.disconnect();\n",
       "        }}\n",
       "}});\n",
       "\n",
       "// Listen for the removal of the full notebook cells\n",
       "var notebookContainer = gd.closest('#notebook-container');\n",
       "if (notebookContainer) {{\n",
       "    x.observe(notebookContainer, {childList: true});\n",
       "}}\n",
       "\n",
       "// Listen for the clearing of the current output cell\n",
       "var outputEl = gd.closest('.output');\n",
       "if (outputEl) {{\n",
       "    x.observe(outputEl, {childList: true});\n",
       "}}\n",
       "\n",
       "                        })                };                });            </script>        </div>"
      ]
     },
     "metadata": {},
     "output_type": "display_data"
    }
   ],
   "source": [
    "pd.options.plotting.backend = \"plotly\"\n",
    "\n",
    "fig = df2.plot(labels = dict(index=\"Gameweek\",value=\"League Position\",variable=\"season\",line_shape=\"hv\"))\n",
    "fig['layout']['yaxis']['autorange'] = \"reversed\"\n",
    "fig.update_layout(title='Man UTD league position by GW since 09/10')\n",
    "fig.show(include_plotlyjs=False,output_type='div')"
   ]
  },
  {
   "cell_type": "code",
   "execution_count": 10,
   "metadata": {
    "tags": []
   },
   "outputs": [
    {
     "data": {
      "application/vnd.plotly.v1+json": {
       "config": {
        "plotlyServerURL": "https://plotly.com"
       },
       "data": [
        {
         "mode": "lines+markers",
         "name": "Avg Position",
         "type": "scatter",
         "x": [
          "09/10",
          "10/11",
          "11/12",
          "12/13",
          "13/14",
          "14/15",
          "15/16",
          "16/17",
          "17/18",
          "18/19",
          "19/20"
         ],
         "y": [
          2.210526315789474,
          1.6578947368421053,
          1.6578947368421053,
          1.868421052631579,
          7,
          5.2631578947368425,
          4.2631578947368425,
          5.473684210526316,
          1.9210526315789473,
          6.7368421052631575,
          6.2105263157894735
         ]
        },
        {
         "mode": "lines+markers",
         "name": "Final Position",
         "type": "scatter",
         "x": [
          "09/10",
          "10/11",
          "11/12",
          "12/13",
          "13/14",
          "14/15",
          "15/16",
          "16/17",
          "17/18",
          "18/19",
          "19/20"
         ],
         "y": [
          2,
          1,
          2,
          1,
          7,
          4,
          5,
          6,
          2,
          6,
          3
         ]
        }
       ],
       "layout": {
        "autosize": true,
        "template": {
         "data": {
          "bar": [
           {
            "error_x": {
             "color": "#2a3f5f"
            },
            "error_y": {
             "color": "#2a3f5f"
            },
            "marker": {
             "line": {
              "color": "#E5ECF6",
              "width": 0.5
             },
             "pattern": {
              "fillmode": "overlay",
              "size": 10,
              "solidity": 0.2
             }
            },
            "type": "bar"
           }
          ],
          "barpolar": [
           {
            "marker": {
             "line": {
              "color": "#E5ECF6",
              "width": 0.5
             },
             "pattern": {
              "fillmode": "overlay",
              "size": 10,
              "solidity": 0.2
             }
            },
            "type": "barpolar"
           }
          ],
          "carpet": [
           {
            "aaxis": {
             "endlinecolor": "#2a3f5f",
             "gridcolor": "white",
             "linecolor": "white",
             "minorgridcolor": "white",
             "startlinecolor": "#2a3f5f"
            },
            "baxis": {
             "endlinecolor": "#2a3f5f",
             "gridcolor": "white",
             "linecolor": "white",
             "minorgridcolor": "white",
             "startlinecolor": "#2a3f5f"
            },
            "type": "carpet"
           }
          ],
          "choropleth": [
           {
            "colorbar": {
             "outlinewidth": 0,
             "ticks": ""
            },
            "type": "choropleth"
           }
          ],
          "contour": [
           {
            "colorbar": {
             "outlinewidth": 0,
             "ticks": ""
            },
            "colorscale": [
             [
              0,
              "#0d0887"
             ],
             [
              0.1111111111111111,
              "#46039f"
             ],
             [
              0.2222222222222222,
              "#7201a8"
             ],
             [
              0.3333333333333333,
              "#9c179e"
             ],
             [
              0.4444444444444444,
              "#bd3786"
             ],
             [
              0.5555555555555556,
              "#d8576b"
             ],
             [
              0.6666666666666666,
              "#ed7953"
             ],
             [
              0.7777777777777778,
              "#fb9f3a"
             ],
             [
              0.8888888888888888,
              "#fdca26"
             ],
             [
              1,
              "#f0f921"
             ]
            ],
            "type": "contour"
           }
          ],
          "contourcarpet": [
           {
            "colorbar": {
             "outlinewidth": 0,
             "ticks": ""
            },
            "type": "contourcarpet"
           }
          ],
          "heatmap": [
           {
            "colorbar": {
             "outlinewidth": 0,
             "ticks": ""
            },
            "colorscale": [
             [
              0,
              "#0d0887"
             ],
             [
              0.1111111111111111,
              "#46039f"
             ],
             [
              0.2222222222222222,
              "#7201a8"
             ],
             [
              0.3333333333333333,
              "#9c179e"
             ],
             [
              0.4444444444444444,
              "#bd3786"
             ],
             [
              0.5555555555555556,
              "#d8576b"
             ],
             [
              0.6666666666666666,
              "#ed7953"
             ],
             [
              0.7777777777777778,
              "#fb9f3a"
             ],
             [
              0.8888888888888888,
              "#fdca26"
             ],
             [
              1,
              "#f0f921"
             ]
            ],
            "type": "heatmap"
           }
          ],
          "heatmapgl": [
           {
            "colorbar": {
             "outlinewidth": 0,
             "ticks": ""
            },
            "colorscale": [
             [
              0,
              "#0d0887"
             ],
             [
              0.1111111111111111,
              "#46039f"
             ],
             [
              0.2222222222222222,
              "#7201a8"
             ],
             [
              0.3333333333333333,
              "#9c179e"
             ],
             [
              0.4444444444444444,
              "#bd3786"
             ],
             [
              0.5555555555555556,
              "#d8576b"
             ],
             [
              0.6666666666666666,
              "#ed7953"
             ],
             [
              0.7777777777777778,
              "#fb9f3a"
             ],
             [
              0.8888888888888888,
              "#fdca26"
             ],
             [
              1,
              "#f0f921"
             ]
            ],
            "type": "heatmapgl"
           }
          ],
          "histogram": [
           {
            "marker": {
             "pattern": {
              "fillmode": "overlay",
              "size": 10,
              "solidity": 0.2
             }
            },
            "type": "histogram"
           }
          ],
          "histogram2d": [
           {
            "colorbar": {
             "outlinewidth": 0,
             "ticks": ""
            },
            "colorscale": [
             [
              0,
              "#0d0887"
             ],
             [
              0.1111111111111111,
              "#46039f"
             ],
             [
              0.2222222222222222,
              "#7201a8"
             ],
             [
              0.3333333333333333,
              "#9c179e"
             ],
             [
              0.4444444444444444,
              "#bd3786"
             ],
             [
              0.5555555555555556,
              "#d8576b"
             ],
             [
              0.6666666666666666,
              "#ed7953"
             ],
             [
              0.7777777777777778,
              "#fb9f3a"
             ],
             [
              0.8888888888888888,
              "#fdca26"
             ],
             [
              1,
              "#f0f921"
             ]
            ],
            "type": "histogram2d"
           }
          ],
          "histogram2dcontour": [
           {
            "colorbar": {
             "outlinewidth": 0,
             "ticks": ""
            },
            "colorscale": [
             [
              0,
              "#0d0887"
             ],
             [
              0.1111111111111111,
              "#46039f"
             ],
             [
              0.2222222222222222,
              "#7201a8"
             ],
             [
              0.3333333333333333,
              "#9c179e"
             ],
             [
              0.4444444444444444,
              "#bd3786"
             ],
             [
              0.5555555555555556,
              "#d8576b"
             ],
             [
              0.6666666666666666,
              "#ed7953"
             ],
             [
              0.7777777777777778,
              "#fb9f3a"
             ],
             [
              0.8888888888888888,
              "#fdca26"
             ],
             [
              1,
              "#f0f921"
             ]
            ],
            "type": "histogram2dcontour"
           }
          ],
          "mesh3d": [
           {
            "colorbar": {
             "outlinewidth": 0,
             "ticks": ""
            },
            "type": "mesh3d"
           }
          ],
          "parcoords": [
           {
            "line": {
             "colorbar": {
              "outlinewidth": 0,
              "ticks": ""
             }
            },
            "type": "parcoords"
           }
          ],
          "pie": [
           {
            "automargin": true,
            "type": "pie"
           }
          ],
          "scatter": [
           {
            "fillpattern": {
             "fillmode": "overlay",
             "size": 10,
             "solidity": 0.2
            },
            "type": "scatter"
           }
          ],
          "scatter3d": [
           {
            "line": {
             "colorbar": {
              "outlinewidth": 0,
              "ticks": ""
             }
            },
            "marker": {
             "colorbar": {
              "outlinewidth": 0,
              "ticks": ""
             }
            },
            "type": "scatter3d"
           }
          ],
          "scattercarpet": [
           {
            "marker": {
             "colorbar": {
              "outlinewidth": 0,
              "ticks": ""
             }
            },
            "type": "scattercarpet"
           }
          ],
          "scattergeo": [
           {
            "marker": {
             "colorbar": {
              "outlinewidth": 0,
              "ticks": ""
             }
            },
            "type": "scattergeo"
           }
          ],
          "scattergl": [
           {
            "marker": {
             "colorbar": {
              "outlinewidth": 0,
              "ticks": ""
             }
            },
            "type": "scattergl"
           }
          ],
          "scattermapbox": [
           {
            "marker": {
             "colorbar": {
              "outlinewidth": 0,
              "ticks": ""
             }
            },
            "type": "scattermapbox"
           }
          ],
          "scatterpolar": [
           {
            "marker": {
             "colorbar": {
              "outlinewidth": 0,
              "ticks": ""
             }
            },
            "type": "scatterpolar"
           }
          ],
          "scatterpolargl": [
           {
            "marker": {
             "colorbar": {
              "outlinewidth": 0,
              "ticks": ""
             }
            },
            "type": "scatterpolargl"
           }
          ],
          "scatterternary": [
           {
            "marker": {
             "colorbar": {
              "outlinewidth": 0,
              "ticks": ""
             }
            },
            "type": "scatterternary"
           }
          ],
          "surface": [
           {
            "colorbar": {
             "outlinewidth": 0,
             "ticks": ""
            },
            "colorscale": [
             [
              0,
              "#0d0887"
             ],
             [
              0.1111111111111111,
              "#46039f"
             ],
             [
              0.2222222222222222,
              "#7201a8"
             ],
             [
              0.3333333333333333,
              "#9c179e"
             ],
             [
              0.4444444444444444,
              "#bd3786"
             ],
             [
              0.5555555555555556,
              "#d8576b"
             ],
             [
              0.6666666666666666,
              "#ed7953"
             ],
             [
              0.7777777777777778,
              "#fb9f3a"
             ],
             [
              0.8888888888888888,
              "#fdca26"
             ],
             [
              1,
              "#f0f921"
             ]
            ],
            "type": "surface"
           }
          ],
          "table": [
           {
            "cells": {
             "fill": {
              "color": "#EBF0F8"
             },
             "line": {
              "color": "white"
             }
            },
            "header": {
             "fill": {
              "color": "#C8D4E3"
             },
             "line": {
              "color": "white"
             }
            },
            "type": "table"
           }
          ]
         },
         "layout": {
          "annotationdefaults": {
           "arrowcolor": "#2a3f5f",
           "arrowhead": 0,
           "arrowwidth": 1
          },
          "autotypenumbers": "strict",
          "coloraxis": {
           "colorbar": {
            "outlinewidth": 0,
            "ticks": ""
           }
          },
          "colorscale": {
           "diverging": [
            [
             0,
             "#8e0152"
            ],
            [
             0.1,
             "#c51b7d"
            ],
            [
             0.2,
             "#de77ae"
            ],
            [
             0.3,
             "#f1b6da"
            ],
            [
             0.4,
             "#fde0ef"
            ],
            [
             0.5,
             "#f7f7f7"
            ],
            [
             0.6,
             "#e6f5d0"
            ],
            [
             0.7,
             "#b8e186"
            ],
            [
             0.8,
             "#7fbc41"
            ],
            [
             0.9,
             "#4d9221"
            ],
            [
             1,
             "#276419"
            ]
           ],
           "sequential": [
            [
             0,
             "#0d0887"
            ],
            [
             0.1111111111111111,
             "#46039f"
            ],
            [
             0.2222222222222222,
             "#7201a8"
            ],
            [
             0.3333333333333333,
             "#9c179e"
            ],
            [
             0.4444444444444444,
             "#bd3786"
            ],
            [
             0.5555555555555556,
             "#d8576b"
            ],
            [
             0.6666666666666666,
             "#ed7953"
            ],
            [
             0.7777777777777778,
             "#fb9f3a"
            ],
            [
             0.8888888888888888,
             "#fdca26"
            ],
            [
             1,
             "#f0f921"
            ]
           ],
           "sequentialminus": [
            [
             0,
             "#0d0887"
            ],
            [
             0.1111111111111111,
             "#46039f"
            ],
            [
             0.2222222222222222,
             "#7201a8"
            ],
            [
             0.3333333333333333,
             "#9c179e"
            ],
            [
             0.4444444444444444,
             "#bd3786"
            ],
            [
             0.5555555555555556,
             "#d8576b"
            ],
            [
             0.6666666666666666,
             "#ed7953"
            ],
            [
             0.7777777777777778,
             "#fb9f3a"
            ],
            [
             0.8888888888888888,
             "#fdca26"
            ],
            [
             1,
             "#f0f921"
            ]
           ]
          },
          "colorway": [
           "#636efa",
           "#EF553B",
           "#00cc96",
           "#ab63fa",
           "#FFA15A",
           "#19d3f3",
           "#FF6692",
           "#B6E880",
           "#FF97FF",
           "#FECB52"
          ],
          "font": {
           "color": "#2a3f5f"
          },
          "geo": {
           "bgcolor": "white",
           "lakecolor": "white",
           "landcolor": "#E5ECF6",
           "showlakes": true,
           "showland": true,
           "subunitcolor": "white"
          },
          "hoverlabel": {
           "align": "left"
          },
          "hovermode": "closest",
          "mapbox": {
           "style": "light"
          },
          "paper_bgcolor": "white",
          "plot_bgcolor": "#E5ECF6",
          "polar": {
           "angularaxis": {
            "gridcolor": "white",
            "linecolor": "white",
            "ticks": ""
           },
           "bgcolor": "#E5ECF6",
           "radialaxis": {
            "gridcolor": "white",
            "linecolor": "white",
            "ticks": ""
           }
          },
          "scene": {
           "xaxis": {
            "backgroundcolor": "#E5ECF6",
            "gridcolor": "white",
            "gridwidth": 2,
            "linecolor": "white",
            "showbackground": true,
            "ticks": "",
            "zerolinecolor": "white"
           },
           "yaxis": {
            "backgroundcolor": "#E5ECF6",
            "gridcolor": "white",
            "gridwidth": 2,
            "linecolor": "white",
            "showbackground": true,
            "ticks": "",
            "zerolinecolor": "white"
           },
           "zaxis": {
            "backgroundcolor": "#E5ECF6",
            "gridcolor": "white",
            "gridwidth": 2,
            "linecolor": "white",
            "showbackground": true,
            "ticks": "",
            "zerolinecolor": "white"
           }
          },
          "shapedefaults": {
           "line": {
            "color": "#2a3f5f"
           }
          },
          "ternary": {
           "aaxis": {
            "gridcolor": "white",
            "linecolor": "white",
            "ticks": ""
           },
           "baxis": {
            "gridcolor": "white",
            "linecolor": "white",
            "ticks": ""
           },
           "bgcolor": "#E5ECF6",
           "caxis": {
            "gridcolor": "white",
            "linecolor": "white",
            "ticks": ""
           }
          },
          "title": {
           "x": 0.05
          },
          "xaxis": {
           "automargin": true,
           "gridcolor": "white",
           "linecolor": "white",
           "ticks": "",
           "title": {
            "standoff": 15
           },
           "zerolinecolor": "white",
           "zerolinewidth": 2
          },
          "yaxis": {
           "automargin": true,
           "gridcolor": "white",
           "linecolor": "white",
           "ticks": "",
           "title": {
            "standoff": 15
           },
           "zerolinecolor": "white",
           "zerolinewidth": 2
          }
         }
        },
        "title": {
         "text": "Avg Position vs Actual Final Position"
        },
        "xaxis": {
         "autorange": true,
         "range": [
          -0.6313682678311501,
          10.63136826783115
         ],
         "type": "category"
        },
        "yaxis": {
         "autorange": true,
         "range": [
          7.495145631067961,
          0.5048543689320388
         ],
         "type": "linear"
        }
       }
      },
      "image/png": "[encoded data removed]",
      "text/html": [
       "<div>                            <div id=\"a31e108b-9ee9-48c5-8185-6e89b35cf0d5\" class=\"plotly-graph-div\" style=\"height:525px; width:100%;\"></div>            <script type=\"text/javascript\">                require([\"plotly\"], function(Plotly) {                    window.PLOTLYENV=window.PLOTLYENV || {};                                    if (document.getElementById(\"a31e108b-9ee9-48c5-8185-6e89b35cf0d5\")) {                    Plotly.newPlot(                        \"a31e108b-9ee9-48c5-8185-6e89b35cf0d5\",                        [{\"mode\":\"lines+markers\",\"name\":\"Avg Position\",\"x\":[\"09/10\",\"10/11\",\"11/12\",\"12/13\",\"13/14\",\"14/15\",\"15/16\",\"16/17\",\"17/18\",\"18/19\",\"19/20\"],\"y\":[2.210526315789474,1.6578947368421053,1.6578947368421053,1.868421052631579,7.0,5.2631578947368425,4.2631578947368425,5.473684210526316,1.9210526315789473,6.7368421052631575,6.2105263157894735],\"type\":\"scatter\"},{\"mode\":\"lines+markers\",\"name\":\"Final Position\",\"x\":[\"09/10\",\"10/11\",\"11/12\",\"12/13\",\"13/14\",\"14/15\",\"15/16\",\"16/17\",\"17/18\",\"18/19\",\"19/20\"],\"y\":[2,1,2,1,7,4,5,6,2,6,3],\"type\":\"scatter\"}],                        {\"template\":{\"data\":{\"histogram2dcontour\":[{\"type\":\"histogram2dcontour\",\"colorbar\":{\"outlinewidth\":0,\"ticks\":\"\"},\"colorscale\":[[0.0,\"#0d0887\"],[0.1111111111111111,\"#46039f\"],[0.2222222222222222,\"#7201a8\"],[0.3333333333333333,\"#9c179e\"],[0.4444444444444444,\"#bd3786\"],[0.5555555555555556,\"#d8576b\"],[0.6666666666666666,\"#ed7953\"],[0.7777777777777778,\"#fb9f3a\"],[0.8888888888888888,\"#fdca26\"],[1.0,\"#f0f921\"]]}],\"choropleth\":[{\"type\":\"choropleth\",\"colorbar\":{\"outlinewidth\":0,\"ticks\":\"\"}}],\"histogram2d\":[{\"type\":\"histogram2d\",\"colorbar\":{\"outlinewidth\":0,\"ticks\":\"\"},\"colorscale\":[[0.0,\"#0d0887\"],[0.1111111111111111,\"#46039f\"],[0.2222222222222222,\"#7201a8\"],[0.3333333333333333,\"#9c179e\"],[0.4444444444444444,\"#bd3786\"],[0.5555555555555556,\"#d8576b\"],[0.6666666666666666,\"#ed7953\"],[0.7777777777777778,\"#fb9f3a\"],[0.8888888888888888,\"#fdca26\"],[1.0,\"#f0f921\"]]}],\"heatmap\":[{\"type\":\"heatmap\",\"colorbar\":{\"outlinewidth\":0,\"ticks\":\"\"},\"colorscale\":[[0.0,\"#0d0887\"],[0.1111111111111111,\"#46039f\"],[0.2222222222222222,\"#7201a8\"],[0.3333333333333333,\"#9c179e\"],[0.4444444444444444,\"#bd3786\"],[0.5555555555555556,\"#d8576b\"],[0.6666666666666666,\"#ed7953\"],[0.7777777777777778,\"#fb9f3a\"],[0.8888888888888888,\"#fdca26\"],[1.0,\"#f0f921\"]]}],\"heatmapgl\":[{\"type\":\"heatmapgl\",\"colorbar\":{\"outlinewidth\":0,\"ticks\":\"\"},\"colorscale\":[[0.0,\"#0d0887\"],[0.1111111111111111,\"#46039f\"],[0.2222222222222222,\"#7201a8\"],[0.3333333333333333,\"#9c179e\"],[0.4444444444444444,\"#bd3786\"],[0.5555555555555556,\"#d8576b\"],[0.6666666666666666,\"#ed7953\"],[0.7777777777777778,\"#fb9f3a\"],[0.8888888888888888,\"#fdca26\"],[1.0,\"#f0f921\"]]}],\"contourcarpet\":[{\"type\":\"contourcarpet\",\"colorbar\":{\"outlinewidth\":0,\"ticks\":\"\"}}],\"contour\":[{\"type\":\"contour\",\"colorbar\":{\"outlinewidth\":0,\"ticks\":\"\"},\"colorscale\":[[0.0,\"#0d0887\"],[0.1111111111111111,\"#46039f\"],[0.2222222222222222,\"#7201a8\"],[0.3333333333333333,\"#9c179e\"],[0.4444444444444444,\"#bd3786\"],[0.5555555555555556,\"#d8576b\"],[0.6666666666666666,\"#ed7953\"],[0.7777777777777778,\"#fb9f3a\"],[0.8888888888888888,\"#fdca26\"],[1.0,\"#f0f921\"]]}],\"surface\":[{\"type\":\"surface\",\"colorbar\":{\"outlinewidth\":0,\"ticks\":\"\"},\"colorscale\":[[0.0,\"#0d0887\"],[0.1111111111111111,\"#46039f\"],[0.2222222222222222,\"#7201a8\"],[0.3333333333333333,\"#9c179e\"],[0.4444444444444444,\"#bd3786\"],[0.5555555555555556,\"#d8576b\"],[0.6666666666666666,\"#ed7953\"],[0.7777777777777778,\"#fb9f3a\"],[0.8888888888888888,\"#fdca26\"],[1.0,\"#f0f921\"]]}],\"mesh3d\":[{\"type\":\"mesh3d\",\"colorbar\":{\"outlinewidth\":0,\"ticks\":\"\"}}],\"scatter\":[{\"fillpattern\":{\"fillmode\":\"overlay\",\"size\":10,\"solidity\":0.2},\"type\":\"scatter\"}],\"parcoords\":[{\"type\":\"parcoords\",\"line\":{\"colorbar\":{\"outlinewidth\":0,\"ticks\":\"\"}}}],\"scatterpolargl\":[{\"type\":\"scatterpolargl\",\"marker\":{\"colorbar\":{\"outlinewidth\":0,\"ticks\":\"\"}}}],\"bar\":[{\"error_x\":{\"color\":\"#2a3f5f\"},\"error_y\":{\"color\":\"#2a3f5f\"},\"marker\":{\"line\":{\"color\":\"#E5ECF6\",\"width\":0.5},\"pattern\":{\"fillmode\":\"overlay\",\"size\":10,\"solidity\":0.2}},\"type\":\"bar\"}],\"scattergeo\":[{\"type\":\"scattergeo\",\"marker\":{\"colorbar\":{\"outlinewidth\":0,\"ticks\":\"\"}}}],\"scatterpolar\":[{\"type\":\"scatterpolar\",\"marker\":{\"colorbar\":{\"outlinewidth\":0,\"ticks\":\"\"}}}],\"histogram\":[{\"marker\":{\"pattern\":{\"fillmode\":\"overlay\",\"size\":10,\"solidity\":0.2}},\"type\":\"histogram\"}],\"scattergl\":[{\"type\":\"scattergl\",\"marker\":{\"colorbar\":{\"outlinewidth\":0,\"ticks\":\"\"}}}],\"scatter3d\":[{\"type\":\"scatter3d\",\"line\":{\"colorbar\":{\"outlinewidth\":0,\"ticks\":\"\"}},\"marker\":{\"colorbar\":{\"outlinewidth\":0,\"ticks\":\"\"}}}],\"scattermapbox\":[{\"type\":\"scattermapbox\",\"marker\":{\"colorbar\":{\"outlinewidth\":0,\"ticks\":\"\"}}}],\"scatterternary\":[{\"type\":\"scatterternary\",\"marker\":{\"colorbar\":{\"outlinewidth\":0,\"ticks\":\"\"}}}],\"scattercarpet\":[{\"type\":\"scattercarpet\",\"marker\":{\"colorbar\":{\"outlinewidth\":0,\"ticks\":\"\"}}}],\"carpet\":[{\"aaxis\":{\"endlinecolor\":\"#2a3f5f\",\"gridcolor\":\"white\",\"linecolor\":\"white\",\"minorgridcolor\":\"white\",\"startlinecolor\":\"#2a3f5f\"},\"baxis\":{\"endlinecolor\":\"#2a3f5f\",\"gridcolor\":\"white\",\"linecolor\":\"white\",\"minorgridcolor\":\"white\",\"startlinecolor\":\"#2a3f5f\"},\"type\":\"carpet\"}],\"table\":[{\"cells\":{\"fill\":{\"color\":\"#EBF0F8\"},\"line\":{\"color\":\"white\"}},\"header\":{\"fill\":{\"color\":\"#C8D4E3\"},\"line\":{\"color\":\"white\"}},\"type\":\"table\"}],\"barpolar\":[{\"marker\":{\"line\":{\"color\":\"#E5ECF6\",\"width\":0.5},\"pattern\":{\"fillmode\":\"overlay\",\"size\":10,\"solidity\":0.2}},\"type\":\"barpolar\"}],\"pie\":[{\"automargin\":true,\"type\":\"pie\"}]},\"layout\":{\"autotypenumbers\":\"strict\",\"colorway\":[\"#636efa\",\"#EF553B\",\"#00cc96\",\"#ab63fa\",\"#FFA15A\",\"#19d3f3\",\"#FF6692\",\"#B6E880\",\"#FF97FF\",\"#FECB52\"],\"font\":{\"color\":\"#2a3f5f\"},\"hovermode\":\"closest\",\"hoverlabel\":{\"align\":\"left\"},\"paper_bgcolor\":\"white\",\"plot_bgcolor\":\"#E5ECF6\",\"polar\":{\"bgcolor\":\"#E5ECF6\",\"angularaxis\":{\"gridcolor\":\"white\",\"linecolor\":\"white\",\"ticks\":\"\"},\"radialaxis\":{\"gridcolor\":\"white\",\"linecolor\":\"white\",\"ticks\":\"\"}},\"ternary\":{\"bgcolor\":\"#E5ECF6\",\"aaxis\":{\"gridcolor\":\"white\",\"linecolor\":\"white\",\"ticks\":\"\"},\"baxis\":{\"gridcolor\":\"white\",\"linecolor\":\"white\",\"ticks\":\"\"},\"caxis\":{\"gridcolor\":\"white\",\"linecolor\":\"white\",\"ticks\":\"\"}},\"coloraxis\":{\"colorbar\":{\"outlinewidth\":0,\"ticks\":\"\"}},\"colorscale\":{\"sequential\":[[0.0,\"#0d0887\"],[0.1111111111111111,\"#46039f\"],[0.2222222222222222,\"#7201a8\"],[0.3333333333333333,\"#9c179e\"],[0.4444444444444444,\"#bd3786\"],[0.5555555555555556,\"#d8576b\"],[0.6666666666666666,\"#ed7953\"],[0.7777777777777778,\"#fb9f3a\"],[0.8888888888888888,\"#fdca26\"],[1.0,\"#f0f921\"]],\"sequentialminus\":[[0.0,\"#0d0887\"],[0.1111111111111111,\"#46039f\"],[0.2222222222222222,\"#7201a8\"],[0.3333333333333333,\"#9c179e\"],[0.4444444444444444,\"#bd3786\"],[0.5555555555555556,\"#d8576b\"],[0.6666666666666666,\"#ed7953\"],[0.7777777777777778,\"#fb9f3a\"],[0.8888888888888888,\"#fdca26\"],[1.0,\"#f0f921\"]],\"diverging\":[[0,\"#8e0152\"],[0.1,\"#c51b7d\"],[0.2,\"#de77ae\"],[0.3,\"#f1b6da\"],[0.4,\"#fde0ef\"],[0.5,\"#f7f7f7\"],[0.6,\"#e6f5d0\"],[0.7,\"#b8e186\"],[0.8,\"#7fbc41\"],[0.9,\"#4d9221\"],[1,\"#276419\"]]},\"xaxis\":{\"gridcolor\":\"white\",\"linecolor\":\"white\",\"ticks\":\"\",\"title\":{\"standoff\":15},\"zerolinecolor\":\"white\",\"automargin\":true,\"zerolinewidth\":2},\"yaxis\":{\"gridcolor\":\"white\",\"linecolor\":\"white\",\"ticks\":\"\",\"title\":{\"standoff\":15},\"zerolinecolor\":\"white\",\"automargin\":true,\"zerolinewidth\":2},\"scene\":{\"xaxis\":{\"backgroundcolor\":\"#E5ECF6\",\"gridcolor\":\"white\",\"linecolor\":\"white\",\"showbackground\":true,\"ticks\":\"\",\"zerolinecolor\":\"white\",\"gridwidth\":2},\"yaxis\":{\"backgroundcolor\":\"#E5ECF6\",\"gridcolor\":\"white\",\"linecolor\":\"white\",\"showbackground\":true,\"ticks\":\"\",\"zerolinecolor\":\"white\",\"gridwidth\":2},\"zaxis\":{\"backgroundcolor\":\"#E5ECF6\",\"gridcolor\":\"white\",\"linecolor\":\"white\",\"showbackground\":true,\"ticks\":\"\",\"zerolinecolor\":\"white\",\"gridwidth\":2}},\"shapedefaults\":{\"line\":{\"color\":\"#2a3f5f\"}},\"annotationdefaults\":{\"arrowcolor\":\"#2a3f5f\",\"arrowhead\":0,\"arrowwidth\":1},\"geo\":{\"bgcolor\":\"white\",\"landcolor\":\"#E5ECF6\",\"subunitcolor\":\"white\",\"showland\":true,\"showlakes\":true,\"lakecolor\":\"white\"},\"title\":{\"x\":0.05},\"mapbox\":{\"style\":\"light\"}}},\"title\":{\"text\":\"Avg Position vs Actual Final Position\"},\"yaxis\":{\"autorange\":\"reversed\"}},                        {\"responsive\": true}                    ).then(function(){\n",
       "                            \n",
       "var gd = document.getElementById('a31e108b-9ee9-48c5-8185-6e89b35cf0d5');\n",
       "var x = new MutationObserver(function (mutations, observer) {{\n",
       "        var display = window.getComputedStyle(gd).display;\n",
       "        if (!display || display === 'none') {{\n",
       "            console.log([gd, 'removed!']);\n",
       "            Plotly.purge(gd);\n",
       "            observer.disconnect();\n",
       "        }}\n",
       "}});\n",
       "\n",
       "// Listen for the removal of the full notebook cells\n",
       "var notebookContainer = gd.closest('#notebook-container');\n",
       "if (notebookContainer) {{\n",
       "    x.observe(notebookContainer, {childList: true});\n",
       "}}\n",
       "\n",
       "// Listen for the clearing of the current output cell\n",
       "var outputEl = gd.closest('.output');\n",
       "if (outputEl) {{\n",
       "    x.observe(outputEl, {childList: true});\n",
       "}}\n",
       "\n",
       "                        })                };                });            </script>        </div>"
      ]
     },
     "metadata": {},
     "output_type": "display_data"
    }
   ],
   "source": [
    "years = df2.columns\n",
    "\n",
    "# fig2 = go.Figure(data=[go.Table(header=dict(values=['Season','Average Position', 'Final Position']),\n",
    "#                  cells=dict(values=[df2.columns,avg_pos, [2,1,2,1,7,4,5,6,2,6,3]]))\n",
    "#                      ])\n",
    "\n",
    "fig2 = go.Figure()\n",
    "fig2.add_trace(go.Scatter(x=years, y=avg_pos,\n",
    "                    mode='lines+markers',\n",
    "                    name='Avg Position'))\n",
    "fig2.add_trace(go.Scatter(x=years, y= [2,1,2,1,7,4,5,6,2,6,3],\n",
    "                    mode='lines+markers',\n",
    "                    name='Final Position'))\n",
    "fig2.update_layout(title='Avg Position vs Actual Final Position')\n",
    "fig2['layout']['yaxis']['autorange'] = \"reversed\"\n",
    "\n",
    "fig2.show()"
   ]
  },
  {
   "cell_type": "markdown",
   "metadata": {},
   "source": [
    "### We can see that since the 09/10 season, the team usually finishes at the position that it stays near for the entire season. The over-performance of 19/20 season, from an average to 6.2 to 3, can be attributed to Bruno Fernandes\n",
    "##### (Bruno Fernandes, a Portuguese International, arrived at Manchester United on January 29th, 2020, basically in the middle of the 19/20 season. His influence was nothing short of amazing; Manchester United went undefeated for the remainder of the season (14 games), and to this day, Manchester United only lost 3 Premier League games.)"
   ]
  },
  {
   "cell_type": "markdown",
   "metadata": {},
   "source": [
    "### As of today, 1/15/2021, Manchester United are 17 games in and has averaged about 10th place.\n",
    "### It is not surprising nor offensive when rival fans doubt Manchester United's long-term success.\n",
    "### If Manchester United wins ALL of the remaining 21 games\n",
    "#### 1. the team will have averaged about 5th place and\n",
    "#### 2. also win the league (as it stands, no team can overthrow United from 1st place)\n",
    "\n",
    "### At least for the past decade, no Manchester United side has had that big of a (mid-season) turnaround, bar the 19/20 season, so it remains questionable that Manchester United can mount as PL champions, although it seems like United may comfrotably title challengers and a top 4 side."
   ]
  },
  {
   "cell_type": "markdown",
   "metadata": {},
   "source": [
    "## A look inside FIFA ratings (compared to top flight PL teams)\n",
    "\n",
    "\n",
    "\n",
    "#### In recent history, ever since Manchester United last won the PL, four different teams have been crowned champions: Liverpool, Chelsea, Man City, and Leicester City\n",
    "\n",
    "#### How did we compare to these teams? Let's see."
   ]
  },
  {
   "cell_type": "code",
   "execution_count": 11,
   "metadata": {
    "tags": []
   },
   "outputs": [],
   "source": [
    "pl_champs = ['Liverpool','Chelsea','Manchester City','Leicester City', 'Manchester United']"
   ]
  },
  {
   "cell_type": "code",
   "execution_count": 17,
   "metadata": {
    "tags": [
     "remove_cell"
    ]
   },
   "outputs": [],
   "source": [
    "ratings = [[],[],[],[],[]]\n",
    "\n",
    "df15 = pd.read_csv(r'data/players_15.csv')\n",
    "df16 = pd.read_csv(r'data/players_16.csv')\n",
    "df17 = pd.read_csv(r'data/players_17.csv')\n",
    "df18 = pd.read_csv(r'data/players_18.csv')\n",
    "df19 = pd.read_csv(r'data/players_19.csv')\n",
    "df20 = pd.read_csv(r'data/players_20.csv')\n",
    "\n",
    "def champ_mean(plchamps,df,lists):\n",
    "    for champ,i in zip(plchamps,range(5)):\n",
    "        lists[i].append(df.loc[df['club'] == champ ]['overall'].mean())\n",
    "\n",
    "dfs = [df15,df16,df17,df18,df19,df20]\n",
    "\n",
    "for df in dfs:\n",
    "    champ_mean(pl_champs,df,ratings)"
   ]
  },
  {
   "cell_type": "code",
   "execution_count": 18,
   "metadata": {
    "tags": []
   },
   "outputs": [
    {
     "data": {
      "application/vnd.plotly.v1+json": {
       "config": {
        "plotlyServerURL": "https://plotly.com"
       },
       "data": [
        {
         "hoverinfo": "text+name",
         "line": {
          "shape": "linear"
         },
         "mode": "lines+markers",
         "name": "Liverpool",
         "type": "scatter",
         "x": [
          "14/15",
          "15/16",
          "16/17",
          "17/18",
          "18/19",
          "19/20"
         ],
         "y": [
          73.06060606060606,
          76.11111111111111,
          74.72727272727273,
          75.9090909090909,
          76,
          75.84848484848484
         ]
        },
        {
         "hoverinfo": "text+name",
         "line": {
          "shape": "linear"
         },
         "mode": "lines+markers",
         "name": "Chelsea",
         "type": "scatter",
         "x": [
          "14/15",
          "15/16",
          "16/17",
          "17/18",
          "18/19",
          "19/20"
         ],
         "y": [
          73.27272727272727,
          76.32142857142857,
          75.54545454545455,
          76.51515151515152,
          76.78787878787878,
          77.06060606060606
         ]
        },
        {
         "hoverinfo": "text+name",
         "line": {
          "shape": "linear"
         },
         "mode": "lines+markers",
         "name": "Manchester City",
         "type": "scatter",
         "x": [
          "14/15",
          "15/16",
          "16/17",
          "17/18",
          "18/19",
          "19/20"
         ],
         "y": [
          73.42424242424242,
          77.20689655172414,
          75.54545454545455,
          74.12121212121212,
          76.84848484848484,
          77
         ]
        },
        {
         "hoverinfo": "text+name",
         "line": {
          "shape": "linear"
         },
         "mode": "lines+markers",
         "name": "Leicester City",
         "type": "scatter",
         "x": [
          "14/15",
          "15/16",
          "16/17",
          "17/18",
          "18/19",
          "19/20"
         ],
         "y": [
          66.45454545454545,
          69.38709677419355,
          71.51515151515152,
          72.18181818181819,
          73.96969696969697,
          74.36363636363636
         ]
        },
        {
         "hoverinfo": "text+name",
         "line": {
          "shape": "linear"
         },
         "mode": "lines+markers",
         "name": "Manchester United",
         "type": "scatter",
         "x": [
          "14/15",
          "15/16",
          "16/17",
          "17/18",
          "18/19",
          "19/20"
         ],
         "y": [
          73.39393939393939,
          76.25925925925925,
          77.90625,
          77.66666666666667,
          77.45454545454545,
          76.84848484848484
         ]
        }
       ],
       "layout": {
        "autosize": true,
        "legend": {
         "font": {
          "size": 16
         },
         "traceorder": "reversed",
         "x": 1.02,
         "y": 0.5
        },
        "template": {
         "data": {
          "bar": [
           {
            "error_x": {
             "color": "#2a3f5f"
            },
            "error_y": {
             "color": "#2a3f5f"
            },
            "marker": {
             "line": {
              "color": "#E5ECF6",
              "width": 0.5
             },
             "pattern": {
              "fillmode": "overlay",
              "size": 10,
              "solidity": 0.2
             }
            },
            "type": "bar"
           }
          ],
          "barpolar": [
           {
            "marker": {
             "line": {
              "color": "#E5ECF6",
              "width": 0.5
             },
             "pattern": {
              "fillmode": "overlay",
              "size": 10,
              "solidity": 0.2
             }
            },
            "type": "barpolar"
           }
          ],
          "carpet": [
           {
            "aaxis": {
             "endlinecolor": "#2a3f5f",
             "gridcolor": "white",
             "linecolor": "white",
             "minorgridcolor": "white",
             "startlinecolor": "#2a3f5f"
            },
            "baxis": {
             "endlinecolor": "#2a3f5f",
             "gridcolor": "white",
             "linecolor": "white",
             "minorgridcolor": "white",
             "startlinecolor": "#2a3f5f"
            },
            "type": "carpet"
           }
          ],
          "choropleth": [
           {
            "colorbar": {
             "outlinewidth": 0,
             "ticks": ""
            },
            "type": "choropleth"
           }
          ],
          "contour": [
           {
            "colorbar": {
             "outlinewidth": 0,
             "ticks": ""
            },
            "colorscale": [
             [
              0,
              "#0d0887"
             ],
             [
              0.1111111111111111,
              "#46039f"
             ],
             [
              0.2222222222222222,
              "#7201a8"
             ],
             [
              0.3333333333333333,
              "#9c179e"
             ],
             [
              0.4444444444444444,
              "#bd3786"
             ],
             [
              0.5555555555555556,
              "#d8576b"
             ],
             [
              0.6666666666666666,
              "#ed7953"
             ],
             [
              0.7777777777777778,
              "#fb9f3a"
             ],
             [
              0.8888888888888888,
              "#fdca26"
             ],
             [
              1,
              "#f0f921"
             ]
            ],
            "type": "contour"
           }
          ],
          "contourcarpet": [
           {
            "colorbar": {
             "outlinewidth": 0,
             "ticks": ""
            },
            "type": "contourcarpet"
           }
          ],
          "heatmap": [
           {
            "colorbar": {
             "outlinewidth": 0,
             "ticks": ""
            },
            "colorscale": [
             [
              0,
              "#0d0887"
             ],
             [
              0.1111111111111111,
              "#46039f"
             ],
             [
              0.2222222222222222,
              "#7201a8"
             ],
             [
              0.3333333333333333,
              "#9c179e"
             ],
             [
              0.4444444444444444,
              "#bd3786"
             ],
             [
              0.5555555555555556,
              "#d8576b"
             ],
             [
              0.6666666666666666,
              "#ed7953"
             ],
             [
              0.7777777777777778,
              "#fb9f3a"
             ],
             [
              0.8888888888888888,
              "#fdca26"
             ],
             [
              1,
              "#f0f921"
             ]
            ],
            "type": "heatmap"
           }
          ],
          "heatmapgl": [
           {
            "colorbar": {
             "outlinewidth": 0,
             "ticks": ""
            },
            "colorscale": [
             [
              0,
              "#0d0887"
             ],
             [
              0.1111111111111111,
              "#46039f"
             ],
             [
              0.2222222222222222,
              "#7201a8"
             ],
             [
              0.3333333333333333,
              "#9c179e"
             ],
             [
              0.4444444444444444,
              "#bd3786"
             ],
             [
              0.5555555555555556,
              "#d8576b"
             ],
             [
              0.6666666666666666,
              "#ed7953"
             ],
             [
              0.7777777777777778,
              "#fb9f3a"
             ],
             [
              0.8888888888888888,
              "#fdca26"
             ],
             [
              1,
              "#f0f921"
             ]
            ],
            "type": "heatmapgl"
           }
          ],
          "histogram": [
           {
            "marker": {
             "pattern": {
              "fillmode": "overlay",
              "size": 10,
              "solidity": 0.2
             }
            },
            "type": "histogram"
           }
          ],
          "histogram2d": [
           {
            "colorbar": {
             "outlinewidth": 0,
             "ticks": ""
            },
            "colorscale": [
             [
              0,
              "#0d0887"
             ],
             [
              0.1111111111111111,
              "#46039f"
             ],
             [
              0.2222222222222222,
              "#7201a8"
             ],
             [
              0.3333333333333333,
              "#9c179e"
             ],
             [
              0.4444444444444444,
              "#bd3786"
             ],
             [
              0.5555555555555556,
              "#d8576b"
             ],
             [
              0.6666666666666666,
              "#ed7953"
             ],
             [
              0.7777777777777778,
              "#fb9f3a"
             ],
             [
              0.8888888888888888,
              "#fdca26"
             ],
             [
              1,
              "#f0f921"
             ]
            ],
            "type": "histogram2d"
           }
          ],
          "histogram2dcontour": [
           {
            "colorbar": {
             "outlinewidth": 0,
             "ticks": ""
            },
            "colorscale": [
             [
              0,
              "#0d0887"
             ],
             [
              0.1111111111111111,
              "#46039f"
             ],
             [
              0.2222222222222222,
              "#7201a8"
             ],
             [
              0.3333333333333333,
              "#9c179e"
             ],
             [
              0.4444444444444444,
              "#bd3786"
             ],
             [
              0.5555555555555556,
              "#d8576b"
             ],
             [
              0.6666666666666666,
              "#ed7953"
             ],
             [
              0.7777777777777778,
              "#fb9f3a"
             ],
             [
              0.8888888888888888,
              "#fdca26"
             ],
             [
              1,
              "#f0f921"
             ]
            ],
            "type": "histogram2dcontour"
           }
          ],
          "mesh3d": [
           {
            "colorbar": {
             "outlinewidth": 0,
             "ticks": ""
            },
            "type": "mesh3d"
           }
          ],
          "parcoords": [
           {
            "line": {
             "colorbar": {
              "outlinewidth": 0,
              "ticks": ""
             }
            },
            "type": "parcoords"
           }
          ],
          "pie": [
           {
            "automargin": true,
            "type": "pie"
           }
          ],
          "scatter": [
           {
            "fillpattern": {
             "fillmode": "overlay",
             "size": 10,
             "solidity": 0.2
            },
            "type": "scatter"
           }
          ],
          "scatter3d": [
           {
            "line": {
             "colorbar": {
              "outlinewidth": 0,
              "ticks": ""
             }
            },
            "marker": {
             "colorbar": {
              "outlinewidth": 0,
              "ticks": ""
             }
            },
            "type": "scatter3d"
           }
          ],
          "scattercarpet": [
           {
            "marker": {
             "colorbar": {
              "outlinewidth": 0,
              "ticks": ""
             }
            },
            "type": "scattercarpet"
           }
          ],
          "scattergeo": [
           {
            "marker": {
             "colorbar": {
              "outlinewidth": 0,
              "ticks": ""
             }
            },
            "type": "scattergeo"
           }
          ],
          "scattergl": [
           {
            "marker": {
             "colorbar": {
              "outlinewidth": 0,
              "ticks": ""
             }
            },
            "type": "scattergl"
           }
          ],
          "scattermapbox": [
           {
            "marker": {
             "colorbar": {
              "outlinewidth": 0,
              "ticks": ""
             }
            },
            "type": "scattermapbox"
           }
          ],
          "scatterpolar": [
           {
            "marker": {
             "colorbar": {
              "outlinewidth": 0,
              "ticks": ""
             }
            },
            "type": "scatterpolar"
           }
          ],
          "scatterpolargl": [
           {
            "marker": {
             "colorbar": {
              "outlinewidth": 0,
              "ticks": ""
             }
            },
            "type": "scatterpolargl"
           }
          ],
          "scatterternary": [
           {
            "marker": {
             "colorbar": {
              "outlinewidth": 0,
              "ticks": ""
             }
            },
            "type": "scatterternary"
           }
          ],
          "surface": [
           {
            "colorbar": {
             "outlinewidth": 0,
             "ticks": ""
            },
            "colorscale": [
             [
              0,
              "#0d0887"
             ],
             [
              0.1111111111111111,
              "#46039f"
             ],
             [
              0.2222222222222222,
              "#7201a8"
             ],
             [
              0.3333333333333333,
              "#9c179e"
             ],
             [
              0.4444444444444444,
              "#bd3786"
             ],
             [
              0.5555555555555556,
              "#d8576b"
             ],
             [
              0.6666666666666666,
              "#ed7953"
             ],
             [
              0.7777777777777778,
              "#fb9f3a"
             ],
             [
              0.8888888888888888,
              "#fdca26"
             ],
             [
              1,
              "#f0f921"
             ]
            ],
            "type": "surface"
           }
          ],
          "table": [
           {
            "cells": {
             "fill": {
              "color": "#EBF0F8"
             },
             "line": {
              "color": "white"
             }
            },
            "header": {
             "fill": {
              "color": "#C8D4E3"
             },
             "line": {
              "color": "white"
             }
            },
            "type": "table"
           }
          ]
         },
         "layout": {
          "annotationdefaults": {
           "arrowcolor": "#2a3f5f",
           "arrowhead": 0,
           "arrowwidth": 1
          },
          "autotypenumbers": "strict",
          "coloraxis": {
           "colorbar": {
            "outlinewidth": 0,
            "ticks": ""
           }
          },
          "colorscale": {
           "diverging": [
            [
             0,
             "#8e0152"
            ],
            [
             0.1,
             "#c51b7d"
            ],
            [
             0.2,
             "#de77ae"
            ],
            [
             0.3,
             "#f1b6da"
            ],
            [
             0.4,
             "#fde0ef"
            ],
            [
             0.5,
             "#f7f7f7"
            ],
            [
             0.6,
             "#e6f5d0"
            ],
            [
             0.7,
             "#b8e186"
            ],
            [
             0.8,
             "#7fbc41"
            ],
            [
             0.9,
             "#4d9221"
            ],
            [
             1,
             "#276419"
            ]
           ],
           "sequential": [
            [
             0,
             "#0d0887"
            ],
            [
             0.1111111111111111,
             "#46039f"
            ],
            [
             0.2222222222222222,
             "#7201a8"
            ],
            [
             0.3333333333333333,
             "#9c179e"
            ],
            [
             0.4444444444444444,
             "#bd3786"
            ],
            [
             0.5555555555555556,
             "#d8576b"
            ],
            [
             0.6666666666666666,
             "#ed7953"
            ],
            [
             0.7777777777777778,
             "#fb9f3a"
            ],
            [
             0.8888888888888888,
             "#fdca26"
            ],
            [
             1,
             "#f0f921"
            ]
           ],
           "sequentialminus": [
            [
             0,
             "#0d0887"
            ],
            [
             0.1111111111111111,
             "#46039f"
            ],
            [
             0.2222222222222222,
             "#7201a8"
            ],
            [
             0.3333333333333333,
             "#9c179e"
            ],
            [
             0.4444444444444444,
             "#bd3786"
            ],
            [
             0.5555555555555556,
             "#d8576b"
            ],
            [
             0.6666666666666666,
             "#ed7953"
            ],
            [
             0.7777777777777778,
             "#fb9f3a"
            ],
            [
             0.8888888888888888,
             "#fdca26"
            ],
            [
             1,
             "#f0f921"
            ]
           ]
          },
          "colorway": [
           "#636efa",
           "#EF553B",
           "#00cc96",
           "#ab63fa",
           "#FFA15A",
           "#19d3f3",
           "#FF6692",
           "#B6E880",
           "#FF97FF",
           "#FECB52"
          ],
          "font": {
           "color": "#2a3f5f"
          },
          "geo": {
           "bgcolor": "white",
           "lakecolor": "white",
           "landcolor": "#E5ECF6",
           "showlakes": true,
           "showland": true,
           "subunitcolor": "white"
          },
          "hoverlabel": {
           "align": "left"
          },
          "hovermode": "closest",
          "mapbox": {
           "style": "light"
          },
          "paper_bgcolor": "white",
          "plot_bgcolor": "#E5ECF6",
          "polar": {
           "angularaxis": {
            "gridcolor": "white",
            "linecolor": "white",
            "ticks": ""
           },
           "bgcolor": "#E5ECF6",
           "radialaxis": {
            "gridcolor": "white",
            "linecolor": "white",
            "ticks": ""
           }
          },
          "scene": {
           "xaxis": {
            "backgroundcolor": "#E5ECF6",
            "gridcolor": "white",
            "gridwidth": 2,
            "linecolor": "white",
            "showbackground": true,
            "ticks": "",
            "zerolinecolor": "white"
           },
           "yaxis": {
            "backgroundcolor": "#E5ECF6",
            "gridcolor": "white",
            "gridwidth": 2,
            "linecolor": "white",
            "showbackground": true,
            "ticks": "",
            "zerolinecolor": "white"
           },
           "zaxis": {
            "backgroundcolor": "#E5ECF6",
            "gridcolor": "white",
            "gridwidth": 2,
            "linecolor": "white",
            "showbackground": true,
            "ticks": "",
            "zerolinecolor": "white"
           }
          },
          "shapedefaults": {
           "line": {
            "color": "#2a3f5f"
           }
          },
          "ternary": {
           "aaxis": {
            "gridcolor": "white",
            "linecolor": "white",
            "ticks": ""
           },
           "baxis": {
            "gridcolor": "white",
            "linecolor": "white",
            "ticks": ""
           },
           "bgcolor": "#E5ECF6",
           "caxis": {
            "gridcolor": "white",
            "linecolor": "white",
            "ticks": ""
           }
          },
          "title": {
           "x": 0.05
          },
          "xaxis": {
           "automargin": true,
           "gridcolor": "white",
           "linecolor": "white",
           "ticks": "",
           "title": {
            "standoff": 15
           },
           "zerolinecolor": "white",
           "zerolinewidth": 2
          },
          "yaxis": {
           "automargin": true,
           "gridcolor": "white",
           "linecolor": "white",
           "ticks": "",
           "title": {
            "standoff": 15
           },
           "zerolinecolor": "white",
           "zerolinewidth": 2
          }
         }
        },
        "title": {
         "text": "Mean FIFA ratings across top PL teams"
        },
        "xaxis": {
         "autorange": true,
         "range": [
          -0.32051282051282054,
          5.32051282051282
         ],
         "type": "category"
        },
        "yaxis": {
         "autorange": true,
         "range": [
          65.50950187555163,
          78.85129357899382
         ],
         "type": "linear"
        }
       }
      },
      "image/png": "[encoded data removed]",
      "text/html": [
       "<div>                            <div id=\"30f9da11-6b9f-4e34-938a-3ad85f03c2ac\" class=\"plotly-graph-div\" style=\"height:525px; width:100%;\"></div>            <script type=\"text/javascript\">                require([\"plotly\"], function(Plotly) {                    window.PLOTLYENV=window.PLOTLYENV || {};                                    if (document.getElementById(\"30f9da11-6b9f-4e34-938a-3ad85f03c2ac\")) {                    Plotly.newPlot(                        \"30f9da11-6b9f-4e34-938a-3ad85f03c2ac\",                        [{\"line\":{\"shape\":\"linear\"},\"name\":\"Liverpool\",\"x\":[\"14/15\",\"15/16\",\"16/17\",\"17/18\",\"18/19\",\"19/20\"],\"y\":[73.06060606060606,76.11111111111111,74.72727272727273,75.9090909090909,76.0,75.84848484848484],\"type\":\"scatter\",\"hoverinfo\":\"text+name\",\"mode\":\"lines+markers\"},{\"line\":{\"shape\":\"linear\"},\"name\":\"Chelsea\",\"x\":[\"14/15\",\"15/16\",\"16/17\",\"17/18\",\"18/19\",\"19/20\"],\"y\":[73.27272727272727,76.32142857142857,75.54545454545455,76.51515151515152,76.78787878787878,77.06060606060606],\"type\":\"scatter\",\"hoverinfo\":\"text+name\",\"mode\":\"lines+markers\"},{\"line\":{\"shape\":\"linear\"},\"name\":\"Manchester City\",\"x\":[\"14/15\",\"15/16\",\"16/17\",\"17/18\",\"18/19\",\"19/20\"],\"y\":[73.42424242424242,77.20689655172414,75.54545454545455,74.12121212121212,76.84848484848484,77.0],\"type\":\"scatter\",\"hoverinfo\":\"text+name\",\"mode\":\"lines+markers\"},{\"line\":{\"shape\":\"linear\"},\"name\":\"Leicester City\",\"x\":[\"14/15\",\"15/16\",\"16/17\",\"17/18\",\"18/19\",\"19/20\"],\"y\":[66.45454545454545,69.38709677419355,71.51515151515152,72.18181818181819,73.96969696969697,74.36363636363636],\"type\":\"scatter\",\"hoverinfo\":\"text+name\",\"mode\":\"lines+markers\"},{\"line\":{\"shape\":\"linear\"},\"name\":\"Manchester United\",\"x\":[\"14/15\",\"15/16\",\"16/17\",\"17/18\",\"18/19\",\"19/20\"],\"y\":[73.39393939393939,76.25925925925925,77.90625,77.66666666666667,77.45454545454545,76.84848484848484],\"type\":\"scatter\",\"hoverinfo\":\"text+name\",\"mode\":\"lines+markers\"}],                        {\"template\":{\"data\":{\"histogram2dcontour\":[{\"type\":\"histogram2dcontour\",\"colorbar\":{\"outlinewidth\":0,\"ticks\":\"\"},\"colorscale\":[[0.0,\"#0d0887\"],[0.1111111111111111,\"#46039f\"],[0.2222222222222222,\"#7201a8\"],[0.3333333333333333,\"#9c179e\"],[0.4444444444444444,\"#bd3786\"],[0.5555555555555556,\"#d8576b\"],[0.6666666666666666,\"#ed7953\"],[0.7777777777777778,\"#fb9f3a\"],[0.8888888888888888,\"#fdca26\"],[1.0,\"#f0f921\"]]}],\"choropleth\":[{\"type\":\"choropleth\",\"colorbar\":{\"outlinewidth\":0,\"ticks\":\"\"}}],\"histogram2d\":[{\"type\":\"histogram2d\",\"colorbar\":{\"outlinewidth\":0,\"ticks\":\"\"},\"colorscale\":[[0.0,\"#0d0887\"],[0.1111111111111111,\"#46039f\"],[0.2222222222222222,\"#7201a8\"],[0.3333333333333333,\"#9c179e\"],[0.4444444444444444,\"#bd3786\"],[0.5555555555555556,\"#d8576b\"],[0.6666666666666666,\"#ed7953\"],[0.7777777777777778,\"#fb9f3a\"],[0.8888888888888888,\"#fdca26\"],[1.0,\"#f0f921\"]]}],\"heatmap\":[{\"type\":\"heatmap\",\"colorbar\":{\"outlinewidth\":0,\"ticks\":\"\"},\"colorscale\":[[0.0,\"#0d0887\"],[0.1111111111111111,\"#46039f\"],[0.2222222222222222,\"#7201a8\"],[0.3333333333333333,\"#9c179e\"],[0.4444444444444444,\"#bd3786\"],[0.5555555555555556,\"#d8576b\"],[0.6666666666666666,\"#ed7953\"],[0.7777777777777778,\"#fb9f3a\"],[0.8888888888888888,\"#fdca26\"],[1.0,\"#f0f921\"]]}],\"heatmapgl\":[{\"type\":\"heatmapgl\",\"colorbar\":{\"outlinewidth\":0,\"ticks\":\"\"},\"colorscale\":[[0.0,\"#0d0887\"],[0.1111111111111111,\"#46039f\"],[0.2222222222222222,\"#7201a8\"],[0.3333333333333333,\"#9c179e\"],[0.4444444444444444,\"#bd3786\"],[0.5555555555555556,\"#d8576b\"],[0.6666666666666666,\"#ed7953\"],[0.7777777777777778,\"#fb9f3a\"],[0.8888888888888888,\"#fdca26\"],[1.0,\"#f0f921\"]]}],\"contourcarpet\":[{\"type\":\"contourcarpet\",\"colorbar\":{\"outlinewidth\":0,\"ticks\":\"\"}}],\"contour\":[{\"type\":\"contour\",\"colorbar\":{\"outlinewidth\":0,\"ticks\":\"\"},\"colorscale\":[[0.0,\"#0d0887\"],[0.1111111111111111,\"#46039f\"],[0.2222222222222222,\"#7201a8\"],[0.3333333333333333,\"#9c179e\"],[0.4444444444444444,\"#bd3786\"],[0.5555555555555556,\"#d8576b\"],[0.6666666666666666,\"#ed7953\"],[0.7777777777777778,\"#fb9f3a\"],[0.8888888888888888,\"#fdca26\"],[1.0,\"#f0f921\"]]}],\"surface\":[{\"type\":\"surface\",\"colorbar\":{\"outlinewidth\":0,\"ticks\":\"\"},\"colorscale\":[[0.0,\"#0d0887\"],[0.1111111111111111,\"#46039f\"],[0.2222222222222222,\"#7201a8\"],[0.3333333333333333,\"#9c179e\"],[0.4444444444444444,\"#bd3786\"],[0.5555555555555556,\"#d8576b\"],[0.6666666666666666,\"#ed7953\"],[0.7777777777777778,\"#fb9f3a\"],[0.8888888888888888,\"#fdca26\"],[1.0,\"#f0f921\"]]}],\"mesh3d\":[{\"type\":\"mesh3d\",\"colorbar\":{\"outlinewidth\":0,\"ticks\":\"\"}}],\"scatter\":[{\"fillpattern\":{\"fillmode\":\"overlay\",\"size\":10,\"solidity\":0.2},\"type\":\"scatter\"}],\"parcoords\":[{\"type\":\"parcoords\",\"line\":{\"colorbar\":{\"outlinewidth\":0,\"ticks\":\"\"}}}],\"scatterpolargl\":[{\"type\":\"scatterpolargl\",\"marker\":{\"colorbar\":{\"outlinewidth\":0,\"ticks\":\"\"}}}],\"bar\":[{\"error_x\":{\"color\":\"#2a3f5f\"},\"error_y\":{\"color\":\"#2a3f5f\"},\"marker\":{\"line\":{\"color\":\"#E5ECF6\",\"width\":0.5},\"pattern\":{\"fillmode\":\"overlay\",\"size\":10,\"solidity\":0.2}},\"type\":\"bar\"}],\"scattergeo\":[{\"type\":\"scattergeo\",\"marker\":{\"colorbar\":{\"outlinewidth\":0,\"ticks\":\"\"}}}],\"scatterpolar\":[{\"type\":\"scatterpolar\",\"marker\":{\"colorbar\":{\"outlinewidth\":0,\"ticks\":\"\"}}}],\"histogram\":[{\"marker\":{\"pattern\":{\"fillmode\":\"overlay\",\"size\":10,\"solidity\":0.2}},\"type\":\"histogram\"}],\"scattergl\":[{\"type\":\"scattergl\",\"marker\":{\"colorbar\":{\"outlinewidth\":0,\"ticks\":\"\"}}}],\"scatter3d\":[{\"type\":\"scatter3d\",\"line\":{\"colorbar\":{\"outlinewidth\":0,\"ticks\":\"\"}},\"marker\":{\"colorbar\":{\"outlinewidth\":0,\"ticks\":\"\"}}}],\"scattermapbox\":[{\"type\":\"scattermapbox\",\"marker\":{\"colorbar\":{\"outlinewidth\":0,\"ticks\":\"\"}}}],\"scatterternary\":[{\"type\":\"scatterternary\",\"marker\":{\"colorbar\":{\"outlinewidth\":0,\"ticks\":\"\"}}}],\"scattercarpet\":[{\"type\":\"scattercarpet\",\"marker\":{\"colorbar\":{\"outlinewidth\":0,\"ticks\":\"\"}}}],\"carpet\":[{\"aaxis\":{\"endlinecolor\":\"#2a3f5f\",\"gridcolor\":\"white\",\"linecolor\":\"white\",\"minorgridcolor\":\"white\",\"startlinecolor\":\"#2a3f5f\"},\"baxis\":{\"endlinecolor\":\"#2a3f5f\",\"gridcolor\":\"white\",\"linecolor\":\"white\",\"minorgridcolor\":\"white\",\"startlinecolor\":\"#2a3f5f\"},\"type\":\"carpet\"}],\"table\":[{\"cells\":{\"fill\":{\"color\":\"#EBF0F8\"},\"line\":{\"color\":\"white\"}},\"header\":{\"fill\":{\"color\":\"#C8D4E3\"},\"line\":{\"color\":\"white\"}},\"type\":\"table\"}],\"barpolar\":[{\"marker\":{\"line\":{\"color\":\"#E5ECF6\",\"width\":0.5},\"pattern\":{\"fillmode\":\"overlay\",\"size\":10,\"solidity\":0.2}},\"type\":\"barpolar\"}],\"pie\":[{\"automargin\":true,\"type\":\"pie\"}]},\"layout\":{\"autotypenumbers\":\"strict\",\"colorway\":[\"#636efa\",\"#EF553B\",\"#00cc96\",\"#ab63fa\",\"#FFA15A\",\"#19d3f3\",\"#FF6692\",\"#B6E880\",\"#FF97FF\",\"#FECB52\"],\"font\":{\"color\":\"#2a3f5f\"},\"hovermode\":\"closest\",\"hoverlabel\":{\"align\":\"left\"},\"paper_bgcolor\":\"white\",\"plot_bgcolor\":\"#E5ECF6\",\"polar\":{\"bgcolor\":\"#E5ECF6\",\"angularaxis\":{\"gridcolor\":\"white\",\"linecolor\":\"white\",\"ticks\":\"\"},\"radialaxis\":{\"gridcolor\":\"white\",\"linecolor\":\"white\",\"ticks\":\"\"}},\"ternary\":{\"bgcolor\":\"#E5ECF6\",\"aaxis\":{\"gridcolor\":\"white\",\"linecolor\":\"white\",\"ticks\":\"\"},\"baxis\":{\"gridcolor\":\"white\",\"linecolor\":\"white\",\"ticks\":\"\"},\"caxis\":{\"gridcolor\":\"white\",\"linecolor\":\"white\",\"ticks\":\"\"}},\"coloraxis\":{\"colorbar\":{\"outlinewidth\":0,\"ticks\":\"\"}},\"colorscale\":{\"sequential\":[[0.0,\"#0d0887\"],[0.1111111111111111,\"#46039f\"],[0.2222222222222222,\"#7201a8\"],[0.3333333333333333,\"#9c179e\"],[0.4444444444444444,\"#bd3786\"],[0.5555555555555556,\"#d8576b\"],[0.6666666666666666,\"#ed7953\"],[0.7777777777777778,\"#fb9f3a\"],[0.8888888888888888,\"#fdca26\"],[1.0,\"#f0f921\"]],\"sequentialminus\":[[0.0,\"#0d0887\"],[0.1111111111111111,\"#46039f\"],[0.2222222222222222,\"#7201a8\"],[0.3333333333333333,\"#9c179e\"],[0.4444444444444444,\"#bd3786\"],[0.5555555555555556,\"#d8576b\"],[0.6666666666666666,\"#ed7953\"],[0.7777777777777778,\"#fb9f3a\"],[0.8888888888888888,\"#fdca26\"],[1.0,\"#f0f921\"]],\"diverging\":[[0,\"#8e0152\"],[0.1,\"#c51b7d\"],[0.2,\"#de77ae\"],[0.3,\"#f1b6da\"],[0.4,\"#fde0ef\"],[0.5,\"#f7f7f7\"],[0.6,\"#e6f5d0\"],[0.7,\"#b8e186\"],[0.8,\"#7fbc41\"],[0.9,\"#4d9221\"],[1,\"#276419\"]]},\"xaxis\":{\"gridcolor\":\"white\",\"linecolor\":\"white\",\"ticks\":\"\",\"title\":{\"standoff\":15},\"zerolinecolor\":\"white\",\"automargin\":true,\"zerolinewidth\":2},\"yaxis\":{\"gridcolor\":\"white\",\"linecolor\":\"white\",\"ticks\":\"\",\"title\":{\"standoff\":15},\"zerolinecolor\":\"white\",\"automargin\":true,\"zerolinewidth\":2},\"scene\":{\"xaxis\":{\"backgroundcolor\":\"#E5ECF6\",\"gridcolor\":\"white\",\"linecolor\":\"white\",\"showbackground\":true,\"ticks\":\"\",\"zerolinecolor\":\"white\",\"gridwidth\":2},\"yaxis\":{\"backgroundcolor\":\"#E5ECF6\",\"gridcolor\":\"white\",\"linecolor\":\"white\",\"showbackground\":true,\"ticks\":\"\",\"zerolinecolor\":\"white\",\"gridwidth\":2},\"zaxis\":{\"backgroundcolor\":\"#E5ECF6\",\"gridcolor\":\"white\",\"linecolor\":\"white\",\"showbackground\":true,\"ticks\":\"\",\"zerolinecolor\":\"white\",\"gridwidth\":2}},\"shapedefaults\":{\"line\":{\"color\":\"#2a3f5f\"}},\"annotationdefaults\":{\"arrowcolor\":\"#2a3f5f\",\"arrowhead\":0,\"arrowwidth\":1},\"geo\":{\"bgcolor\":\"white\",\"landcolor\":\"#E5ECF6\",\"subunitcolor\":\"white\",\"showland\":true,\"showlakes\":true,\"lakecolor\":\"white\"},\"title\":{\"x\":0.05},\"mapbox\":{\"style\":\"light\"}}},\"legend\":{\"font\":{\"size\":16},\"y\":0.5,\"traceorder\":\"reversed\"},\"title\":{\"text\":\"Mean FIFA ratings across top PL teams\"}},                        {\"responsive\": true}                    ).then(function(){\n",
       "                            \n",
       "var gd = document.getElementById('30f9da11-6b9f-4e34-938a-3ad85f03c2ac');\n",
       "var x = new MutationObserver(function (mutations, observer) {{\n",
       "        var display = window.getComputedStyle(gd).display;\n",
       "        if (!display || display === 'none') {{\n",
       "            console.log([gd, 'removed!']);\n",
       "            Plotly.purge(gd);\n",
       "            observer.disconnect();\n",
       "        }}\n",
       "}});\n",
       "\n",
       "// Listen for the removal of the full notebook cells\n",
       "var notebookContainer = gd.closest('#notebook-container');\n",
       "if (notebookContainer) {{\n",
       "    x.observe(notebookContainer, {childList: true});\n",
       "}}\n",
       "\n",
       "// Listen for the clearing of the current output cell\n",
       "var outputEl = gd.closest('.output');\n",
       "if (outputEl) {{\n",
       "    x.observe(outputEl, {childList: true});\n",
       "}}\n",
       "\n",
       "                        })                };                });            </script>        </div>"
      ]
     },
     "metadata": {},
     "output_type": "display_data"
    }
   ],
   "source": [
    "fig3 = go.Figure()\n",
    "\n",
    "x = years[5:]\n",
    "\n",
    "for i in range(5):\n",
    "    fig3.add_trace(go.Scatter(x=x, y=ratings[i], name=pl_champs[i],\n",
    "                    line_shape='linear'))\n",
    "fig3.update_traces(hoverinfo='text+name', mode='lines+markers')\n",
    "fig3.update_layout(legend=dict(y=0.5, traceorder='reversed', font_size=16))\n",
    "fig3.update_layout(title='Mean FIFA ratings across top PL teams')"
   ]
  },
  {
   "cell_type": "markdown",
   "metadata": {},
   "source": [
    "### We can see that United never really had that much of an inferior team compared to top teams\n",
    "### Especially in the 16/17 season, Manchester United had by far the highest rated team in the PL and yet they finished 6th in the league. Let's look at how the squad actually compared to the top 3 teams that season.\n",
    "\n",
    "### However, there's definitely more to these numbers... let's look at the entire squad roster of some teams vs Man Utd."
   ]
  },
  {
   "cell_type": "code",
   "execution_count": 19,
   "metadata": {
    "tags": []
   },
   "outputs": [],
   "source": [
    "def display_side_by_side(*args):\n",
    "    html_str=''\n",
    "    for df in args:\n",
    "        html_str+=df.to_html()\n",
    "    display_html(html_str.replace('table','table style=\"display:inline\"'),raw=True)"
   ]
  },
  {
   "cell_type": "code",
   "execution_count": 20,
   "metadata": {
    "tags": []
   },
   "outputs": [
    {
     "data": {
      "text/html": [
       "<style type=\"text/css\">\n",
       "#T_a9abb_row0_col1, #T_a9abb_row1_col1 {\n",
       "  background-color: #67000d;\n",
       "  color: #f1f1f1;\n",
       "}\n",
       "#T_a9abb_row2_col1 {\n",
       "  background-color: #840711;\n",
       "  color: #f1f1f1;\n",
       "}\n",
       "#T_a9abb_row3_col1 {\n",
       "  background-color: #ac1117;\n",
       "  color: #f1f1f1;\n",
       "}\n",
       "#T_a9abb_row4_col1, #T_a9abb_row5_col1, #T_a9abb_row6_col1 {\n",
       "  background-color: #b61319;\n",
       "  color: #f1f1f1;\n",
       "}\n",
       "#T_a9abb_row7_col1 {\n",
       "  background-color: #bf151b;\n",
       "  color: #f1f1f1;\n",
       "}\n",
       "#T_a9abb_row8_col1, #T_a9abb_row9_col1, #T_a9abb_row10_col1, #T_a9abb_row11_col1 {\n",
       "  background-color: #c9181d;\n",
       "  color: #f1f1f1;\n",
       "}\n",
       "#T_a9abb_row12_col1, #T_a9abb_row13_col1, #T_a9abb_row14_col1 {\n",
       "  background-color: #d11e1f;\n",
       "  color: #f1f1f1;\n",
       "}\n",
       "#T_a9abb_row15_col1, #T_a9abb_row16_col1, #T_a9abb_row17_col1 {\n",
       "  background-color: #da2723;\n",
       "  color: #f1f1f1;\n",
       "}\n",
       "#T_a9abb_row18_col1, #T_a9abb_row19_col1, #T_a9abb_row20_col1 {\n",
       "  background-color: #e32f27;\n",
       "  color: #f1f1f1;\n",
       "}\n",
       "#T_a9abb_row21_col1, #T_a9abb_row22_col1 {\n",
       "  background-color: #ec382b;\n",
       "  color: #f1f1f1;\n",
       "}\n",
       "#T_a9abb_row23_col1 {\n",
       "  background-color: #f14130;\n",
       "  color: #f1f1f1;\n",
       "}\n",
       "#T_a9abb_row24_col1 {\n",
       "  background-color: #f44d38;\n",
       "  color: #f1f1f1;\n",
       "}\n",
       "#T_a9abb_row25_col1 {\n",
       "  background-color: #fc8262;\n",
       "  color: #f1f1f1;\n",
       "}\n",
       "#T_a9abb_row26_col1 {\n",
       "  background-color: #fca082;\n",
       "  color: #000000;\n",
       "}\n",
       "#T_a9abb_row27_col1 {\n",
       "  background-color: #fcaa8d;\n",
       "  color: #000000;\n",
       "}\n",
       "#T_a9abb_row28_col1 {\n",
       "  background-color: #fdc6b0;\n",
       "  color: #000000;\n",
       "}\n",
       "#T_a9abb_row29_col1 {\n",
       "  background-color: #fdd0bc;\n",
       "  color: #000000;\n",
       "}\n",
       "#T_a9abb_row30_col1 {\n",
       "  background-color: #fff0e9;\n",
       "  color: #000000;\n",
       "}\n",
       "#T_a9abb_row31_col1 {\n",
       "  background-color: #fff5f0;\n",
       "  color: #000000;\n",
       "}\n",
       "</style>\n",
       "<table id=\"T_a9abb\" style='display:inline'>\n",
       "  <caption>16/17 Man Utd (6th) </caption>\n",
       "  <thead>\n",
       "    <tr>\n",
       "      <th class=\"blank level0\" >&nbsp;</th>\n",
       "      <th id=\"T_a9abb_level0_col0\" class=\"col_heading level0 col0\" >short_name</th>\n",
       "      <th id=\"T_a9abb_level0_col1\" class=\"col_heading level0 col1\" >overall</th>\n",
       "    </tr>\n",
       "  </thead>\n",
       "  <tbody>\n",
       "    <tr>\n",
       "      <th id=\"T_a9abb_level0_row0\" class=\"row_heading level0 row0\" >5</th>\n",
       "      <td id=\"T_a9abb_row0_col0\" class=\"data row0 col0\" >De Gea</td>\n",
       "      <td id=\"T_a9abb_row0_col1\" class=\"data row0 col1\" >90</td>\n",
       "    </tr>\n",
       "    <tr>\n",
       "      <th id=\"T_a9abb_level0_row1\" class=\"row_heading level0 row1\" >6</th>\n",
       "      <td id=\"T_a9abb_row1_col0\" class=\"data row1 col0\" >Z. Ibrahimović</td>\n",
       "      <td id=\"T_a9abb_row1_col1\" class=\"data row1 col1\" >90</td>\n",
       "    </tr>\n",
       "    <tr>\n",
       "      <th id=\"T_a9abb_level0_row2\" class=\"row_heading level0 row2\" >16</th>\n",
       "      <td id=\"T_a9abb_row2_col0\" class=\"data row2 col0\" >P. Pogba</td>\n",
       "      <td id=\"T_a9abb_row2_col1\" class=\"data row2 col1\" >88</td>\n",
       "    </tr>\n",
       "    <tr>\n",
       "      <th id=\"T_a9abb_level0_row3\" class=\"row_heading level0 row3\" >81</th>\n",
       "      <td id=\"T_a9abb_row3_col0\" class=\"data row3 col0\" >H. Mkhitaryan</td>\n",
       "      <td id=\"T_a9abb_row3_col1\" class=\"data row3 col1\" >85</td>\n",
       "    </tr>\n",
       "    <tr>\n",
       "      <th id=\"T_a9abb_level0_row4\" class=\"row_heading level0 row4\" >105</th>\n",
       "      <td id=\"T_a9abb_row4_col0\" class=\"data row4 col0\" >C. Smalling</td>\n",
       "      <td id=\"T_a9abb_row4_col1\" class=\"data row4 col1\" >84</td>\n",
       "    </tr>\n",
       "    <tr>\n",
       "      <th id=\"T_a9abb_level0_row5\" class=\"row_heading level0 row5\" >111</th>\n",
       "      <td id=\"T_a9abb_row5_col0\" class=\"data row5 col0\" >W. Rooney</td>\n",
       "      <td id=\"T_a9abb_row5_col1\" class=\"data row5 col1\" >84</td>\n",
       "    </tr>\n",
       "    <tr>\n",
       "      <th id=\"T_a9abb_level0_row6\" class=\"row_heading level0 row6\" >121</th>\n",
       "      <td id=\"T_a9abb_row6_col0\" class=\"data row6 col0\" >Juan Mata</td>\n",
       "      <td id=\"T_a9abb_row6_col1\" class=\"data row6 col1\" >84</td>\n",
       "    </tr>\n",
       "    <tr>\n",
       "      <th id=\"T_a9abb_level0_row7\" class=\"row_heading level0 row7\" >153</th>\n",
       "      <td id=\"T_a9abb_row7_col0\" class=\"data row7 col0\" >B. Schweinsteiger</td>\n",
       "      <td id=\"T_a9abb_row7_col1\" class=\"data row7 col1\" >83</td>\n",
       "    </tr>\n",
       "    <tr>\n",
       "      <th id=\"T_a9abb_level0_row8\" class=\"row_heading level0 row8\" >190</th>\n",
       "      <td id=\"T_a9abb_row8_col0\" class=\"data row8 col0\" >A. Martial</td>\n",
       "      <td id=\"T_a9abb_row8_col1\" class=\"data row8 col1\" >82</td>\n",
       "    </tr>\n",
       "    <tr>\n",
       "      <th id=\"T_a9abb_level0_row9\" class=\"row_heading level0 row9\" >191</th>\n",
       "      <td id=\"T_a9abb_row9_col0\" class=\"data row9 col0\" >E. Bailly</td>\n",
       "      <td id=\"T_a9abb_row9_col1\" class=\"data row9 col1\" >82</td>\n",
       "    </tr>\n",
       "    <tr>\n",
       "      <th id=\"T_a9abb_level0_row10\" class=\"row_heading level0 row10\" >215</th>\n",
       "      <td id=\"T_a9abb_row10_col0\" class=\"data row10 col0\" >M. Schneiderlin</td>\n",
       "      <td id=\"T_a9abb_row10_col1\" class=\"data row10 col1\" >82</td>\n",
       "    </tr>\n",
       "    <tr>\n",
       "      <th id=\"T_a9abb_level0_row11\" class=\"row_heading level0 row11\" >226</th>\n",
       "      <td id=\"T_a9abb_row11_col0\" class=\"data row11 col0\" >Ander Herrera</td>\n",
       "      <td id=\"T_a9abb_row11_col1\" class=\"data row11 col1\" >82</td>\n",
       "    </tr>\n",
       "    <tr>\n",
       "      <th id=\"T_a9abb_level0_row12\" class=\"row_heading level0 row12\" >270</th>\n",
       "      <td id=\"T_a9abb_row12_col0\" class=\"data row12 col0\" >L. Shaw</td>\n",
       "      <td id=\"T_a9abb_row12_col1\" class=\"data row12 col1\" >81</td>\n",
       "    </tr>\n",
       "    <tr>\n",
       "      <th id=\"T_a9abb_level0_row13\" class=\"row_heading level0 row13\" >313</th>\n",
       "      <td id=\"T_a9abb_row13_col0\" class=\"data row13 col0\" >D. Blind</td>\n",
       "      <td id=\"T_a9abb_row13_col1\" class=\"data row13 col1\" >81</td>\n",
       "    </tr>\n",
       "    <tr>\n",
       "      <th id=\"T_a9abb_level0_row14\" class=\"row_heading level0 row14\" >337</th>\n",
       "      <td id=\"T_a9abb_row14_col0\" class=\"data row14 col0\" >M. Carrick</td>\n",
       "      <td id=\"T_a9abb_row14_col1\" class=\"data row14 col1\" >81</td>\n",
       "    </tr>\n",
       "    <tr>\n",
       "      <th id=\"T_a9abb_level0_row15\" class=\"row_heading level0 row15\" >481</th>\n",
       "      <td id=\"T_a9abb_row15_col0\" class=\"data row15 col0\" >A. Valencia</td>\n",
       "      <td id=\"T_a9abb_row15_col1\" class=\"data row15 col1\" >80</td>\n",
       "    </tr>\n",
       "    <tr>\n",
       "      <th id=\"T_a9abb_level0_row16\" class=\"row_heading level0 row16\" >430</th>\n",
       "      <td id=\"T_a9abb_row16_col0\" class=\"data row16 col0\" >M. Darmian</td>\n",
       "      <td id=\"T_a9abb_row16_col1\" class=\"data row16 col1\" >80</td>\n",
       "    </tr>\n",
       "    <tr>\n",
       "      <th id=\"T_a9abb_level0_row17\" class=\"row_heading level0 row17\" >388</th>\n",
       "      <td id=\"T_a9abb_row17_col0\" class=\"data row17 col0\" >M. Depay</td>\n",
       "      <td id=\"T_a9abb_row17_col1\" class=\"data row17 col1\" >80</td>\n",
       "    </tr>\n",
       "    <tr>\n",
       "      <th id=\"T_a9abb_level0_row18\" class=\"row_heading level0 row18\" >569</th>\n",
       "      <td id=\"T_a9abb_row18_col0\" class=\"data row18 col0\" >P. Jones</td>\n",
       "      <td id=\"T_a9abb_row18_col1\" class=\"data row18 col1\" >79</td>\n",
       "    </tr>\n",
       "    <tr>\n",
       "      <th id=\"T_a9abb_level0_row19\" class=\"row_heading level0 row19\" >641</th>\n",
       "      <td id=\"T_a9abb_row19_col0\" class=\"data row19 col0\" >A. Young</td>\n",
       "      <td id=\"T_a9abb_row19_col1\" class=\"data row19 col1\" >79</td>\n",
       "    </tr>\n",
       "    <tr>\n",
       "      <th id=\"T_a9abb_level0_row20\" class=\"row_heading level0 row20\" >667</th>\n",
       "      <td id=\"T_a9abb_row20_col0\" class=\"data row20 col0\" >S. Romero</td>\n",
       "      <td id=\"T_a9abb_row20_col1\" class=\"data row20 col1\" >79</td>\n",
       "    </tr>\n",
       "    <tr>\n",
       "      <th id=\"T_a9abb_level0_row21\" class=\"row_heading level0 row21\" >794</th>\n",
       "      <td id=\"T_a9abb_row21_col0\" class=\"data row21 col0\" >M. Rojo</td>\n",
       "      <td id=\"T_a9abb_row21_col1\" class=\"data row21 col1\" >78</td>\n",
       "    </tr>\n",
       "    <tr>\n",
       "      <th id=\"T_a9abb_level0_row22\" class=\"row_heading level0 row22\" >892</th>\n",
       "      <td id=\"T_a9abb_row22_col0\" class=\"data row22 col0\" >M. Fellaini</td>\n",
       "      <td id=\"T_a9abb_row22_col1\" class=\"data row22 col1\" >78</td>\n",
       "    </tr>\n",
       "    <tr>\n",
       "      <th id=\"T_a9abb_level0_row23\" class=\"row_heading level0 row23\" >972</th>\n",
       "      <td id=\"T_a9abb_row23_col0\" class=\"data row23 col0\" >J. Lingard</td>\n",
       "      <td id=\"T_a9abb_row23_col1\" class=\"data row23 col1\" >77</td>\n",
       "    </tr>\n",
       "    <tr>\n",
       "      <th id=\"T_a9abb_level0_row24\" class=\"row_heading level0 row24\" >1236</th>\n",
       "      <td id=\"T_a9abb_row24_col0\" class=\"data row24 col0\" >M. Rashford</td>\n",
       "      <td id=\"T_a9abb_row24_col1\" class=\"data row24 col1\" >76</td>\n",
       "    </tr>\n",
       "    <tr>\n",
       "      <th id=\"T_a9abb_level0_row25\" class=\"row_heading level0 row25\" >3900</th>\n",
       "      <td id=\"T_a9abb_row25_col0\" class=\"data row25 col0\" >T. Fosu-Mensah</td>\n",
       "      <td id=\"T_a9abb_row25_col1\" class=\"data row25 col1\" >71</td>\n",
       "    </tr>\n",
       "    <tr>\n",
       "      <th id=\"T_a9abb_level0_row26\" class=\"row_heading level0 row26\" >6386</th>\n",
       "      <td id=\"T_a9abb_row26_col0\" class=\"data row26 col0\" >S. Johnstone</td>\n",
       "      <td id=\"T_a9abb_row26_col1\" class=\"data row26 col1\" >68</td>\n",
       "    </tr>\n",
       "    <tr>\n",
       "      <th id=\"T_a9abb_level0_row27\" class=\"row_heading level0 row27\" >7313</th>\n",
       "      <td id=\"T_a9abb_row27_col0\" class=\"data row27 col0\" >A. Tuanzebe</td>\n",
       "      <td id=\"T_a9abb_row27_col1\" class=\"data row27 col1\" >67</td>\n",
       "    </tr>\n",
       "    <tr>\n",
       "      <th id=\"T_a9abb_level0_row28\" class=\"row_heading level0 row28\" >10340</th>\n",
       "      <td id=\"T_a9abb_row28_col0\" class=\"data row28 col0\" >J. Riley</td>\n",
       "      <td id=\"T_a9abb_row28_col1\" class=\"data row28 col1\" >64</td>\n",
       "    </tr>\n",
       "    <tr>\n",
       "      <th id=\"T_a9abb_level0_row29\" class=\"row_heading level0 row29\" >11278</th>\n",
       "      <td id=\"T_a9abb_row29_col0\" class=\"data row29 col0\" >R. Poole</td>\n",
       "      <td id=\"T_a9abb_row29_col1\" class=\"data row29 col1\" >63</td>\n",
       "    </tr>\n",
       "    <tr>\n",
       "      <th id=\"T_a9abb_level0_row30\" class=\"row_heading level0 row30\" >14587</th>\n",
       "      <td id=\"T_a9abb_row30_col0\" class=\"data row30 col0\" >S. Goss</td>\n",
       "      <td id=\"T_a9abb_row30_col1\" class=\"data row30 col1\" >58</td>\n",
       "    </tr>\n",
       "    <tr>\n",
       "      <th id=\"T_a9abb_level0_row31\" class=\"row_heading level0 row31\" >15124</th>\n",
       "      <td id=\"T_a9abb_row31_col0\" class=\"data row31 col0\" >S. El Fitouri</td>\n",
       "      <td id=\"T_a9abb_row31_col1\" class=\"data row31 col1\" >57</td>\n",
       "    </tr>\n",
       "  </tbody>\n",
       "</table>\n",
       "<style type=\"text/css\">\n",
       "#T_684ee_row0_col1 {\n",
       "  background-color: #08306b;\n",
       "  color: #f1f1f1;\n",
       "}\n",
       "#T_684ee_row1_col1 {\n",
       "  background-color: #083776;\n",
       "  color: #f1f1f1;\n",
       "}\n",
       "#T_684ee_row2_col1 {\n",
       "  background-color: #08478d;\n",
       "  color: #f1f1f1;\n",
       "}\n",
       "#T_684ee_row3_col1, #T_684ee_row4_col1 {\n",
       "  background-color: #084f99;\n",
       "  color: #f1f1f1;\n",
       "}\n",
       "#T_684ee_row5_col1, #T_684ee_row6_col1, #T_684ee_row7_col1, #T_684ee_row8_col1 {\n",
       "  background-color: #0c56a0;\n",
       "  color: #f1f1f1;\n",
       "}\n",
       "#T_684ee_row9_col1, #T_684ee_row10_col1, #T_684ee_row11_col1, #T_684ee_row12_col1 {\n",
       "  background-color: #125ea6;\n",
       "  color: #f1f1f1;\n",
       "}\n",
       "#T_684ee_row13_col1, #T_684ee_row14_col1 {\n",
       "  background-color: #1e6db2;\n",
       "  color: #f1f1f1;\n",
       "}\n",
       "#T_684ee_row15_col1, #T_684ee_row16_col1 {\n",
       "  background-color: #2474b7;\n",
       "  color: #f1f1f1;\n",
       "}\n",
       "#T_684ee_row17_col1 {\n",
       "  background-color: #3484bf;\n",
       "  color: #f1f1f1;\n",
       "}\n",
       "#T_684ee_row18_col1, #T_684ee_row19_col1, #T_684ee_row20_col1 {\n",
       "  background-color: #3c8cc3;\n",
       "  color: #f1f1f1;\n",
       "}\n",
       "#T_684ee_row21_col1 {\n",
       "  background-color: #4493c7;\n",
       "  color: #f1f1f1;\n",
       "}\n",
       "#T_684ee_row22_col1 {\n",
       "  background-color: #84bcdb;\n",
       "  color: #000000;\n",
       "}\n",
       "#T_684ee_row23_col1 {\n",
       "  background-color: #8fc2de;\n",
       "  color: #000000;\n",
       "}\n",
       "#T_684ee_row24_col1, #T_684ee_row25_col1 {\n",
       "  background-color: #9cc9e1;\n",
       "  color: #000000;\n",
       "}\n",
       "#T_684ee_row26_col1 {\n",
       "  background-color: #c9ddf0;\n",
       "  color: #000000;\n",
       "}\n",
       "#T_684ee_row27_col1 {\n",
       "  background-color: #d4e4f4;\n",
       "  color: #000000;\n",
       "}\n",
       "#T_684ee_row28_col1 {\n",
       "  background-color: #dfecf7;\n",
       "  color: #000000;\n",
       "}\n",
       "#T_684ee_row29_col1 {\n",
       "  background-color: #e6f0f9;\n",
       "  color: #000000;\n",
       "}\n",
       "#T_684ee_row30_col1, #T_684ee_row31_col1 {\n",
       "  background-color: #ebf3fb;\n",
       "  color: #000000;\n",
       "}\n",
       "#T_684ee_row32_col1 {\n",
       "  background-color: #f7fbff;\n",
       "  color: #000000;\n",
       "}\n",
       "</style>\n",
       "<table id=\"T_684ee\" style='display:inline'>\n",
       "  <caption>Chelsea (1st)</caption>\n",
       "  <thead>\n",
       "    <tr>\n",
       "      <th class=\"blank level0\" >&nbsp;</th>\n",
       "      <th id=\"T_684ee_level0_col0\" class=\"col_heading level0 col0\" >short_name</th>\n",
       "      <th id=\"T_684ee_level0_col1\" class=\"col_heading level0 col1\" >overall</th>\n",
       "    </tr>\n",
       "  </thead>\n",
       "  <tbody>\n",
       "    <tr>\n",
       "      <th id=\"T_684ee_level0_row0\" class=\"row_heading level0 row0\" >10</th>\n",
       "      <td id=\"T_684ee_row0_col0\" class=\"data row0 col0\" >T. Courtois</td>\n",
       "      <td id=\"T_684ee_row0_col1\" class=\"data row0 col1\" >89</td>\n",
       "    </tr>\n",
       "    <tr>\n",
       "      <th id=\"T_684ee_level0_row1\" class=\"row_heading level0 row1\" >20</th>\n",
       "      <td id=\"T_684ee_row1_col0\" class=\"data row1 col0\" >E. Hazard</td>\n",
       "      <td id=\"T_684ee_row1_col1\" class=\"data row1 col1\" >88</td>\n",
       "    </tr>\n",
       "    <tr>\n",
       "      <th id=\"T_684ee_level0_row2\" class=\"row_heading level0 row2\" >53</th>\n",
       "      <td id=\"T_684ee_row2_col0\" class=\"data row2 col0\" >Cesc Fàbregas</td>\n",
       "      <td id=\"T_684ee_row2_col1\" class=\"data row2 col1\" >86</td>\n",
       "    </tr>\n",
       "    <tr>\n",
       "      <th id=\"T_684ee_level0_row3\" class=\"row_heading level0 row3\" >66</th>\n",
       "      <td id=\"T_684ee_row3_col0\" class=\"data row3 col0\" >Diego Costa</td>\n",
       "      <td id=\"T_684ee_row3_col1\" class=\"data row3 col1\" >85</td>\n",
       "    </tr>\n",
       "    <tr>\n",
       "      <th id=\"T_684ee_level0_row4\" class=\"row_heading level0 row4\" >78</th>\n",
       "      <td id=\"T_684ee_row4_col0\" class=\"data row4 col0\" >Willian</td>\n",
       "      <td id=\"T_684ee_row4_col1\" class=\"data row4 col1\" >85</td>\n",
       "    </tr>\n",
       "    <tr>\n",
       "      <th id=\"T_684ee_level0_row5\" class=\"row_heading level0 row5\" >107</th>\n",
       "      <td id=\"T_684ee_row5_col0\" class=\"data row5 col0\" >J. Terry</td>\n",
       "      <td id=\"T_684ee_row5_col1\" class=\"data row5 col1\" >84</td>\n",
       "    </tr>\n",
       "    <tr>\n",
       "      <th id=\"T_684ee_level0_row6\" class=\"row_heading level0 row6\" >125</th>\n",
       "      <td id=\"T_684ee_row6_col0\" class=\"data row6 col0\" >David Luiz</td>\n",
       "      <td id=\"T_684ee_row6_col1\" class=\"data row6 col1\" >84</td>\n",
       "    </tr>\n",
       "    <tr>\n",
       "      <th id=\"T_684ee_level0_row7\" class=\"row_heading level0 row7\" >126</th>\n",
       "      <td id=\"T_684ee_row7_col0\" class=\"data row7 col0\" >Azpilicueta</td>\n",
       "      <td id=\"T_684ee_row7_col1\" class=\"data row7 col1\" >84</td>\n",
       "    </tr>\n",
       "    <tr>\n",
       "      <th id=\"T_684ee_level0_row8\" class=\"row_heading level0 row8\" >127</th>\n",
       "      <td id=\"T_684ee_row8_col0\" class=\"data row8 col0\" >N. Matić</td>\n",
       "      <td id=\"T_684ee_row8_col1\" class=\"data row8 col1\" >84</td>\n",
       "    </tr>\n",
       "    <tr>\n",
       "      <th id=\"T_684ee_level0_row9\" class=\"row_heading level0 row9\" >136</th>\n",
       "      <td id=\"T_684ee_row9_col0\" class=\"data row9 col0\" >Oscar</td>\n",
       "      <td id=\"T_684ee_row9_col1\" class=\"data row9 col1\" >83</td>\n",
       "    </tr>\n",
       "    <tr>\n",
       "      <th id=\"T_684ee_level0_row10\" class=\"row_heading level0 row10\" >166</th>\n",
       "      <td id=\"T_684ee_row10_col0\" class=\"data row10 col0\" >G. Cahill</td>\n",
       "      <td id=\"T_684ee_row10_col1\" class=\"data row10 col1\" >83</td>\n",
       "    </tr>\n",
       "    <tr>\n",
       "      <th id=\"T_684ee_level0_row11\" class=\"row_heading level0 row11\" >169</th>\n",
       "      <td id=\"T_684ee_row11_col0\" class=\"data row11 col0\" >A. Begović</td>\n",
       "      <td id=\"T_684ee_row11_col1\" class=\"data row11 col1\" >83</td>\n",
       "    </tr>\n",
       "    <tr>\n",
       "      <th id=\"T_684ee_level0_row12\" class=\"row_heading level0 row12\" >184</th>\n",
       "      <td id=\"T_684ee_row12_col0\" class=\"data row12 col0\" >Pedro</td>\n",
       "      <td id=\"T_684ee_row12_col1\" class=\"data row12 col1\" >83</td>\n",
       "    </tr>\n",
       "    <tr>\n",
       "      <th id=\"T_684ee_level0_row13\" class=\"row_heading level0 row13\" >281</th>\n",
       "      <td id=\"T_684ee_row13_col0\" class=\"data row13 col0\" >M. Batshuayi</td>\n",
       "      <td id=\"T_684ee_row13_col1\" class=\"data row13 col1\" >81</td>\n",
       "    </tr>\n",
       "    <tr>\n",
       "      <th id=\"T_684ee_level0_row14\" class=\"row_heading level0 row14\" >292</th>\n",
       "      <td id=\"T_684ee_row14_col0\" class=\"data row14 col0\" >N. Kanté</td>\n",
       "      <td id=\"T_684ee_row14_col1\" class=\"data row14 col1\" >81</td>\n",
       "    </tr>\n",
       "    <tr>\n",
       "      <th id=\"T_684ee_level0_row15\" class=\"row_heading level0 row15\" >497</th>\n",
       "      <td id=\"T_684ee_row15_col0\" class=\"data row15 col0\" >B. Ivanović</td>\n",
       "      <td id=\"T_684ee_row15_col1\" class=\"data row15 col1\" >80</td>\n",
       "    </tr>\n",
       "    <tr>\n",
       "      <th id=\"T_684ee_level0_row16\" class=\"row_heading level0 row16\" >383</th>\n",
       "      <td id=\"T_684ee_row16_col0\" class=\"data row16 col0\" >K. Zouma</td>\n",
       "      <td id=\"T_684ee_row16_col1\" class=\"data row16 col1\" >80</td>\n",
       "    </tr>\n",
       "    <tr>\n",
       "      <th id=\"T_684ee_level0_row17\" class=\"row_heading level0 row17\" >864</th>\n",
       "      <td id=\"T_684ee_row17_col0\" class=\"data row17 col0\" >J. Mikel</td>\n",
       "      <td id=\"T_684ee_row17_col1\" class=\"data row17 col1\" >78</td>\n",
       "    </tr>\n",
       "    <tr>\n",
       "      <th id=\"T_684ee_level0_row18\" class=\"row_heading level0 row18\" >964</th>\n",
       "      <td id=\"T_684ee_row18_col0\" class=\"data row18 col0\" >M. van Ginkel</td>\n",
       "      <td id=\"T_684ee_row18_col1\" class=\"data row18 col1\" >77</td>\n",
       "    </tr>\n",
       "    <tr>\n",
       "      <th id=\"T_684ee_level0_row19\" class=\"row_heading level0 row19\" >1013</th>\n",
       "      <td id=\"T_684ee_row19_col0\" class=\"data row19 col0\" >V. Moses</td>\n",
       "      <td id=\"T_684ee_row19_col1\" class=\"data row19 col1\" >77</td>\n",
       "    </tr>\n",
       "    <tr>\n",
       "      <th id=\"T_684ee_level0_row20\" class=\"row_heading level0 row20\" >1021</th>\n",
       "      <td id=\"T_684ee_row20_col0\" class=\"data row20 col0\" >Marcos Alonso</td>\n",
       "      <td id=\"T_684ee_row20_col1\" class=\"data row20 col1\" >77</td>\n",
       "    </tr>\n",
       "    <tr>\n",
       "      <th id=\"T_684ee_level0_row21\" class=\"row_heading level0 row21\" >1507</th>\n",
       "      <td id=\"T_684ee_row21_col0\" class=\"data row21 col0\" >Eduardo</td>\n",
       "      <td id=\"T_684ee_row21_col1\" class=\"data row21 col1\" >76</td>\n",
       "    </tr>\n",
       "    <tr>\n",
       "      <th id=\"T_684ee_level0_row22\" class=\"row_heading level0 row22\" >4766</th>\n",
       "      <td id=\"T_684ee_row22_col0\" class=\"data row22 col0\" >T. Kane</td>\n",
       "      <td id=\"T_684ee_row22_col1\" class=\"data row22 col1\" >70</td>\n",
       "    </tr>\n",
       "    <tr>\n",
       "      <th id=\"T_684ee_level0_row23\" class=\"row_heading level0 row23\" >5456</th>\n",
       "      <td id=\"T_684ee_row23_col0\" class=\"data row23 col0\" >D. Solanke</td>\n",
       "      <td id=\"T_684ee_row23_col1\" class=\"data row23 col1\" >69</td>\n",
       "    </tr>\n",
       "    <tr>\n",
       "      <th id=\"T_684ee_level0_row24\" class=\"row_heading level0 row24\" >6358</th>\n",
       "      <td id=\"T_684ee_row24_col0\" class=\"data row24 col0\" >N. Chalobah</td>\n",
       "      <td id=\"T_684ee_row24_col1\" class=\"data row24 col1\" >68</td>\n",
       "    </tr>\n",
       "    <tr>\n",
       "      <th id=\"T_684ee_level0_row25\" class=\"row_heading level0 row25\" >6344</th>\n",
       "      <td id=\"T_684ee_row25_col0\" class=\"data row25 col0\" >R. Loftus-Cheek</td>\n",
       "      <td id=\"T_684ee_row25_col1\" class=\"data row25 col1\" >68</td>\n",
       "    </tr>\n",
       "    <tr>\n",
       "      <th id=\"T_684ee_level0_row26\" class=\"row_heading level0 row26\" >11300</th>\n",
       "      <td id=\"T_684ee_row26_col0\" class=\"data row26 col0\" >O. Aina</td>\n",
       "      <td id=\"T_684ee_row26_col1\" class=\"data row26 col1\" >63</td>\n",
       "    </tr>\n",
       "    <tr>\n",
       "      <th id=\"T_684ee_level0_row27\" class=\"row_heading level0 row27\" >12802</th>\n",
       "      <td id=\"T_684ee_row27_col0\" class=\"data row27 col0\" >F. Tomori</td>\n",
       "      <td id=\"T_684ee_row27_col1\" class=\"data row27 col1\" >61</td>\n",
       "    </tr>\n",
       "    <tr>\n",
       "      <th id=\"T_684ee_level0_row28\" class=\"row_heading level0 row28\" >14058</th>\n",
       "      <td id=\"T_684ee_row28_col0\" class=\"data row28 col0\" >J. Dasilva</td>\n",
       "      <td id=\"T_684ee_row28_col1\" class=\"data row28 col1\" >59</td>\n",
       "    </tr>\n",
       "    <tr>\n",
       "      <th id=\"T_684ee_level0_row29\" class=\"row_heading level0 row29\" >14536</th>\n",
       "      <td id=\"T_684ee_row29_col0\" class=\"data row29 col0\" >K. Scott</td>\n",
       "      <td id=\"T_684ee_row29_col1\" class=\"data row29 col1\" >58</td>\n",
       "    </tr>\n",
       "    <tr>\n",
       "      <th id=\"T_684ee_level0_row30\" class=\"row_heading level0 row30\" >14997</th>\n",
       "      <td id=\"T_684ee_row30_col0\" class=\"data row30 col0\" >M. Mount</td>\n",
       "      <td id=\"T_684ee_row30_col1\" class=\"data row30 col1\" >57</td>\n",
       "    </tr>\n",
       "    <tr>\n",
       "      <th id=\"T_684ee_level0_row31\" class=\"row_heading level0 row31\" >15087</th>\n",
       "      <td id=\"T_684ee_row31_col0\" class=\"data row31 col0\" >B. Collins</td>\n",
       "      <td id=\"T_684ee_row31_col1\" class=\"data row31 col1\" >57</td>\n",
       "    </tr>\n",
       "    <tr>\n",
       "      <th id=\"T_684ee_level0_row32\" class=\"row_heading level0 row32\" >15764</th>\n",
       "      <td id=\"T_684ee_row32_col0\" class=\"data row32 col0\" >T. Chalobah</td>\n",
       "      <td id=\"T_684ee_row32_col1\" class=\"data row32 col1\" >55</td>\n",
       "    </tr>\n",
       "  </tbody>\n",
       "</table>\n",
       "<style type=\"text/css\">\n",
       "#T_baa8b_row0_col1 {\n",
       "  background-color: #ffffff;\n",
       "  color: #000000;\n",
       "}\n",
       "#T_baa8b_row1_col1 {\n",
       "  background-color: #eaeaea;\n",
       "  color: #000000;\n",
       "}\n",
       "#T_baa8b_row2_col1, #T_baa8b_row3_col1 {\n",
       "  background-color: #e3e3e3;\n",
       "  color: #000000;\n",
       "}\n",
       "#T_baa8b_row4_col1 {\n",
       "  background-color: #dcdcdc;\n",
       "  color: #000000;\n",
       "}\n",
       "#T_baa8b_row5_col1 {\n",
       "  background-color: #d5d5d5;\n",
       "  color: #000000;\n",
       "}\n",
       "#T_baa8b_row6_col1, #T_baa8b_row7_col1 {\n",
       "  background-color: #cecece;\n",
       "  color: #000000;\n",
       "}\n",
       "#T_baa8b_row8_col1, #T_baa8b_row9_col1, #T_baa8b_row10_col1, #T_baa8b_row11_col1 {\n",
       "  background-color: #c7c7c7;\n",
       "  color: #000000;\n",
       "}\n",
       "#T_baa8b_row12_col1 {\n",
       "  background-color: #c0c0c0;\n",
       "  color: #000000;\n",
       "}\n",
       "#T_baa8b_row13_col1, #T_baa8b_row14_col1, #T_baa8b_row15_col1, #T_baa8b_row16_col1, #T_baa8b_row17_col1, #T_baa8b_row18_col1 {\n",
       "  background-color: #b8b8b8;\n",
       "  color: #000000;\n",
       "}\n",
       "#T_baa8b_row19_col1 {\n",
       "  background-color: #b1b1b1;\n",
       "  color: #000000;\n",
       "}\n",
       "#T_baa8b_row20_col1 {\n",
       "  background-color: #959595;\n",
       "  color: #f1f1f1;\n",
       "}\n",
       "#T_baa8b_row21_col1 {\n",
       "  background-color: #8e8e8e;\n",
       "  color: #f1f1f1;\n",
       "}\n",
       "#T_baa8b_row22_col1 {\n",
       "  background-color: #808080;\n",
       "  color: #f1f1f1;\n",
       "}\n",
       "#T_baa8b_row23_col1 {\n",
       "  background-color: #555555;\n",
       "  color: #f1f1f1;\n",
       "}\n",
       "#T_baa8b_row24_col1 {\n",
       "  background-color: #474747;\n",
       "  color: #f1f1f1;\n",
       "}\n",
       "#T_baa8b_row25_col1 {\n",
       "  background-color: #383838;\n",
       "  color: #f1f1f1;\n",
       "}\n",
       "#T_baa8b_row26_col1, #T_baa8b_row27_col1, #T_baa8b_row28_col1, #T_baa8b_row29_col1 {\n",
       "  background-color: #2a2a2a;\n",
       "  color: #f1f1f1;\n",
       "}\n",
       "#T_baa8b_row30_col1 {\n",
       "  background-color: #232323;\n",
       "  color: #f1f1f1;\n",
       "}\n",
       "#T_baa8b_row31_col1 {\n",
       "  background-color: #1c1c1c;\n",
       "  color: #f1f1f1;\n",
       "}\n",
       "#T_baa8b_row32_col1 {\n",
       "  background-color: #000000;\n",
       "  color: #f1f1f1;\n",
       "}\n",
       "</style>\n",
       "<table id=\"T_baa8b\" style='display:inline'>\n",
       "  <caption>Spurs (2nd)</caption>\n",
       "  <thead>\n",
       "    <tr>\n",
       "      <th class=\"blank level0\" >&nbsp;</th>\n",
       "      <th id=\"T_baa8b_level0_col0\" class=\"col_heading level0 col0\" >short_name</th>\n",
       "      <th id=\"T_baa8b_level0_col1\" class=\"col_heading level0 col1\" >overall</th>\n",
       "    </tr>\n",
       "  </thead>\n",
       "  <tbody>\n",
       "    <tr>\n",
       "      <th id=\"T_baa8b_level0_row0\" class=\"row_heading level0 row0\" >27</th>\n",
       "      <td id=\"T_baa8b_row0_col0\" class=\"data row0 col0\" >H. Lloris</td>\n",
       "      <td id=\"T_baa8b_row0_col1\" class=\"data row0 col1\" >88</td>\n",
       "    </tr>\n",
       "    <tr>\n",
       "      <th id=\"T_baa8b_level0_row1\" class=\"row_heading level0 row1\" >67</th>\n",
       "      <td id=\"T_baa8b_row1_col0\" class=\"data row1 col0\" >T. Alderweireld</td>\n",
       "      <td id=\"T_baa8b_row1_col1\" class=\"data row1 col1\" >85</td>\n",
       "    </tr>\n",
       "    <tr>\n",
       "      <th id=\"T_baa8b_level0_row2\" class=\"row_heading level0 row2\" >85</th>\n",
       "      <td id=\"T_baa8b_row2_col0\" class=\"data row2 col0\" >H. Kane</td>\n",
       "      <td id=\"T_baa8b_row2_col1\" class=\"data row2 col1\" >84</td>\n",
       "    </tr>\n",
       "    <tr>\n",
       "      <th id=\"T_baa8b_level0_row3\" class=\"row_heading level0 row3\" >87</th>\n",
       "      <td id=\"T_baa8b_row3_col0\" class=\"data row3 col0\" >C. Eriksen</td>\n",
       "      <td id=\"T_baa8b_row3_col1\" class=\"data row3 col1\" >84</td>\n",
       "    </tr>\n",
       "    <tr>\n",
       "      <th id=\"T_baa8b_level0_row4\" class=\"row_heading level0 row4\" >170</th>\n",
       "      <td id=\"T_baa8b_row4_col0\" class=\"data row4 col0\" >J. Vertonghen</td>\n",
       "      <td id=\"T_baa8b_row4_col1\" class=\"data row4 col1\" >83</td>\n",
       "    </tr>\n",
       "    <tr>\n",
       "      <th id=\"T_baa8b_level0_row5\" class=\"row_heading level0 row5\" >247</th>\n",
       "      <td id=\"T_baa8b_row5_col0\" class=\"data row5 col0\" >M. Dembélé</td>\n",
       "      <td id=\"T_baa8b_row5_col1\" class=\"data row5 col1\" >82</td>\n",
       "    </tr>\n",
       "    <tr>\n",
       "      <th id=\"T_baa8b_level0_row6\" class=\"row_heading level0 row6\" >284</th>\n",
       "      <td id=\"T_baa8b_row6_col0\" class=\"data row6 col0\" >E. Lamela</td>\n",
       "      <td id=\"T_baa8b_row6_col1\" class=\"data row6 col1\" >81</td>\n",
       "    </tr>\n",
       "    <tr>\n",
       "      <th id=\"T_baa8b_level0_row7\" class=\"row_heading level0 row7\" >296</th>\n",
       "      <td id=\"T_baa8b_row7_col0\" class=\"data row7 col0\" >K. Walker</td>\n",
       "      <td id=\"T_baa8b_row7_col1\" class=\"data row7 col1\" >81</td>\n",
       "    </tr>\n",
       "    <tr>\n",
       "      <th id=\"T_baa8b_level0_row8\" class=\"row_heading level0 row8\" >382</th>\n",
       "      <td id=\"T_baa8b_row8_col0\" class=\"data row8 col0\" >D. Alli</td>\n",
       "      <td id=\"T_baa8b_row8_col1\" class=\"data row8 col1\" >80</td>\n",
       "    </tr>\n",
       "    <tr>\n",
       "      <th id=\"T_baa8b_level0_row9\" class=\"row_heading level0 row9\" >428</th>\n",
       "      <td id=\"T_baa8b_row9_col0\" class=\"data row9 col0\" >D. Rose</td>\n",
       "      <td id=\"T_baa8b_row9_col1\" class=\"data row9 col1\" >80</td>\n",
       "    </tr>\n",
       "    <tr>\n",
       "      <th id=\"T_baa8b_level0_row10\" class=\"row_heading level0 row10\" >459</th>\n",
       "      <td id=\"T_baa8b_row10_col0\" class=\"data row10 col0\" >M. Vorm</td>\n",
       "      <td id=\"T_baa8b_row10_col1\" class=\"data row10 col1\" >80</td>\n",
       "    </tr>\n",
       "    <tr>\n",
       "      <th id=\"T_baa8b_level0_row11\" class=\"row_heading level0 row11\" >505</th>\n",
       "      <td id=\"T_baa8b_row11_col0\" class=\"data row11 col0\" >M. Sissoko</td>\n",
       "      <td id=\"T_baa8b_row11_col1\" class=\"data row11 col1\" >80</td>\n",
       "    </tr>\n",
       "    <tr>\n",
       "      <th id=\"T_baa8b_level0_row12\" class=\"row_heading level0 row12\" >565</th>\n",
       "      <td id=\"T_baa8b_row12_col0\" class=\"data row12 col0\" >K. Wimmer</td>\n",
       "      <td id=\"T_baa8b_row12_col1\" class=\"data row12 col1\" >79</td>\n",
       "    </tr>\n",
       "    <tr>\n",
       "      <th id=\"T_baa8b_level0_row13\" class=\"row_heading level0 row13\" >761</th>\n",
       "      <td id=\"T_baa8b_row13_col0\" class=\"data row13 col0\" >B. Davies</td>\n",
       "      <td id=\"T_baa8b_row13_col1\" class=\"data row13 col1\" >78</td>\n",
       "    </tr>\n",
       "    <tr>\n",
       "      <th id=\"T_baa8b_level0_row14\" class=\"row_heading level0 row14\" >756</th>\n",
       "      <td id=\"T_baa8b_row14_col0\" class=\"data row14 col0\" >H. Son</td>\n",
       "      <td id=\"T_baa8b_row14_col1\" class=\"data row14 col1\" >78</td>\n",
       "    </tr>\n",
       "    <tr>\n",
       "      <th id=\"T_baa8b_level0_row15\" class=\"row_heading level0 row15\" >751</th>\n",
       "      <td id=\"T_baa8b_row15_col0\" class=\"data row15 col0\" >V. Wanyama</td>\n",
       "      <td id=\"T_baa8b_row15_col1\" class=\"data row15 col1\" >78</td>\n",
       "    </tr>\n",
       "    <tr>\n",
       "      <th id=\"T_baa8b_level0_row16\" class=\"row_heading level0 row16\" >742</th>\n",
       "      <td id=\"T_baa8b_row16_col0\" class=\"data row16 col0\" >G. Nkoudou</td>\n",
       "      <td id=\"T_baa8b_row16_col1\" class=\"data row16 col1\" >78</td>\n",
       "    </tr>\n",
       "    <tr>\n",
       "      <th id=\"T_baa8b_level0_row17\" class=\"row_heading level0 row17\" >731</th>\n",
       "      <td id=\"T_baa8b_row17_col0\" class=\"data row17 col0\" >V. Janssen</td>\n",
       "      <td id=\"T_baa8b_row17_col1\" class=\"data row17 col1\" >78</td>\n",
       "    </tr>\n",
       "    <tr>\n",
       "      <th id=\"T_baa8b_level0_row18\" class=\"row_heading level0 row18\" >716</th>\n",
       "      <td id=\"T_baa8b_row18_col0\" class=\"data row18 col0\" >E. Dier</td>\n",
       "      <td id=\"T_baa8b_row18_col1\" class=\"data row18 col1\" >78</td>\n",
       "    </tr>\n",
       "    <tr>\n",
       "      <th id=\"T_baa8b_level0_row19\" class=\"row_heading level0 row19\" >1014</th>\n",
       "      <td id=\"T_baa8b_row19_col0\" class=\"data row19 col0\" >K. Trippier</td>\n",
       "      <td id=\"T_baa8b_row19_col1\" class=\"data row19 col1\" >77</td>\n",
       "    </tr>\n",
       "    <tr>\n",
       "      <th id=\"T_baa8b_level0_row20\" class=\"row_heading level0 row20\" >2656</th>\n",
       "      <td id=\"T_baa8b_row20_col0\" class=\"data row20 col0\" >Pau López</td>\n",
       "      <td id=\"T_baa8b_row20_col1\" class=\"data row20 col1\" >73</td>\n",
       "    </tr>\n",
       "    <tr>\n",
       "      <th id=\"T_baa8b_level0_row21\" class=\"row_heading level0 row21\" >3334</th>\n",
       "      <td id=\"T_baa8b_row21_col0\" class=\"data row21 col0\" >T. Carroll</td>\n",
       "      <td id=\"T_baa8b_row21_col1\" class=\"data row21 col1\" >72</td>\n",
       "    </tr>\n",
       "    <tr>\n",
       "      <th id=\"T_baa8b_level0_row22\" class=\"row_heading level0 row22\" >4619</th>\n",
       "      <td id=\"T_baa8b_row22_col0\" class=\"data row22 col0\" >J. Onomah</td>\n",
       "      <td id=\"T_baa8b_row22_col1\" class=\"data row22 col1\" >70</td>\n",
       "    </tr>\n",
       "    <tr>\n",
       "      <th id=\"T_baa8b_level0_row23\" class=\"row_heading level0 row23\" >10413</th>\n",
       "      <td id=\"T_baa8b_row23_col0\" class=\"data row23 col0\" >H. Winks</td>\n",
       "      <td id=\"T_baa8b_row23_col1\" class=\"data row23 col1\" >64</td>\n",
       "    </tr>\n",
       "    <tr>\n",
       "      <th id=\"T_baa8b_level0_row24\" class=\"row_heading level0 row24\" >12117</th>\n",
       "      <td id=\"T_baa8b_row24_col0\" class=\"data row24 col0\" >C. Carter-Vickers</td>\n",
       "      <td id=\"T_baa8b_row24_col1\" class=\"data row24 col1\" >62</td>\n",
       "    </tr>\n",
       "    <tr>\n",
       "      <th id=\"T_baa8b_level0_row25\" class=\"row_heading level0 row25\" >13471</th>\n",
       "      <td id=\"T_baa8b_row25_col0\" class=\"data row25 col0\" >S. Harrison</td>\n",
       "      <td id=\"T_baa8b_row25_col1\" class=\"data row25 col1\" >60</td>\n",
       "    </tr>\n",
       "    <tr>\n",
       "      <th id=\"T_baa8b_level0_row26\" class=\"row_heading level0 row26\" >14519</th>\n",
       "      <td id=\"T_baa8b_row26_col0\" class=\"data row26 col0\" >M. Edwards</td>\n",
       "      <td id=\"T_baa8b_row26_col1\" class=\"data row26 col1\" >58</td>\n",
       "    </tr>\n",
       "    <tr>\n",
       "      <th id=\"T_baa8b_level0_row27\" class=\"row_heading level0 row27\" >14543</th>\n",
       "      <td id=\"T_baa8b_row27_col0\" class=\"data row27 col0\" >K. Walker-Peters</td>\n",
       "      <td id=\"T_baa8b_row27_col1\" class=\"data row27 col1\" >58</td>\n",
       "    </tr>\n",
       "    <tr>\n",
       "      <th id=\"T_baa8b_level0_row28\" class=\"row_heading level0 row28\" >14646</th>\n",
       "      <td id=\"T_baa8b_row28_col0\" class=\"data row28 col0\" >L. Amos</td>\n",
       "      <td id=\"T_baa8b_row28_col1\" class=\"data row28 col1\" >58</td>\n",
       "    </tr>\n",
       "    <tr>\n",
       "      <th id=\"T_baa8b_level0_row29\" class=\"row_heading level0 row29\" >14662</th>\n",
       "      <td id=\"T_baa8b_row29_col0\" class=\"data row29 col0\" >C. Ogilvie</td>\n",
       "      <td id=\"T_baa8b_row29_col1\" class=\"data row29 col1\" >58</td>\n",
       "    </tr>\n",
       "    <tr>\n",
       "      <th id=\"T_baa8b_level0_row30\" class=\"row_heading level0 row30\" >15067</th>\n",
       "      <td id=\"T_baa8b_row30_col0\" class=\"data row30 col0\" >C. Maghoma</td>\n",
       "      <td id=\"T_baa8b_row30_col1\" class=\"data row30 col1\" >57</td>\n",
       "    </tr>\n",
       "    <tr>\n",
       "      <th id=\"T_baa8b_level0_row31\" class=\"row_heading level0 row31\" >15441</th>\n",
       "      <td id=\"T_baa8b_row31_col0\" class=\"data row31 col0\" >A. Walkes</td>\n",
       "      <td id=\"T_baa8b_row31_col1\" class=\"data row31 col1\" >56</td>\n",
       "    </tr>\n",
       "    <tr>\n",
       "      <th id=\"T_baa8b_level0_row32\" class=\"row_heading level0 row32\" >16584</th>\n",
       "      <td id=\"T_baa8b_row32_col0\" class=\"data row32 col0\" >H. Voss</td>\n",
       "      <td id=\"T_baa8b_row32_col1\" class=\"data row32 col1\" >52</td>\n",
       "    </tr>\n",
       "  </tbody>\n",
       "</table>\n",
       "<style type=\"text/css\">\n",
       "#T_95c74_row0_col1 {\n",
       "  background-color: #ff00ff;\n",
       "  color: #f1f1f1;\n",
       "}\n",
       "#T_95c74_row1_col1 {\n",
       "  background-color: #f708ff;\n",
       "  color: #f1f1f1;\n",
       "}\n",
       "#T_95c74_row2_col1 {\n",
       "  background-color: #ee11ff;\n",
       "  color: #f1f1f1;\n",
       "}\n",
       "#T_95c74_row3_col1 {\n",
       "  background-color: #e619ff;\n",
       "  color: #f1f1f1;\n",
       "}\n",
       "#T_95c74_row4_col1, #T_95c74_row5_col1, #T_95c74_row6_col1 {\n",
       "  background-color: #dd22ff;\n",
       "  color: #f1f1f1;\n",
       "}\n",
       "#T_95c74_row7_col1 {\n",
       "  background-color: #d52aff;\n",
       "  color: #f1f1f1;\n",
       "}\n",
       "#T_95c74_row8_col1 {\n",
       "  background-color: #cc33ff;\n",
       "  color: #f1f1f1;\n",
       "}\n",
       "#T_95c74_row9_col1, #T_95c74_row10_col1, #T_95c74_row11_col1 {\n",
       "  background-color: #c43bff;\n",
       "  color: #f1f1f1;\n",
       "}\n",
       "#T_95c74_row12_col1 {\n",
       "  background-color: #bb44ff;\n",
       "  color: #f1f1f1;\n",
       "}\n",
       "#T_95c74_row13_col1, #T_95c74_row14_col1 {\n",
       "  background-color: #b34cff;\n",
       "  color: #f1f1f1;\n",
       "}\n",
       "#T_95c74_row15_col1, #T_95c74_row16_col1, #T_95c74_row17_col1 {\n",
       "  background-color: #aa55ff;\n",
       "  color: #f1f1f1;\n",
       "}\n",
       "#T_95c74_row18_col1, #T_95c74_row19_col1, #T_95c74_row20_col1 {\n",
       "  background-color: #a25dff;\n",
       "  color: #f1f1f1;\n",
       "}\n",
       "#T_95c74_row21_col1 {\n",
       "  background-color: #807fff;\n",
       "  color: #f1f1f1;\n",
       "}\n",
       "#T_95c74_row22_col1 {\n",
       "  background-color: #3bc4ff;\n",
       "  color: #000000;\n",
       "}\n",
       "#T_95c74_row23_col1, #T_95c74_row24_col1, #T_95c74_row25_col1 {\n",
       "  background-color: #33ccff;\n",
       "  color: #000000;\n",
       "}\n",
       "#T_95c74_row26_col1 {\n",
       "  background-color: #2ad5ff;\n",
       "  color: #000000;\n",
       "}\n",
       "#T_95c74_row27_col1 {\n",
       "  background-color: #22ddff;\n",
       "  color: #000000;\n",
       "}\n",
       "#T_95c74_row28_col1, #T_95c74_row29_col1 {\n",
       "  background-color: #11eeff;\n",
       "  color: #000000;\n",
       "}\n",
       "#T_95c74_row30_col1, #T_95c74_row31_col1 {\n",
       "  background-color: #08f7ff;\n",
       "  color: #000000;\n",
       "}\n",
       "#T_95c74_row32_col1 {\n",
       "  background-color: #00ffff;\n",
       "  color: #000000;\n",
       "}\n",
       "</style>\n",
       "<table id=\"T_95c74\" style='display:inline'>\n",
       "  <caption>Man City (3rd)</caption>\n",
       "  <thead>\n",
       "    <tr>\n",
       "      <th class=\"blank level0\" >&nbsp;</th>\n",
       "      <th id=\"T_95c74_level0_col0\" class=\"col_heading level0 col0\" >short_name</th>\n",
       "      <th id=\"T_95c74_level0_col1\" class=\"col_heading level0 col1\" >overall</th>\n",
       "    </tr>\n",
       "  </thead>\n",
       "  <tbody>\n",
       "    <tr>\n",
       "      <th id=\"T_95c74_level0_row0\" class=\"row_heading level0 row0\" >12</th>\n",
       "      <td id=\"T_95c74_row0_col0\" class=\"data row0 col0\" >S. Agüero</td>\n",
       "      <td id=\"T_95c74_row0_col1\" class=\"data row0 col1\" >89</td>\n",
       "    </tr>\n",
       "    <tr>\n",
       "      <th id=\"T_95c74_level0_row1\" class=\"row_heading level0 row1\" >18</th>\n",
       "      <td id=\"T_95c74_row1_col0\" class=\"data row1 col0\" >K. De Bruyne</td>\n",
       "      <td id=\"T_95c74_row1_col1\" class=\"data row1 col1\" >88</td>\n",
       "    </tr>\n",
       "    <tr>\n",
       "      <th id=\"T_95c74_level0_row2\" class=\"row_heading level0 row2\" >38</th>\n",
       "      <td id=\"T_95c74_row2_col0\" class=\"data row2 col0\" >David Silva</td>\n",
       "      <td id=\"T_95c74_row2_col1\" class=\"data row2 col1\" >87</td>\n",
       "    </tr>\n",
       "    <tr>\n",
       "      <th id=\"T_95c74_level0_row3\" class=\"row_heading level0 row3\" >49</th>\n",
       "      <td id=\"T_95c74_row3_col0\" class=\"data row3 col0\" >V. Kompany</td>\n",
       "      <td id=\"T_95c74_row3_col1\" class=\"data row3 col1\" >86</td>\n",
       "    </tr>\n",
       "    <tr>\n",
       "      <th id=\"T_95c74_level0_row4\" class=\"row_heading level0 row4\" >65</th>\n",
       "      <td id=\"T_95c74_row4_col0\" class=\"data row4 col0\" >I. Gündoğan</td>\n",
       "      <td id=\"T_95c74_row4_col1\" class=\"data row4 col1\" >85</td>\n",
       "    </tr>\n",
       "    <tr>\n",
       "      <th id=\"T_95c74_level0_row5\" class=\"row_heading level0 row5\" >76</th>\n",
       "      <td id=\"T_95c74_row5_col0\" class=\"data row5 col0\" >C. Bravo</td>\n",
       "      <td id=\"T_95c74_row5_col1\" class=\"data row5 col1\" >85</td>\n",
       "    </tr>\n",
       "    <tr>\n",
       "      <th id=\"T_95c74_level0_row6\" class=\"row_heading level0 row6\" >80</th>\n",
       "      <td id=\"T_95c74_row6_col0\" class=\"data row6 col0\" >N. Otamendi</td>\n",
       "      <td id=\"T_95c74_row6_col1\" class=\"data row6 col1\" >85</td>\n",
       "    </tr>\n",
       "    <tr>\n",
       "      <th id=\"T_95c74_level0_row7\" class=\"row_heading level0 row7\" >108</th>\n",
       "      <td id=\"T_95c74_row7_col0\" class=\"data row7 col0\" >Y. Touré</td>\n",
       "      <td id=\"T_95c74_row7_col1\" class=\"data row7 col1\" >84</td>\n",
       "    </tr>\n",
       "    <tr>\n",
       "      <th id=\"T_95c74_level0_row8\" class=\"row_heading level0 row8\" >188</th>\n",
       "      <td id=\"T_95c74_row8_col0\" class=\"data row8 col0\" >Nolito</td>\n",
       "      <td id=\"T_95c74_row8_col1\" class=\"data row8 col1\" >83</td>\n",
       "    </tr>\n",
       "    <tr>\n",
       "      <th id=\"T_95c74_level0_row9\" class=\"row_heading level0 row9\" >196</th>\n",
       "      <td id=\"T_95c74_row9_col0\" class=\"data row9 col0\" >R. Sterling</td>\n",
       "      <td id=\"T_95c74_row9_col1\" class=\"data row9 col1\" >82</td>\n",
       "    </tr>\n",
       "    <tr>\n",
       "      <th id=\"T_95c74_level0_row10\" class=\"row_heading level0 row10\" >237</th>\n",
       "      <td id=\"T_95c74_row10_col0\" class=\"data row10 col0\" >P. Zabaleta</td>\n",
       "      <td id=\"T_95c74_row10_col1\" class=\"data row10 col1\" >82</td>\n",
       "    </tr>\n",
       "    <tr>\n",
       "      <th id=\"T_95c74_level0_row11\" class=\"row_heading level0 row11\" >248</th>\n",
       "      <td id=\"T_95c74_row11_col0\" class=\"data row11 col0\" >B. Sagna</td>\n",
       "      <td id=\"T_95c74_row11_col1\" class=\"data row11 col1\" >82</td>\n",
       "    </tr>\n",
       "    <tr>\n",
       "      <th id=\"T_95c74_level0_row12\" class=\"row_heading level0 row12\" >345</th>\n",
       "      <td id=\"T_95c74_row12_col0\" class=\"data row12 col0\" >Fernandinho</td>\n",
       "      <td id=\"T_95c74_row12_col1\" class=\"data row12 col1\" >81</td>\n",
       "    </tr>\n",
       "    <tr>\n",
       "      <th id=\"T_95c74_level0_row13\" class=\"row_heading level0 row13\" >467</th>\n",
       "      <td id=\"T_95c74_row13_col0\" class=\"data row13 col0\" >Jesús Navas</td>\n",
       "      <td id=\"T_95c74_row13_col1\" class=\"data row13 col1\" >80</td>\n",
       "    </tr>\n",
       "    <tr>\n",
       "      <th id=\"T_95c74_level0_row14\" class=\"row_heading level0 row14\" >471</th>\n",
       "      <td id=\"T_95c74_row14_col0\" class=\"data row14 col0\" >G. Clichy</td>\n",
       "      <td id=\"T_95c74_row14_col1\" class=\"data row14 col1\" >80</td>\n",
       "    </tr>\n",
       "    <tr>\n",
       "      <th id=\"T_95c74_level0_row15\" class=\"row_heading level0 row15\" >689</th>\n",
       "      <td id=\"T_95c74_row15_col0\" class=\"data row15 col0\" >A. Kolarov</td>\n",
       "      <td id=\"T_95c74_row15_col1\" class=\"data row15 col1\" >79</td>\n",
       "    </tr>\n",
       "    <tr>\n",
       "      <th id=\"T_95c74_level0_row16\" class=\"row_heading level0 row16\" >687</th>\n",
       "      <td id=\"T_95c74_row16_col0\" class=\"data row16 col0\" >Fernando</td>\n",
       "      <td id=\"T_95c74_row16_col1\" class=\"data row16 col1\" >79</td>\n",
       "    </tr>\n",
       "    <tr>\n",
       "      <th id=\"T_95c74_level0_row17\" class=\"row_heading level0 row17\" >527</th>\n",
       "      <td id=\"T_95c74_row17_col0\" class=\"data row17 col0\" >L. Sané</td>\n",
       "      <td id=\"T_95c74_row17_col1\" class=\"data row17 col1\" >79</td>\n",
       "    </tr>\n",
       "    <tr>\n",
       "      <th id=\"T_95c74_level0_row18\" class=\"row_heading level0 row18\" >710</th>\n",
       "      <td id=\"T_95c74_row18_col0\" class=\"data row18 col0\" >J. Stones</td>\n",
       "      <td id=\"T_95c74_row18_col1\" class=\"data row18 col1\" >78</td>\n",
       "    </tr>\n",
       "    <tr>\n",
       "      <th id=\"T_95c74_level0_row19\" class=\"row_heading level0 row19\" >782</th>\n",
       "      <td id=\"T_95c74_row19_col0\" class=\"data row19 col0\" >F. Delph</td>\n",
       "      <td id=\"T_95c74_row19_col1\" class=\"data row19 col1\" >78</td>\n",
       "    </tr>\n",
       "    <tr>\n",
       "      <th id=\"T_95c74_level0_row20\" class=\"row_heading level0 row20\" >836</th>\n",
       "      <td id=\"T_95c74_row20_col0\" class=\"data row20 col0\" >W. Caballero</td>\n",
       "      <td id=\"T_95c74_row20_col1\" class=\"data row20 col1\" >78</td>\n",
       "    </tr>\n",
       "    <tr>\n",
       "      <th id=\"T_95c74_level0_row21\" class=\"row_heading level0 row21\" >2078</th>\n",
       "      <td id=\"T_95c74_row21_col0\" class=\"data row21 col0\" >K. Iheanacho</td>\n",
       "      <td id=\"T_95c74_row21_col1\" class=\"data row21 col1\" >74</td>\n",
       "    </tr>\n",
       "    <tr>\n",
       "      <th id=\"T_95c74_level0_row22\" class=\"row_heading level0 row22\" >8365</th>\n",
       "      <td id=\"T_95c74_row22_col0\" class=\"data row22 col0\" >T. Ambrose</td>\n",
       "      <td id=\"T_95c74_row22_col1\" class=\"data row22 col1\" >66</td>\n",
       "    </tr>\n",
       "    <tr>\n",
       "      <th id=\"T_95c74_level0_row23\" class=\"row_heading level0 row23\" >9339</th>\n",
       "      <td id=\"T_95c74_row23_col0\" class=\"data row23 col0\" >Pablo Maffeo</td>\n",
       "      <td id=\"T_95c74_row23_col1\" class=\"data row23 col1\" >65</td>\n",
       "    </tr>\n",
       "    <tr>\n",
       "      <th id=\"T_95c74_level0_row24\" class=\"row_heading level0 row24\" >9352</th>\n",
       "      <td id=\"T_95c74_row24_col0\" class=\"data row24 col0\" >Angeliño</td>\n",
       "      <td id=\"T_95c74_row24_col1\" class=\"data row24 col1\" >65</td>\n",
       "    </tr>\n",
       "    <tr>\n",
       "      <th id=\"T_95c74_level0_row25\" class=\"row_heading level0 row25\" >9367</th>\n",
       "      <td id=\"T_95c74_row25_col0\" class=\"data row25 col0\" >A. Gunn</td>\n",
       "      <td id=\"T_95c74_row25_col1\" class=\"data row25 col1\" >65</td>\n",
       "    </tr>\n",
       "    <tr>\n",
       "      <th id=\"T_95c74_level0_row26\" class=\"row_heading level0 row26\" >10320</th>\n",
       "      <td id=\"T_95c74_row26_col0\" class=\"data row26 col0\" >Brahim Díaz</td>\n",
       "      <td id=\"T_95c74_row26_col1\" class=\"data row26 col1\" >64</td>\n",
       "    </tr>\n",
       "    <tr>\n",
       "      <th id=\"T_95c74_level0_row27\" class=\"row_heading level0 row27\" >11269</th>\n",
       "      <td id=\"T_95c74_row27_col0\" class=\"data row27 col0\" >Aleix García</td>\n",
       "      <td id=\"T_95c74_row27_col1\" class=\"data row27 col1\" >63</td>\n",
       "    </tr>\n",
       "    <tr>\n",
       "      <th id=\"T_95c74_level0_row28\" class=\"row_heading level0 row28\" >12784</th>\n",
       "      <td id=\"T_95c74_row28_col0\" class=\"data row28 col0\" >C. Humphreys-Grant</td>\n",
       "      <td id=\"T_95c74_row28_col1\" class=\"data row28 col1\" >61</td>\n",
       "    </tr>\n",
       "    <tr>\n",
       "      <th id=\"T_95c74_level0_row29\" class=\"row_heading level0 row29\" >12874</th>\n",
       "      <td id=\"T_95c74_row29_col0\" class=\"data row29 col0\" >I. Lawlor</td>\n",
       "      <td id=\"T_95c74_row29_col1\" class=\"data row29 col1\" >61</td>\n",
       "    </tr>\n",
       "    <tr>\n",
       "      <th id=\"T_95c74_level0_row30\" class=\"row_heading level0 row30\" >13445</th>\n",
       "      <td id=\"T_95c74_row30_col0\" class=\"data row30 col0\" >W. Patching</td>\n",
       "      <td id=\"T_95c74_row30_col1\" class=\"data row30 col1\" >60</td>\n",
       "    </tr>\n",
       "    <tr>\n",
       "      <th id=\"T_95c74_level0_row31\" class=\"row_heading level0 row31\" >13508</th>\n",
       "      <td id=\"T_95c74_row31_col0\" class=\"data row31 col0\" >A. Nemane</td>\n",
       "      <td id=\"T_95c74_row31_col1\" class=\"data row31 col1\" >60</td>\n",
       "    </tr>\n",
       "    <tr>\n",
       "      <th id=\"T_95c74_level0_row32\" class=\"row_heading level0 row32\" >14076</th>\n",
       "      <td id=\"T_95c74_row32_col0\" class=\"data row32 col0\" >T. Adarabioyo</td>\n",
       "      <td id=\"T_95c74_row32_col1\" class=\"data row32 col1\" >59</td>\n",
       "    </tr>\n",
       "  </tbody>\n",
       "</table>\n"
      ]
     },
     "metadata": {},
     "output_type": "display_data"
    }
   ],
   "source": [
    "mu_16_17=df17.loc[df17['club']==\"Manchester United\"].sort_values(by = ['overall'],ascending=False)\n",
    "mu_16_17 = mu_16_17[['short_name','overall']].style.background_gradient(cmap=\"Reds\").set_table_attributes(\"style='display:inline'\").set_caption('16/17 Man Utd (6th) ')\n",
    "\n",
    "mc_16_17=df17.loc[df17['club']==\"Manchester City\"].sort_values(by = ['overall'],ascending=False)\n",
    "mc_16_17 = mc_16_17[['short_name','overall']].style.background_gradient(cmap=\"cool\").set_table_attributes(\"style='display:inline'\").set_caption('Man City (3rd)')\n",
    "\n",
    "cfc_16_17=df17.loc[df17['club']==\"Chelsea\"].sort_values(by = ['overall'],ascending=False)\n",
    "cfc_16_17 = cfc_16_17[['short_name','overall']].style.background_gradient(cmap=\"Blues\").set_table_attributes(\"style='display:inline'\").set_caption('Chelsea (1st)')\n",
    "\n",
    "spurs_16_17=df17.loc[df17['club']==\"Tottenham Hotspur\"].sort_values(by = ['overall'],ascending=False)\n",
    "spurs_16_17 = spurs_16_17[['short_name','overall']].style.background_gradient(cmap=\"gray\").set_table_attributes(\"style='display:inline'\").set_caption('Spurs (2nd)')\n",
    "\n",
    "display_html(mu_16_17._repr_html_()+cfc_16_17._repr_html_()+spurs_16_17._repr_html_()+mc_16_17._repr_html_(),raw=True)"
   ]
  },
  {
   "cell_type": "markdown",
   "metadata": {},
   "source": [
    "### Here we can see that if we extract players by team name, there are a lot of irrelevant players that could be skewing the mean ratings.\n",
    "\n",
    "### Just take a look at last season's Liverpool and United teams."
   ]
  },
  {
   "cell_type": "code",
   "execution_count": 21,
   "metadata": {
    "tags": []
   },
   "outputs": [
    {
     "data": {
      "text/html": [
       "<style type=\"text/css\">\n",
       "#T_03791_row0_col1, #T_03791_row1_col1 {\n",
       "  background-color: #67000d;\n",
       "  color: #f1f1f1;\n",
       "}\n",
       "#T_03791_row2_col1 {\n",
       "  background-color: #77040f;\n",
       "  color: #f1f1f1;\n",
       "}\n",
       "#T_03791_row3_col1 {\n",
       "  background-color: #860811;\n",
       "  color: #f1f1f1;\n",
       "}\n",
       "#T_03791_row4_col1 {\n",
       "  background-color: #a60f15;\n",
       "  color: #f1f1f1;\n",
       "}\n",
       "#T_03791_row5_col1, #T_03791_row6_col1 {\n",
       "  background-color: #b01217;\n",
       "  color: #f1f1f1;\n",
       "}\n",
       "#T_03791_row7_col1 {\n",
       "  background-color: #b91419;\n",
       "  color: #f1f1f1;\n",
       "}\n",
       "#T_03791_row8_col1, #T_03791_row9_col1 {\n",
       "  background-color: #c3161b;\n",
       "  color: #f1f1f1;\n",
       "}\n",
       "#T_03791_row10_col1, #T_03791_row11_col1, #T_03791_row12_col1 {\n",
       "  background-color: #ce1a1e;\n",
       "  color: #f1f1f1;\n",
       "}\n",
       "#T_03791_row13_col1 {\n",
       "  background-color: #d72322;\n",
       "  color: #f1f1f1;\n",
       "}\n",
       "#T_03791_row14_col1, #T_03791_row15_col1, #T_03791_row16_col1 {\n",
       "  background-color: #e02c26;\n",
       "  color: #f1f1f1;\n",
       "}\n",
       "#T_03791_row17_col1 {\n",
       "  background-color: #e93529;\n",
       "  color: #f1f1f1;\n",
       "}\n",
       "#T_03791_row18_col1, #T_03791_row19_col1 {\n",
       "  background-color: #f0402f;\n",
       "  color: #f1f1f1;\n",
       "}\n",
       "#T_03791_row20_col1 {\n",
       "  background-color: #f6583e;\n",
       "  color: #f1f1f1;\n",
       "}\n",
       "#T_03791_row21_col1 {\n",
       "  background-color: #fb7a5a;\n",
       "  color: #f1f1f1;\n",
       "}\n",
       "#T_03791_row22_col1 {\n",
       "  background-color: #fcb89e;\n",
       "  color: #000000;\n",
       "}\n",
       "#T_03791_row23_col1, #T_03791_row24_col1 {\n",
       "  background-color: #fcc3ab;\n",
       "  color: #000000;\n",
       "}\n",
       "#T_03791_row25_col1 {\n",
       "  background-color: #fdccb8;\n",
       "  color: #000000;\n",
       "}\n",
       "#T_03791_row26_col1 {\n",
       "  background-color: #fdd5c4;\n",
       "  color: #000000;\n",
       "}\n",
       "#T_03791_row27_col1 {\n",
       "  background-color: #fee5d9;\n",
       "  color: #000000;\n",
       "}\n",
       "#T_03791_row28_col1 {\n",
       "  background-color: #feeae1;\n",
       "  color: #000000;\n",
       "}\n",
       "#T_03791_row29_col1, #T_03791_row30_col1 {\n",
       "  background-color: #fff0e8;\n",
       "  color: #000000;\n",
       "}\n",
       "#T_03791_row31_col1, #T_03791_row32_col1 {\n",
       "  background-color: #fff5f0;\n",
       "  color: #000000;\n",
       "}\n",
       "</style>\n",
       "<table id=\"T_03791\" style='display:inline'>\n",
       "  <caption>19/20 Liverpool (1st) </caption>\n",
       "  <thead>\n",
       "    <tr>\n",
       "      <th class=\"blank level0\" >&nbsp;</th>\n",
       "      <th id=\"T_03791_level0_col0\" class=\"col_heading level0 col0\" >short_name</th>\n",
       "      <th id=\"T_03791_level0_col1\" class=\"col_heading level0 col1\" >overall</th>\n",
       "    </tr>\n",
       "  </thead>\n",
       "  <tbody>\n",
       "    <tr>\n",
       "      <th id=\"T_03791_level0_row0\" class=\"row_heading level0 row0\" >7</th>\n",
       "      <td id=\"T_03791_row0_col0\" class=\"data row0 col0\" >V. van Dijk</td>\n",
       "      <td id=\"T_03791_row0_col1\" class=\"data row0 col1\" >90</td>\n",
       "    </tr>\n",
       "    <tr>\n",
       "      <th id=\"T_03791_level0_row1\" class=\"row_heading level0 row1\" >9</th>\n",
       "      <td id=\"T_03791_row1_col0\" class=\"data row1 col0\" >M. Salah</td>\n",
       "      <td id=\"T_03791_row1_col1\" class=\"data row1 col1\" >90</td>\n",
       "    </tr>\n",
       "    <tr>\n",
       "      <th id=\"T_03791_level0_row2\" class=\"row_heading level0 row2\" >13</th>\n",
       "      <td id=\"T_03791_row2_col0\" class=\"data row2 col0\" >Alisson</td>\n",
       "      <td id=\"T_03791_row2_col1\" class=\"data row2 col1\" >89</td>\n",
       "    </tr>\n",
       "    <tr>\n",
       "      <th id=\"T_03791_level0_row3\" class=\"row_heading level0 row3\" >39</th>\n",
       "      <td id=\"T_03791_row3_col0\" class=\"data row3 col0\" >S. Mané</td>\n",
       "      <td id=\"T_03791_row3_col1\" class=\"data row3 col1\" >88</td>\n",
       "    </tr>\n",
       "    <tr>\n",
       "      <th id=\"T_03791_level0_row4\" class=\"row_heading level0 row4\" >63</th>\n",
       "      <td id=\"T_03791_row4_col0\" class=\"data row4 col0\" >Roberto Firmino</td>\n",
       "      <td id=\"T_03791_row4_col1\" class=\"data row4 col1\" >86</td>\n",
       "    </tr>\n",
       "    <tr>\n",
       "      <th id=\"T_03791_level0_row5\" class=\"row_heading level0 row5\" >81</th>\n",
       "      <td id=\"T_03791_row5_col0\" class=\"data row5 col0\" >Fabinho</td>\n",
       "      <td id=\"T_03791_row5_col1\" class=\"data row5 col1\" >85</td>\n",
       "    </tr>\n",
       "    <tr>\n",
       "      <th id=\"T_03791_level0_row6\" class=\"row_heading level0 row6\" >82</th>\n",
       "      <td id=\"T_03791_row6_col0\" class=\"data row6 col0\" >A. Robertson</td>\n",
       "      <td id=\"T_03791_row6_col1\" class=\"data row6 col1\" >85</td>\n",
       "    </tr>\n",
       "    <tr>\n",
       "      <th id=\"T_03791_level0_row7\" class=\"row_heading level0 row7\" >139</th>\n",
       "      <td id=\"T_03791_row7_col0\" class=\"data row7 col0\" >G. Wijnaldum</td>\n",
       "      <td id=\"T_03791_row7_col1\" class=\"data row7 col1\" >84</td>\n",
       "    </tr>\n",
       "    <tr>\n",
       "      <th id=\"T_03791_level0_row8\" class=\"row_heading level0 row8\" >160</th>\n",
       "      <td id=\"T_03791_row8_col0\" class=\"data row8 col0\" >T. Alexander-Arnold</td>\n",
       "      <td id=\"T_03791_row8_col1\" class=\"data row8 col1\" >83</td>\n",
       "    </tr>\n",
       "    <tr>\n",
       "      <th id=\"T_03791_level0_row9\" class=\"row_heading level0 row9\" >218</th>\n",
       "      <td id=\"T_03791_row9_col0\" class=\"data row9 col0\" >J. Henderson</td>\n",
       "      <td id=\"T_03791_row9_col1\" class=\"data row9 col1\" >83</td>\n",
       "    </tr>\n",
       "    <tr>\n",
       "      <th id=\"T_03791_level0_row10\" class=\"row_heading level0 row10\" >243</th>\n",
       "      <td id=\"T_03791_row10_col0\" class=\"data row10 col0\" >N. Keïta</td>\n",
       "      <td id=\"T_03791_row10_col1\" class=\"data row10 col1\" >82</td>\n",
       "    </tr>\n",
       "    <tr>\n",
       "      <th id=\"T_03791_level0_row11\" class=\"row_heading level0 row11\" >260</th>\n",
       "      <td id=\"T_03791_row11_col0\" class=\"data row11 col0\" >J. Matip</td>\n",
       "      <td id=\"T_03791_row11_col1\" class=\"data row11 col1\" >82</td>\n",
       "    </tr>\n",
       "    <tr>\n",
       "      <th id=\"T_03791_level0_row12\" class=\"row_heading level0 row12\" >313</th>\n",
       "      <td id=\"T_03791_row12_col0\" class=\"data row12 col0\" >X. Shaqiri</td>\n",
       "      <td id=\"T_03791_row12_col1\" class=\"data row12 col1\" >82</td>\n",
       "    </tr>\n",
       "    <tr>\n",
       "      <th id=\"T_03791_level0_row13\" class=\"row_heading level0 row13\" >371</th>\n",
       "      <td id=\"T_03791_row13_col0\" class=\"data row13 col0\" >J. Milner</td>\n",
       "      <td id=\"T_03791_row13_col1\" class=\"data row13 col1\" >81</td>\n",
       "    </tr>\n",
       "    <tr>\n",
       "      <th id=\"T_03791_level0_row14\" class=\"row_heading level0 row14\" >451</th>\n",
       "      <td id=\"T_03791_row14_col0\" class=\"data row14 col0\" >A. Oxlade-Chamberlain</td>\n",
       "      <td id=\"T_03791_row14_col1\" class=\"data row14 col1\" >80</td>\n",
       "    </tr>\n",
       "    <tr>\n",
       "      <th id=\"T_03791_level0_row15\" class=\"row_heading level0 row15\" >542</th>\n",
       "      <td id=\"T_03791_row15_col0\" class=\"data row15 col0\" >D. Lovren</td>\n",
       "      <td id=\"T_03791_row15_col1\" class=\"data row15 col1\" >80</td>\n",
       "    </tr>\n",
       "    <tr>\n",
       "      <th id=\"T_03791_level0_row16\" class=\"row_heading level0 row16\" >413</th>\n",
       "      <td id=\"T_03791_row16_col0\" class=\"data row16 col0\" >J. Gomez</td>\n",
       "      <td id=\"T_03791_row16_col1\" class=\"data row16 col1\" >80</td>\n",
       "    </tr>\n",
       "    <tr>\n",
       "      <th id=\"T_03791_level0_row17\" class=\"row_heading level0 row17\" >689</th>\n",
       "      <td id=\"T_03791_row17_col0\" class=\"data row17 col0\" >A. Lallana</td>\n",
       "      <td id=\"T_03791_row17_col1\" class=\"data row17 col1\" >79</td>\n",
       "    </tr>\n",
       "    <tr>\n",
       "      <th id=\"T_03791_level0_row18\" class=\"row_heading level0 row18\" >788</th>\n",
       "      <td id=\"T_03791_row18_col0\" class=\"data row18 col0\" >D. Origi</td>\n",
       "      <td id=\"T_03791_row18_col1\" class=\"data row18 col1\" >78</td>\n",
       "    </tr>\n",
       "    <tr>\n",
       "      <th id=\"T_03791_level0_row19\" class=\"row_heading level0 row19\" >934</th>\n",
       "      <td id=\"T_03791_row19_col0\" class=\"data row19 col0\" >N. Clyne</td>\n",
       "      <td id=\"T_03791_row19_col1\" class=\"data row19 col1\" >78</td>\n",
       "    </tr>\n",
       "    <tr>\n",
       "      <th id=\"T_03791_level0_row20\" class=\"row_heading level0 row20\" >1542</th>\n",
       "      <td id=\"T_03791_row20_col0\" class=\"data row20 col0\" >Adrián</td>\n",
       "      <td id=\"T_03791_row20_col1\" class=\"data row20 col1\" >76</td>\n",
       "    </tr>\n",
       "    <tr>\n",
       "      <th id=\"T_03791_level0_row21\" class=\"row_heading level0 row21\" >2658</th>\n",
       "      <td id=\"T_03791_row21_col0\" class=\"data row21 col0\" >R. Kent</td>\n",
       "      <td id=\"T_03791_row21_col1\" class=\"data row21 col1\" >73</td>\n",
       "    </tr>\n",
       "    <tr>\n",
       "      <th id=\"T_03791_level0_row22\" class=\"row_heading level0 row22\" >7814</th>\n",
       "      <td id=\"T_03791_row22_col0\" class=\"data row22 col0\" >H. Kane</td>\n",
       "      <td id=\"T_03791_row22_col1\" class=\"data row22 col1\" >67</td>\n",
       "    </tr>\n",
       "    <tr>\n",
       "      <th id=\"T_03791_level0_row23\" class=\"row_heading level0 row23\" >8979</th>\n",
       "      <td id=\"T_03791_row23_col0\" class=\"data row23 col0\" >Pedro Chirivella</td>\n",
       "      <td id=\"T_03791_row23_col1\" class=\"data row23 col1\" >66</td>\n",
       "    </tr>\n",
       "    <tr>\n",
       "      <th id=\"T_03791_level0_row24\" class=\"row_heading level0 row24\" >8762</th>\n",
       "      <td id=\"T_03791_row24_col0\" class=\"data row24 col0\" >S. van den Berg</td>\n",
       "      <td id=\"T_03791_row24_col1\" class=\"data row24 col1\" >66</td>\n",
       "    </tr>\n",
       "    <tr>\n",
       "      <th id=\"T_03791_level0_row25\" class=\"row_heading level0 row25\" >10671</th>\n",
       "      <td id=\"T_03791_row25_col0\" class=\"data row25 col0\" >A. Lonergan</td>\n",
       "      <td id=\"T_03791_row25_col1\" class=\"data row25 col1\" >65</td>\n",
       "    </tr>\n",
       "    <tr>\n",
       "      <th id=\"T_03791_level0_row26\" class=\"row_heading level0 row26\" >11022</th>\n",
       "      <td id=\"T_03791_row26_col0\" class=\"data row26 col0\" >R. Brewster</td>\n",
       "      <td id=\"T_03791_row26_col1\" class=\"data row26 col1\" >64</td>\n",
       "    </tr>\n",
       "    <tr>\n",
       "      <th id=\"T_03791_level0_row27\" class=\"row_heading level0 row27\" >13104</th>\n",
       "      <td id=\"T_03791_row27_col0\" class=\"data row27 col0\" >K. Hoever</td>\n",
       "      <td id=\"T_03791_row27_col1\" class=\"data row27 col1\" >62</td>\n",
       "    </tr>\n",
       "    <tr>\n",
       "      <th id=\"T_03791_level0_row28\" class=\"row_heading level0 row28\" >13978</th>\n",
       "      <td id=\"T_03791_row28_col0\" class=\"data row28 col0\" >C. Jones</td>\n",
       "      <td id=\"T_03791_row28_col1\" class=\"data row28 col1\" >61</td>\n",
       "    </tr>\n",
       "    <tr>\n",
       "      <th id=\"T_03791_level0_row29\" class=\"row_heading level0 row29\" >14637</th>\n",
       "      <td id=\"T_03791_row29_col0\" class=\"data row29 col0\" >P. Glatzel</td>\n",
       "      <td id=\"T_03791_row29_col1\" class=\"data row29 col1\" >60</td>\n",
       "    </tr>\n",
       "    <tr>\n",
       "      <th id=\"T_03791_level0_row30\" class=\"row_heading level0 row30\" >14645</th>\n",
       "      <td id=\"T_03791_row30_col0\" class=\"data row30 col0\" >A. Lewis</td>\n",
       "      <td id=\"T_03791_row30_col1\" class=\"data row30 col1\" >60</td>\n",
       "    </tr>\n",
       "    <tr>\n",
       "      <th id=\"T_03791_level0_row31\" class=\"row_heading level0 row31\" >15347</th>\n",
       "      <td id=\"T_03791_row31_col0\" class=\"data row31 col0\" >Y. Larouci</td>\n",
       "      <td id=\"T_03791_row31_col1\" class=\"data row31 col1\" >59</td>\n",
       "    </tr>\n",
       "    <tr>\n",
       "      <th id=\"T_03791_level0_row32\" class=\"row_heading level0 row32\" >15403</th>\n",
       "      <td id=\"T_03791_row32_col0\" class=\"data row32 col0\" >C. Kelleher</td>\n",
       "      <td id=\"T_03791_row32_col1\" class=\"data row32 col1\" >59</td>\n",
       "    </tr>\n",
       "  </tbody>\n",
       "</table>\n",
       "<style type=\"text/css\">\n",
       "#T_8c282_row0_col1 {\n",
       "  background-color: #67000d;\n",
       "  color: #f1f1f1;\n",
       "}\n",
       "#T_8c282_row1_col1 {\n",
       "  background-color: #79040f;\n",
       "  color: #f1f1f1;\n",
       "}\n",
       "#T_8c282_row2_col1, #T_8c282_row3_col1 {\n",
       "  background-color: #c5171c;\n",
       "  color: #f1f1f1;\n",
       "}\n",
       "#T_8c282_row4_col1, #T_8c282_row5_col1, #T_8c282_row6_col1, #T_8c282_row7_col1 {\n",
       "  background-color: #d01d1f;\n",
       "  color: #f1f1f1;\n",
       "}\n",
       "#T_8c282_row8_col1, #T_8c282_row9_col1, #T_8c282_row10_col1 {\n",
       "  background-color: #db2824;\n",
       "  color: #f1f1f1;\n",
       "}\n",
       "#T_8c282_row11_col1, #T_8c282_row12_col1, #T_8c282_row13_col1 {\n",
       "  background-color: #e63328;\n",
       "  color: #f1f1f1;\n",
       "}\n",
       "#T_8c282_row14_col1, #T_8c282_row15_col1, #T_8c282_row16_col1 {\n",
       "  background-color: #f03f2e;\n",
       "  color: #f1f1f1;\n",
       "}\n",
       "#T_8c282_row17_col1 {\n",
       "  background-color: #f44d38;\n",
       "  color: #f1f1f1;\n",
       "}\n",
       "#T_8c282_row18_col1, #T_8c282_row19_col1, #T_8c282_row20_col1 {\n",
       "  background-color: #f75c41;\n",
       "  color: #f1f1f1;\n",
       "}\n",
       "#T_8c282_row21_col1, #T_8c282_row22_col1 {\n",
       "  background-color: #fb7656;\n",
       "  color: #f1f1f1;\n",
       "}\n",
       "#T_8c282_row23_col1, #T_8c282_row24_col1 {\n",
       "  background-color: #fc8f6f;\n",
       "  color: #000000;\n",
       "}\n",
       "#T_8c282_row25_col1, #T_8c282_row26_col1 {\n",
       "  background-color: #fc9c7d;\n",
       "  color: #000000;\n",
       "}\n",
       "#T_8c282_row27_col1 {\n",
       "  background-color: #fdccb8;\n",
       "  color: #000000;\n",
       "}\n",
       "#T_8c282_row28_col1, #T_8c282_row29_col1 {\n",
       "  background-color: #fed8c7;\n",
       "  color: #000000;\n",
       "}\n",
       "#T_8c282_row30_col1 {\n",
       "  background-color: #fee2d5;\n",
       "  color: #000000;\n",
       "}\n",
       "#T_8c282_row31_col1 {\n",
       "  background-color: #fee8de;\n",
       "  color: #000000;\n",
       "}\n",
       "#T_8c282_row32_col1 {\n",
       "  background-color: #fff5f0;\n",
       "  color: #000000;\n",
       "}\n",
       "</style>\n",
       "<table id=\"T_8c282\" style='display:inline'>\n",
       "  <caption>19/20 Man Utd (3rd) </caption>\n",
       "  <thead>\n",
       "    <tr>\n",
       "      <th class=\"blank level0\" >&nbsp;</th>\n",
       "      <th id=\"T_8c282_level0_col0\" class=\"col_heading level0 col0\" >short_name</th>\n",
       "      <th id=\"T_8c282_level0_col1\" class=\"col_heading level0 col1\" >overall</th>\n",
       "    </tr>\n",
       "  </thead>\n",
       "  <tbody>\n",
       "    <tr>\n",
       "      <th id=\"T_8c282_level0_row0\" class=\"row_heading level0 row0\" >14</th>\n",
       "      <td id=\"T_8c282_row0_col0\" class=\"data row0 col0\" >De Gea</td>\n",
       "      <td id=\"T_8c282_row0_col1\" class=\"data row0 col1\" >89</td>\n",
       "    </tr>\n",
       "    <tr>\n",
       "      <th id=\"T_8c282_level0_row1\" class=\"row_heading level0 row1\" >24</th>\n",
       "      <td id=\"T_8c282_row1_col0\" class=\"data row1 col0\" >P. Pogba</td>\n",
       "      <td id=\"T_8c282_row1_col1\" class=\"data row1 col1\" >88</td>\n",
       "    </tr>\n",
       "    <tr>\n",
       "      <th id=\"T_8c282_level0_row2\" class=\"row_heading level0 row2\" >163</th>\n",
       "      <td id=\"T_8c282_row2_col0\" class=\"data row2 col0\" >A. Martial</td>\n",
       "      <td id=\"T_8c282_row2_col1\" class=\"data row2 col1\" >83</td>\n",
       "    </tr>\n",
       "    <tr>\n",
       "      <th id=\"T_8c282_level0_row3\" class=\"row_heading level0 row3\" >171</th>\n",
       "      <td id=\"T_8c282_row3_col0\" class=\"data row3 col0\" >M. Rashford</td>\n",
       "      <td id=\"T_8c282_row3_col1\" class=\"data row3 col1\" >83</td>\n",
       "    </tr>\n",
       "    <tr>\n",
       "      <th id=\"T_8c282_level0_row4\" class=\"row_heading level0 row4\" >280</th>\n",
       "      <td id=\"T_8c282_row4_col0\" class=\"data row4 col0\" >H. Maguire</td>\n",
       "      <td id=\"T_8c282_row4_col1\" class=\"data row4 col1\" >82</td>\n",
       "    </tr>\n",
       "    <tr>\n",
       "      <th id=\"T_8c282_level0_row5\" class=\"row_heading level0 row5\" >295</th>\n",
       "      <td id=\"T_8c282_row5_col0\" class=\"data row5 col0\" >Juan Mata</td>\n",
       "      <td id=\"T_8c282_row5_col1\" class=\"data row5 col1\" >82</td>\n",
       "    </tr>\n",
       "    <tr>\n",
       "      <th id=\"T_8c282_level0_row6\" class=\"row_heading level0 row6\" >301</th>\n",
       "      <td id=\"T_8c282_row6_col0\" class=\"data row6 col0\" >A. Sánchez</td>\n",
       "      <td id=\"T_8c282_row6_col1\" class=\"data row6 col1\" >82</td>\n",
       "    </tr>\n",
       "    <tr>\n",
       "      <th id=\"T_8c282_level0_row7\" class=\"row_heading level0 row7\" >319</th>\n",
       "      <td id=\"T_8c282_row7_col0\" class=\"data row7 col0\" >J. Lingard</td>\n",
       "      <td id=\"T_8c282_row7_col1\" class=\"data row7 col1\" >82</td>\n",
       "    </tr>\n",
       "    <tr>\n",
       "      <th id=\"T_8c282_level0_row8\" class=\"row_heading level0 row8\" >335</th>\n",
       "      <td id=\"T_8c282_row8_col0\" class=\"data row8 col0\" >V. Lindelöf</td>\n",
       "      <td id=\"T_8c282_row8_col1\" class=\"data row8 col1\" >81</td>\n",
       "    </tr>\n",
       "    <tr>\n",
       "      <th id=\"T_8c282_level0_row9\" class=\"row_heading level0 row9\" >347</th>\n",
       "      <td id=\"T_8c282_row9_col0\" class=\"data row9 col0\" >L. Shaw</td>\n",
       "      <td id=\"T_8c282_row9_col1\" class=\"data row9 col1\" >81</td>\n",
       "    </tr>\n",
       "    <tr>\n",
       "      <th id=\"T_8c282_level0_row10\" class=\"row_heading level0 row10\" >396</th>\n",
       "      <td id=\"T_8c282_row10_col0\" class=\"data row10 col0\" >N. Matić</td>\n",
       "      <td id=\"T_8c282_row10_col1\" class=\"data row10 col1\" >81</td>\n",
       "    </tr>\n",
       "    <tr>\n",
       "      <th id=\"T_8c282_level0_row11\" class=\"row_heading level0 row11\" >462</th>\n",
       "      <td id=\"T_8c282_row11_col0\" class=\"data row11 col0\" >E. Bailly</td>\n",
       "      <td id=\"T_8c282_row11_col1\" class=\"data row11 col1\" >80</td>\n",
       "    </tr>\n",
       "    <tr>\n",
       "      <th id=\"T_8c282_level0_row12\" class=\"row_heading level0 row12\" >508</th>\n",
       "      <td id=\"T_8c282_row12_col0\" class=\"data row12 col0\" >S. Romero</td>\n",
       "      <td id=\"T_8c282_row12_col1\" class=\"data row12 col1\" >80</td>\n",
       "    </tr>\n",
       "    <tr>\n",
       "      <th id=\"T_8c282_level0_row13\" class=\"row_heading level0 row13\" >534</th>\n",
       "      <td id=\"T_8c282_row13_col0\" class=\"data row13 col0\" >C. Smalling</td>\n",
       "      <td id=\"T_8c282_row13_col1\" class=\"data row13 col1\" >80</td>\n",
       "    </tr>\n",
       "    <tr>\n",
       "      <th id=\"T_8c282_level0_row14\" class=\"row_heading level0 row14\" >644</th>\n",
       "      <td id=\"T_8c282_row14_col0\" class=\"data row14 col0\" >Fred</td>\n",
       "      <td id=\"T_8c282_row14_col1\" class=\"data row14 col1\" >79</td>\n",
       "    </tr>\n",
       "    <tr>\n",
       "      <th id=\"T_8c282_level0_row15\" class=\"row_heading level0 row15\" >654</th>\n",
       "      <td id=\"T_8c282_row15_col0\" class=\"data row15 col0\" >P. Jones</td>\n",
       "      <td id=\"T_8c282_row15_col1\" class=\"data row15 col1\" >79</td>\n",
       "    </tr>\n",
       "    <tr>\n",
       "      <th id=\"T_8c282_level0_row16\" class=\"row_heading level0 row16\" >571</th>\n",
       "      <td id=\"T_8c282_row16_col0\" class=\"data row16 col0\" >A. Wan-Bissaka</td>\n",
       "      <td id=\"T_8c282_row16_col1\" class=\"data row16 col1\" >79</td>\n",
       "    </tr>\n",
       "    <tr>\n",
       "      <th id=\"T_8c282_level0_row17\" class=\"row_heading level0 row17\" >957</th>\n",
       "      <td id=\"T_8c282_row17_col0\" class=\"data row17 col0\" >M. Rojo</td>\n",
       "      <td id=\"T_8c282_row17_col1\" class=\"data row17 col1\" >78</td>\n",
       "    </tr>\n",
       "    <tr>\n",
       "      <th id=\"T_8c282_level0_row18\" class=\"row_heading level0 row18\" >1028</th>\n",
       "      <td id=\"T_8c282_row18_col0\" class=\"data row18 col0\" >S. McTominay</td>\n",
       "      <td id=\"T_8c282_row18_col1\" class=\"data row18 col1\" >77</td>\n",
       "    </tr>\n",
       "    <tr>\n",
       "      <th id=\"T_8c282_level0_row19\" class=\"row_heading level0 row19\" >1044</th>\n",
       "      <td id=\"T_8c282_row19_col0\" class=\"data row19 col0\" >Andreas Pereira</td>\n",
       "      <td id=\"T_8c282_row19_col1\" class=\"data row19 col1\" >77</td>\n",
       "    </tr>\n",
       "    <tr>\n",
       "      <th id=\"T_8c282_level0_row20\" class=\"row_heading level0 row20\" >1140</th>\n",
       "      <td id=\"T_8c282_row20_col0\" class=\"data row20 col0\" >A. Young</td>\n",
       "      <td id=\"T_8c282_row20_col1\" class=\"data row20 col1\" >77</td>\n",
       "    </tr>\n",
       "    <tr>\n",
       "      <th id=\"T_8c282_level0_row21\" class=\"row_heading level0 row21\" >1631</th>\n",
       "      <td id=\"T_8c282_row21_col0\" class=\"data row21 col0\" >Diogo Dalot</td>\n",
       "      <td id=\"T_8c282_row21_col1\" class=\"data row21 col1\" >75</td>\n",
       "    </tr>\n",
       "    <tr>\n",
       "      <th id=\"T_8c282_level0_row22\" class=\"row_heading level0 row22\" >1962</th>\n",
       "      <td id=\"T_8c282_row22_col0\" class=\"data row22 col0\" >M. Darmian</td>\n",
       "      <td id=\"T_8c282_row22_col1\" class=\"data row22 col1\" >75</td>\n",
       "    </tr>\n",
       "    <tr>\n",
       "      <th id=\"T_8c282_level0_row23\" class=\"row_heading level0 row23\" >2702</th>\n",
       "      <td id=\"T_8c282_row23_col0\" class=\"data row23 col0\" >T. Fosu-Mensah</td>\n",
       "      <td id=\"T_8c282_row23_col1\" class=\"data row23 col1\" >73</td>\n",
       "    </tr>\n",
       "    <tr>\n",
       "      <th id=\"T_8c282_level0_row24\" class=\"row_heading level0 row24\" >2661</th>\n",
       "      <td id=\"T_8c282_row24_col0\" class=\"data row24 col0\" >A. Tuanzebe</td>\n",
       "      <td id=\"T_8c282_row24_col1\" class=\"data row24 col1\" >73</td>\n",
       "    </tr>\n",
       "    <tr>\n",
       "      <th id=\"T_8c282_level0_row25\" class=\"row_heading level0 row25\" >3299</th>\n",
       "      <td id=\"T_8c282_row25_col0\" class=\"data row25 col0\" >D. James</td>\n",
       "      <td id=\"T_8c282_row25_col1\" class=\"data row25 col1\" >72</td>\n",
       "    </tr>\n",
       "    <tr>\n",
       "      <th id=\"T_8c282_level0_row26\" class=\"row_heading level0 row26\" >3689</th>\n",
       "      <td id=\"T_8c282_row26_col0\" class=\"data row26 col0\" >L. Grant</td>\n",
       "      <td id=\"T_8c282_row26_col1\" class=\"data row26 col1\" >72</td>\n",
       "    </tr>\n",
       "    <tr>\n",
       "      <th id=\"T_8c282_level0_row27\" class=\"row_heading level0 row27\" >6622</th>\n",
       "      <td id=\"T_8c282_row27_col0\" class=\"data row27 col0\" >A. Gomes</td>\n",
       "      <td id=\"T_8c282_row27_col1\" class=\"data row27 col1\" >68</td>\n",
       "    </tr>\n",
       "    <tr>\n",
       "      <th id=\"T_8c282_level0_row28\" class=\"row_heading level0 row28\" >7690</th>\n",
       "      <td id=\"T_8c282_row28_col0\" class=\"data row28 col0\" >M. Greenwood</td>\n",
       "      <td id=\"T_8c282_row28_col1\" class=\"data row28 col1\" >67</td>\n",
       "    </tr>\n",
       "    <tr>\n",
       "      <th id=\"T_8c282_level0_row29\" class=\"row_heading level0 row29\" >8010</th>\n",
       "      <td id=\"T_8c282_row29_col0\" class=\"data row29 col0\" >C. Borthwick-Jackson</td>\n",
       "      <td id=\"T_8c282_row29_col1\" class=\"data row29 col1\" >67</td>\n",
       "    </tr>\n",
       "    <tr>\n",
       "      <th id=\"T_8c282_level0_row30\" class=\"row_heading level0 row30\" >8839</th>\n",
       "      <td id=\"T_8c282_row30_col0\" class=\"data row30 col0\" >D. Mitchell</td>\n",
       "      <td id=\"T_8c282_row30_col1\" class=\"data row30 col1\" >66</td>\n",
       "    </tr>\n",
       "    <tr>\n",
       "      <th id=\"T_8c282_level0_row31\" class=\"row_heading level0 row31\" >9901</th>\n",
       "      <td id=\"T_8c282_row31_col0\" class=\"data row31 col0\" >T. Chong</td>\n",
       "      <td id=\"T_8c282_row31_col1\" class=\"data row31 col1\" >65</td>\n",
       "    </tr>\n",
       "    <tr>\n",
       "      <th id=\"T_8c282_level0_row32\" class=\"row_heading level0 row32\" >12167</th>\n",
       "      <td id=\"T_8c282_row32_col0\" class=\"data row32 col0\" >J. Garner</td>\n",
       "      <td id=\"T_8c282_row32_col1\" class=\"data row32 col1\" >63</td>\n",
       "    </tr>\n",
       "  </tbody>\n",
       "</table>\n"
      ]
     },
     "metadata": {},
     "output_type": "display_data"
    }
   ],
   "source": [
    "liv_19_20=df20.loc[df20['club']==\"Liverpool\"].sort_values(by = ['overall'],ascending=False)\n",
    "liv_19_20 = liv_19_20[['short_name','overall']].style.background_gradient(cmap=\"Reds\").set_table_attributes(\"style='display:inline'\").set_caption('19/20 Liverpool (1st) ')\n",
    "\n",
    "manu_19_20=df20.loc[df20['club']==\"Manchester United\"].sort_values(by = ['overall'],ascending=False)\n",
    "manu_19_20 = manu_19_20[['short_name','overall']].style.background_gradient(cmap=\"Reds\").set_table_attributes(\"style='display:inline'\").set_caption('19/20 Man Utd (3rd) ')\n",
    "\n",
    "display_html(liv_19_20._repr_html_()+manu_19_20._repr_html_(),raw=True)"
   ]
  },
  {
   "cell_type": "markdown",
   "metadata": {},
   "source": [
    "### We can more clearly see the flaw in comparing teams this way in this case; coming off from the top, Liverpool has far stronger players, those who actually make the starting 11. And yet, since United has better players down below, those who aren't even registered for the team, the mean United rating turns out to be higher than that of Liverpool."
   ]
  },
  {
   "cell_type": "code",
   "execution_count": 22,
   "metadata": {
    "tags": []
   },
   "outputs": [
    {
     "data": {
      "application/vnd.plotly.v1+json": {
       "config": {
        "plotlyServerURL": "https://plotly.com"
       },
       "data": [
        {
         "hoverinfo": "text+name",
         "line": {
          "shape": "linear"
         },
         "mode": "lines+markers",
         "name": "Liverpool",
         "type": "scatter",
         "x": [
          "14/15",
          "15/16",
          "16/17",
          "17/18",
          "18/19",
          "19/20"
         ],
         "y": [
          77.72,
          77.36,
          78.92,
          78.96,
          80.8,
          80.52
         ]
        },
        {
         "hoverinfo": "text+name",
         "line": {
          "shape": "linear"
         },
         "mode": "lines+markers",
         "name": "Chelsea",
         "type": "scatter",
         "x": [
          "14/15",
          "15/16",
          "16/17",
          "17/18",
          "18/19",
          "19/20"
         ],
         "y": [
          78.52,
          78.52,
          80.6,
          81.44,
          81.4,
          79.8
         ]
        },
        {
         "hoverinfo": "text+name",
         "line": {
          "shape": "linear"
         },
         "mode": "lines+markers",
         "name": "Manchester City",
         "type": "scatter",
         "x": [
          "14/15",
          "15/16",
          "16/17",
          "17/18",
          "18/19",
          "19/20"
         ],
         "y": [
          78.8,
          79.6,
          80,
          79.24,
          81.84,
          82.48
         ]
        },
        {
         "hoverinfo": "text+name",
         "line": {
          "shape": "linear"
         },
         "mode": "lines+markers",
         "name": "Leicester City",
         "type": "scatter",
         "x": [
          "14/15",
          "15/16",
          "16/17",
          "17/18",
          "18/19",
          "19/20"
         ],
         "y": [
          69.36,
          72.32,
          76.24,
          76.16,
          76.68,
          76.68
         ]
        },
        {
         "hoverinfo": "text+name",
         "line": {
          "shape": "linear"
         },
         "mode": "lines+markers",
         "name": "Manchester United",
         "type": "scatter",
         "x": [
          "14/15",
          "15/16",
          "16/17",
          "17/18",
          "18/19",
          "19/20"
         ],
         "y": [
          78.12,
          77.52,
          81.8,
          81.64,
          81.36,
          79.84
         ]
        }
       ],
       "layout": {
        "autosize": true,
        "legend": {
         "font": {
          "size": 16
         },
         "traceorder": "reversed",
         "x": 1.02,
         "y": 0.5
        },
        "template": {
         "data": {
          "bar": [
           {
            "error_x": {
             "color": "#2a3f5f"
            },
            "error_y": {
             "color": "#2a3f5f"
            },
            "marker": {
             "line": {
              "color": "#E5ECF6",
              "width": 0.5
             },
             "pattern": {
              "fillmode": "overlay",
              "size": 10,
              "solidity": 0.2
             }
            },
            "type": "bar"
           }
          ],
          "barpolar": [
           {
            "marker": {
             "line": {
              "color": "#E5ECF6",
              "width": 0.5
             },
             "pattern": {
              "fillmode": "overlay",
              "size": 10,
              "solidity": 0.2
             }
            },
            "type": "barpolar"
           }
          ],
          "carpet": [
           {
            "aaxis": {
             "endlinecolor": "#2a3f5f",
             "gridcolor": "white",
             "linecolor": "white",
             "minorgridcolor": "white",
             "startlinecolor": "#2a3f5f"
            },
            "baxis": {
             "endlinecolor": "#2a3f5f",
             "gridcolor": "white",
             "linecolor": "white",
             "minorgridcolor": "white",
             "startlinecolor": "#2a3f5f"
            },
            "type": "carpet"
           }
          ],
          "choropleth": [
           {
            "colorbar": {
             "outlinewidth": 0,
             "ticks": ""
            },
            "type": "choropleth"
           }
          ],
          "contour": [
           {
            "colorbar": {
             "outlinewidth": 0,
             "ticks": ""
            },
            "colorscale": [
             [
              0,
              "#0d0887"
             ],
             [
              0.1111111111111111,
              "#46039f"
             ],
             [
              0.2222222222222222,
              "#7201a8"
             ],
             [
              0.3333333333333333,
              "#9c179e"
             ],
             [
              0.4444444444444444,
              "#bd3786"
             ],
             [
              0.5555555555555556,
              "#d8576b"
             ],
             [
              0.6666666666666666,
              "#ed7953"
             ],
             [
              0.7777777777777778,
              "#fb9f3a"
             ],
             [
              0.8888888888888888,
              "#fdca26"
             ],
             [
              1,
              "#f0f921"
             ]
            ],
            "type": "contour"
           }
          ],
          "contourcarpet": [
           {
            "colorbar": {
             "outlinewidth": 0,
             "ticks": ""
            },
            "type": "contourcarpet"
           }
          ],
          "heatmap": [
           {
            "colorbar": {
             "outlinewidth": 0,
             "ticks": ""
            },
            "colorscale": [
             [
              0,
              "#0d0887"
             ],
             [
              0.1111111111111111,
              "#46039f"
             ],
             [
              0.2222222222222222,
              "#7201a8"
             ],
             [
              0.3333333333333333,
              "#9c179e"
             ],
             [
              0.4444444444444444,
              "#bd3786"
             ],
             [
              0.5555555555555556,
              "#d8576b"
             ],
             [
              0.6666666666666666,
              "#ed7953"
             ],
             [
              0.7777777777777778,
              "#fb9f3a"
             ],
             [
              0.8888888888888888,
              "#fdca26"
             ],
             [
              1,
              "#f0f921"
             ]
            ],
            "type": "heatmap"
           }
          ],
          "heatmapgl": [
           {
            "colorbar": {
             "outlinewidth": 0,
             "ticks": ""
            },
            "colorscale": [
             [
              0,
              "#0d0887"
             ],
             [
              0.1111111111111111,
              "#46039f"
             ],
             [
              0.2222222222222222,
              "#7201a8"
             ],
             [
              0.3333333333333333,
              "#9c179e"
             ],
             [
              0.4444444444444444,
              "#bd3786"
             ],
             [
              0.5555555555555556,
              "#d8576b"
             ],
             [
              0.6666666666666666,
              "#ed7953"
             ],
             [
              0.7777777777777778,
              "#fb9f3a"
             ],
             [
              0.8888888888888888,
              "#fdca26"
             ],
             [
              1,
              "#f0f921"
             ]
            ],
            "type": "heatmapgl"
           }
          ],
          "histogram": [
           {
            "marker": {
             "pattern": {
              "fillmode": "overlay",
              "size": 10,
              "solidity": 0.2
             }
            },
            "type": "histogram"
           }
          ],
          "histogram2d": [
           {
            "colorbar": {
             "outlinewidth": 0,
             "ticks": ""
            },
            "colorscale": [
             [
              0,
              "#0d0887"
             ],
             [
              0.1111111111111111,
              "#46039f"
             ],
             [
              0.2222222222222222,
              "#7201a8"
             ],
             [
              0.3333333333333333,
              "#9c179e"
             ],
             [
              0.4444444444444444,
              "#bd3786"
             ],
             [
              0.5555555555555556,
              "#d8576b"
             ],
             [
              0.6666666666666666,
              "#ed7953"
             ],
             [
              0.7777777777777778,
              "#fb9f3a"
             ],
             [
              0.8888888888888888,
              "#fdca26"
             ],
             [
              1,
              "#f0f921"
             ]
            ],
            "type": "histogram2d"
           }
          ],
          "histogram2dcontour": [
           {
            "colorbar": {
             "outlinewidth": 0,
             "ticks": ""
            },
            "colorscale": [
             [
              0,
              "#0d0887"
             ],
             [
              0.1111111111111111,
              "#46039f"
             ],
             [
              0.2222222222222222,
              "#7201a8"
             ],
             [
              0.3333333333333333,
              "#9c179e"
             ],
             [
              0.4444444444444444,
              "#bd3786"
             ],
             [
              0.5555555555555556,
              "#d8576b"
             ],
             [
              0.6666666666666666,
              "#ed7953"
             ],
             [
              0.7777777777777778,
              "#fb9f3a"
             ],
             [
              0.8888888888888888,
              "#fdca26"
             ],
             [
              1,
              "#f0f921"
             ]
            ],
            "type": "histogram2dcontour"
           }
          ],
          "mesh3d": [
           {
            "colorbar": {
             "outlinewidth": 0,
             "ticks": ""
            },
            "type": "mesh3d"
           }
          ],
          "parcoords": [
           {
            "line": {
             "colorbar": {
              "outlinewidth": 0,
              "ticks": ""
             }
            },
            "type": "parcoords"
           }
          ],
          "pie": [
           {
            "automargin": true,
            "type": "pie"
           }
          ],
          "scatter": [
           {
            "fillpattern": {
             "fillmode": "overlay",
             "size": 10,
             "solidity": 0.2
            },
            "type": "scatter"
           }
          ],
          "scatter3d": [
           {
            "line": {
             "colorbar": {
              "outlinewidth": 0,
              "ticks": ""
             }
            },
            "marker": {
             "colorbar": {
              "outlinewidth": 0,
              "ticks": ""
             }
            },
            "type": "scatter3d"
           }
          ],
          "scattercarpet": [
           {
            "marker": {
             "colorbar": {
              "outlinewidth": 0,
              "ticks": ""
             }
            },
            "type": "scattercarpet"
           }
          ],
          "scattergeo": [
           {
            "marker": {
             "colorbar": {
              "outlinewidth": 0,
              "ticks": ""
             }
            },
            "type": "scattergeo"
           }
          ],
          "scattergl": [
           {
            "marker": {
             "colorbar": {
              "outlinewidth": 0,
              "ticks": ""
             }
            },
            "type": "scattergl"
           }
          ],
          "scattermapbox": [
           {
            "marker": {
             "colorbar": {
              "outlinewidth": 0,
              "ticks": ""
             }
            },
            "type": "scattermapbox"
           }
          ],
          "scatterpolar": [
           {
            "marker": {
             "colorbar": {
              "outlinewidth": 0,
              "ticks": ""
             }
            },
            "type": "scatterpolar"
           }
          ],
          "scatterpolargl": [
           {
            "marker": {
             "colorbar": {
              "outlinewidth": 0,
              "ticks": ""
             }
            },
            "type": "scatterpolargl"
           }
          ],
          "scatterternary": [
           {
            "marker": {
             "colorbar": {
              "outlinewidth": 0,
              "ticks": ""
             }
            },
            "type": "scatterternary"
           }
          ],
          "surface": [
           {
            "colorbar": {
             "outlinewidth": 0,
             "ticks": ""
            },
            "colorscale": [
             [
              0,
              "#0d0887"
             ],
             [
              0.1111111111111111,
              "#46039f"
             ],
             [
              0.2222222222222222,
              "#7201a8"
             ],
             [
              0.3333333333333333,
              "#9c179e"
             ],
             [
              0.4444444444444444,
              "#bd3786"
             ],
             [
              0.5555555555555556,
              "#d8576b"
             ],
             [
              0.6666666666666666,
              "#ed7953"
             ],
             [
              0.7777777777777778,
              "#fb9f3a"
             ],
             [
              0.8888888888888888,
              "#fdca26"
             ],
             [
              1,
              "#f0f921"
             ]
            ],
            "type": "surface"
           }
          ],
          "table": [
           {
            "cells": {
             "fill": {
              "color": "#EBF0F8"
             },
             "line": {
              "color": "white"
             }
            },
            "header": {
             "fill": {
              "color": "#C8D4E3"
             },
             "line": {
              "color": "white"
             }
            },
            "type": "table"
           }
          ]
         },
         "layout": {
          "annotationdefaults": {
           "arrowcolor": "#2a3f5f",
           "arrowhead": 0,
           "arrowwidth": 1
          },
          "autotypenumbers": "strict",
          "coloraxis": {
           "colorbar": {
            "outlinewidth": 0,
            "ticks": ""
           }
          },
          "colorscale": {
           "diverging": [
            [
             0,
             "#8e0152"
            ],
            [
             0.1,
             "#c51b7d"
            ],
            [
             0.2,
             "#de77ae"
            ],
            [
             0.3,
             "#f1b6da"
            ],
            [
             0.4,
             "#fde0ef"
            ],
            [
             0.5,
             "#f7f7f7"
            ],
            [
             0.6,
             "#e6f5d0"
            ],
            [
             0.7,
             "#b8e186"
            ],
            [
             0.8,
             "#7fbc41"
            ],
            [
             0.9,
             "#4d9221"
            ],
            [
             1,
             "#276419"
            ]
           ],
           "sequential": [
            [
             0,
             "#0d0887"
            ],
            [
             0.1111111111111111,
             "#46039f"
            ],
            [
             0.2222222222222222,
             "#7201a8"
            ],
            [
             0.3333333333333333,
             "#9c179e"
            ],
            [
             0.4444444444444444,
             "#bd3786"
            ],
            [
             0.5555555555555556,
             "#d8576b"
            ],
            [
             0.6666666666666666,
             "#ed7953"
            ],
            [
             0.7777777777777778,
             "#fb9f3a"
            ],
            [
             0.8888888888888888,
             "#fdca26"
            ],
            [
             1,
             "#f0f921"
            ]
           ],
           "sequentialminus": [
            [
             0,
             "#0d0887"
            ],
            [
             0.1111111111111111,
             "#46039f"
            ],
            [
             0.2222222222222222,
             "#7201a8"
            ],
            [
             0.3333333333333333,
             "#9c179e"
            ],
            [
             0.4444444444444444,
             "#bd3786"
            ],
            [
             0.5555555555555556,
             "#d8576b"
            ],
            [
             0.6666666666666666,
             "#ed7953"
            ],
            [
             0.7777777777777778,
             "#fb9f3a"
            ],
            [
             0.8888888888888888,
             "#fdca26"
            ],
            [
             1,
             "#f0f921"
            ]
           ]
          },
          "colorway": [
           "#636efa",
           "#EF553B",
           "#00cc96",
           "#ab63fa",
           "#FFA15A",
           "#19d3f3",
           "#FF6692",
           "#B6E880",
           "#FF97FF",
           "#FECB52"
          ],
          "font": {
           "color": "#2a3f5f"
          },
          "geo": {
           "bgcolor": "white",
           "lakecolor": "white",
           "landcolor": "#E5ECF6",
           "showlakes": true,
           "showland": true,
           "subunitcolor": "white"
          },
          "hoverlabel": {
           "align": "left"
          },
          "hovermode": "closest",
          "mapbox": {
           "style": "light"
          },
          "paper_bgcolor": "white",
          "plot_bgcolor": "#E5ECF6",
          "polar": {
           "angularaxis": {
            "gridcolor": "white",
            "linecolor": "white",
            "ticks": ""
           },
           "bgcolor": "#E5ECF6",
           "radialaxis": {
            "gridcolor": "white",
            "linecolor": "white",
            "ticks": ""
           }
          },
          "scene": {
           "xaxis": {
            "backgroundcolor": "#E5ECF6",
            "gridcolor": "white",
            "gridwidth": 2,
            "linecolor": "white",
            "showbackground": true,
            "ticks": "",
            "zerolinecolor": "white"
           },
           "yaxis": {
            "backgroundcolor": "#E5ECF6",
            "gridcolor": "white",
            "gridwidth": 2,
            "linecolor": "white",
            "showbackground": true,
            "ticks": "",
            "zerolinecolor": "white"
           },
           "zaxis": {
            "backgroundcolor": "#E5ECF6",
            "gridcolor": "white",
            "gridwidth": 2,
            "linecolor": "white",
            "showbackground": true,
            "ticks": "",
            "zerolinecolor": "white"
           }
          },
          "shapedefaults": {
           "line": {
            "color": "#2a3f5f"
           }
          },
          "ternary": {
           "aaxis": {
            "gridcolor": "white",
            "linecolor": "white",
            "ticks": ""
           },
           "baxis": {
            "gridcolor": "white",
            "linecolor": "white",
            "ticks": ""
           },
           "bgcolor": "#E5ECF6",
           "caxis": {
            "gridcolor": "white",
            "linecolor": "white",
            "ticks": ""
           }
          },
          "title": {
           "x": 0.05
          },
          "xaxis": {
           "automargin": true,
           "gridcolor": "white",
           "linecolor": "white",
           "ticks": "",
           "title": {
            "standoff": 15
           },
           "zerolinecolor": "white",
           "zerolinewidth": 2
          },
          "yaxis": {
           "automargin": true,
           "gridcolor": "white",
           "linecolor": "white",
           "ticks": "",
           "title": {
            "standoff": 15
           },
           "zerolinecolor": "white",
           "zerolinewidth": 2
          }
         }
        },
        "title": {
         "text": "Mean FIFA ratings across top PL teams (25 players)"
        },
        "xaxis": {
         "autorange": true,
         "range": [
          -0.32051282051282054,
          5.32051282051282
         ],
         "type": "category"
        },
        "yaxis": {
         "autorange": true,
         "range": [
          68.27728155339805,
          83.56271844660195
         ],
         "type": "linear"
        }
       }
      },
      "image/png": "[encoded data removed]",
      "text/html": [
       "<div>                            <div id=\"d1d0c036-fc29-49f7-aa9d-066b887ef348\" class=\"plotly-graph-div\" style=\"height:525px; width:100%;\"></div>            <script type=\"text/javascript\">                require([\"plotly\"], function(Plotly) {                    window.PLOTLYENV=window.PLOTLYENV || {};                                    if (document.getElementById(\"d1d0c036-fc29-49f7-aa9d-066b887ef348\")) {                    Plotly.newPlot(                        \"d1d0c036-fc29-49f7-aa9d-066b887ef348\",                        [{\"line\":{\"shape\":\"linear\"},\"name\":\"Liverpool\",\"x\":[\"14/15\",\"15/16\",\"16/17\",\"17/18\",\"18/19\",\"19/20\"],\"y\":[77.72,77.36,78.92,78.96,80.8,80.52],\"type\":\"scatter\",\"hoverinfo\":\"text+name\",\"mode\":\"lines+markers\"},{\"line\":{\"shape\":\"linear\"},\"name\":\"Chelsea\",\"x\":[\"14/15\",\"15/16\",\"16/17\",\"17/18\",\"18/19\",\"19/20\"],\"y\":[78.52,78.52,80.6,81.44,81.4,79.8],\"type\":\"scatter\",\"hoverinfo\":\"text+name\",\"mode\":\"lines+markers\"},{\"line\":{\"shape\":\"linear\"},\"name\":\"Manchester City\",\"x\":[\"14/15\",\"15/16\",\"16/17\",\"17/18\",\"18/19\",\"19/20\"],\"y\":[78.8,79.6,80.0,79.24,81.84,82.48],\"type\":\"scatter\",\"hoverinfo\":\"text+name\",\"mode\":\"lines+markers\"},{\"line\":{\"shape\":\"linear\"},\"name\":\"Leicester City\",\"x\":[\"14/15\",\"15/16\",\"16/17\",\"17/18\",\"18/19\",\"19/20\"],\"y\":[69.36,72.32,76.24,76.16,76.68,76.68],\"type\":\"scatter\",\"hoverinfo\":\"text+name\",\"mode\":\"lines+markers\"},{\"line\":{\"shape\":\"linear\"},\"name\":\"Manchester United\",\"x\":[\"14/15\",\"15/16\",\"16/17\",\"17/18\",\"18/19\",\"19/20\"],\"y\":[78.12,77.52,81.8,81.64,81.36,79.84],\"type\":\"scatter\",\"hoverinfo\":\"text+name\",\"mode\":\"lines+markers\"}],                        {\"template\":{\"data\":{\"histogram2dcontour\":[{\"type\":\"histogram2dcontour\",\"colorbar\":{\"outlinewidth\":0,\"ticks\":\"\"},\"colorscale\":[[0.0,\"#0d0887\"],[0.1111111111111111,\"#46039f\"],[0.2222222222222222,\"#7201a8\"],[0.3333333333333333,\"#9c179e\"],[0.4444444444444444,\"#bd3786\"],[0.5555555555555556,\"#d8576b\"],[0.6666666666666666,\"#ed7953\"],[0.7777777777777778,\"#fb9f3a\"],[0.8888888888888888,\"#fdca26\"],[1.0,\"#f0f921\"]]}],\"choropleth\":[{\"type\":\"choropleth\",\"colorbar\":{\"outlinewidth\":0,\"ticks\":\"\"}}],\"histogram2d\":[{\"type\":\"histogram2d\",\"colorbar\":{\"outlinewidth\":0,\"ticks\":\"\"},\"colorscale\":[[0.0,\"#0d0887\"],[0.1111111111111111,\"#46039f\"],[0.2222222222222222,\"#7201a8\"],[0.3333333333333333,\"#9c179e\"],[0.4444444444444444,\"#bd3786\"],[0.5555555555555556,\"#d8576b\"],[0.6666666666666666,\"#ed7953\"],[0.7777777777777778,\"#fb9f3a\"],[0.8888888888888888,\"#fdca26\"],[1.0,\"#f0f921\"]]}],\"heatmap\":[{\"type\":\"heatmap\",\"colorbar\":{\"outlinewidth\":0,\"ticks\":\"\"},\"colorscale\":[[0.0,\"#0d0887\"],[0.1111111111111111,\"#46039f\"],[0.2222222222222222,\"#7201a8\"],[0.3333333333333333,\"#9c179e\"],[0.4444444444444444,\"#bd3786\"],[0.5555555555555556,\"#d8576b\"],[0.6666666666666666,\"#ed7953\"],[0.7777777777777778,\"#fb9f3a\"],[0.8888888888888888,\"#fdca26\"],[1.0,\"#f0f921\"]]}],\"heatmapgl\":[{\"type\":\"heatmapgl\",\"colorbar\":{\"outlinewidth\":0,\"ticks\":\"\"},\"colorscale\":[[0.0,\"#0d0887\"],[0.1111111111111111,\"#46039f\"],[0.2222222222222222,\"#7201a8\"],[0.3333333333333333,\"#9c179e\"],[0.4444444444444444,\"#bd3786\"],[0.5555555555555556,\"#d8576b\"],[0.6666666666666666,\"#ed7953\"],[0.7777777777777778,\"#fb9f3a\"],[0.8888888888888888,\"#fdca26\"],[1.0,\"#f0f921\"]]}],\"contourcarpet\":[{\"type\":\"contourcarpet\",\"colorbar\":{\"outlinewidth\":0,\"ticks\":\"\"}}],\"contour\":[{\"type\":\"contour\",\"colorbar\":{\"outlinewidth\":0,\"ticks\":\"\"},\"colorscale\":[[0.0,\"#0d0887\"],[0.1111111111111111,\"#46039f\"],[0.2222222222222222,\"#7201a8\"],[0.3333333333333333,\"#9c179e\"],[0.4444444444444444,\"#bd3786\"],[0.5555555555555556,\"#d8576b\"],[0.6666666666666666,\"#ed7953\"],[0.7777777777777778,\"#fb9f3a\"],[0.8888888888888888,\"#fdca26\"],[1.0,\"#f0f921\"]]}],\"surface\":[{\"type\":\"surface\",\"colorbar\":{\"outlinewidth\":0,\"ticks\":\"\"},\"colorscale\":[[0.0,\"#0d0887\"],[0.1111111111111111,\"#46039f\"],[0.2222222222222222,\"#7201a8\"],[0.3333333333333333,\"#9c179e\"],[0.4444444444444444,\"#bd3786\"],[0.5555555555555556,\"#d8576b\"],[0.6666666666666666,\"#ed7953\"],[0.7777777777777778,\"#fb9f3a\"],[0.8888888888888888,\"#fdca26\"],[1.0,\"#f0f921\"]]}],\"mesh3d\":[{\"type\":\"mesh3d\",\"colorbar\":{\"outlinewidth\":0,\"ticks\":\"\"}}],\"scatter\":[{\"fillpattern\":{\"fillmode\":\"overlay\",\"size\":10,\"solidity\":0.2},\"type\":\"scatter\"}],\"parcoords\":[{\"type\":\"parcoords\",\"line\":{\"colorbar\":{\"outlinewidth\":0,\"ticks\":\"\"}}}],\"scatterpolargl\":[{\"type\":\"scatterpolargl\",\"marker\":{\"colorbar\":{\"outlinewidth\":0,\"ticks\":\"\"}}}],\"bar\":[{\"error_x\":{\"color\":\"#2a3f5f\"},\"error_y\":{\"color\":\"#2a3f5f\"},\"marker\":{\"line\":{\"color\":\"#E5ECF6\",\"width\":0.5},\"pattern\":{\"fillmode\":\"overlay\",\"size\":10,\"solidity\":0.2}},\"type\":\"bar\"}],\"scattergeo\":[{\"type\":\"scattergeo\",\"marker\":{\"colorbar\":{\"outlinewidth\":0,\"ticks\":\"\"}}}],\"scatterpolar\":[{\"type\":\"scatterpolar\",\"marker\":{\"colorbar\":{\"outlinewidth\":0,\"ticks\":\"\"}}}],\"histogram\":[{\"marker\":{\"pattern\":{\"fillmode\":\"overlay\",\"size\":10,\"solidity\":0.2}},\"type\":\"histogram\"}],\"scattergl\":[{\"type\":\"scattergl\",\"marker\":{\"colorbar\":{\"outlinewidth\":0,\"ticks\":\"\"}}}],\"scatter3d\":[{\"type\":\"scatter3d\",\"line\":{\"colorbar\":{\"outlinewidth\":0,\"ticks\":\"\"}},\"marker\":{\"colorbar\":{\"outlinewidth\":0,\"ticks\":\"\"}}}],\"scattermapbox\":[{\"type\":\"scattermapbox\",\"marker\":{\"colorbar\":{\"outlinewidth\":0,\"ticks\":\"\"}}}],\"scatterternary\":[{\"type\":\"scatterternary\",\"marker\":{\"colorbar\":{\"outlinewidth\":0,\"ticks\":\"\"}}}],\"scattercarpet\":[{\"type\":\"scattercarpet\",\"marker\":{\"colorbar\":{\"outlinewidth\":0,\"ticks\":\"\"}}}],\"carpet\":[{\"aaxis\":{\"endlinecolor\":\"#2a3f5f\",\"gridcolor\":\"white\",\"linecolor\":\"white\",\"minorgridcolor\":\"white\",\"startlinecolor\":\"#2a3f5f\"},\"baxis\":{\"endlinecolor\":\"#2a3f5f\",\"gridcolor\":\"white\",\"linecolor\":\"white\",\"minorgridcolor\":\"white\",\"startlinecolor\":\"#2a3f5f\"},\"type\":\"carpet\"}],\"table\":[{\"cells\":{\"fill\":{\"color\":\"#EBF0F8\"},\"line\":{\"color\":\"white\"}},\"header\":{\"fill\":{\"color\":\"#C8D4E3\"},\"line\":{\"color\":\"white\"}},\"type\":\"table\"}],\"barpolar\":[{\"marker\":{\"line\":{\"color\":\"#E5ECF6\",\"width\":0.5},\"pattern\":{\"fillmode\":\"overlay\",\"size\":10,\"solidity\":0.2}},\"type\":\"barpolar\"}],\"pie\":[{\"automargin\":true,\"type\":\"pie\"}]},\"layout\":{\"autotypenumbers\":\"strict\",\"colorway\":[\"#636efa\",\"#EF553B\",\"#00cc96\",\"#ab63fa\",\"#FFA15A\",\"#19d3f3\",\"#FF6692\",\"#B6E880\",\"#FF97FF\",\"#FECB52\"],\"font\":{\"color\":\"#2a3f5f\"},\"hovermode\":\"closest\",\"hoverlabel\":{\"align\":\"left\"},\"paper_bgcolor\":\"white\",\"plot_bgcolor\":\"#E5ECF6\",\"polar\":{\"bgcolor\":\"#E5ECF6\",\"angularaxis\":{\"gridcolor\":\"white\",\"linecolor\":\"white\",\"ticks\":\"\"},\"radialaxis\":{\"gridcolor\":\"white\",\"linecolor\":\"white\",\"ticks\":\"\"}},\"ternary\":{\"bgcolor\":\"#E5ECF6\",\"aaxis\":{\"gridcolor\":\"white\",\"linecolor\":\"white\",\"ticks\":\"\"},\"baxis\":{\"gridcolor\":\"white\",\"linecolor\":\"white\",\"ticks\":\"\"},\"caxis\":{\"gridcolor\":\"white\",\"linecolor\":\"white\",\"ticks\":\"\"}},\"coloraxis\":{\"colorbar\":{\"outlinewidth\":0,\"ticks\":\"\"}},\"colorscale\":{\"sequential\":[[0.0,\"#0d0887\"],[0.1111111111111111,\"#46039f\"],[0.2222222222222222,\"#7201a8\"],[0.3333333333333333,\"#9c179e\"],[0.4444444444444444,\"#bd3786\"],[0.5555555555555556,\"#d8576b\"],[0.6666666666666666,\"#ed7953\"],[0.7777777777777778,\"#fb9f3a\"],[0.8888888888888888,\"#fdca26\"],[1.0,\"#f0f921\"]],\"sequentialminus\":[[0.0,\"#0d0887\"],[0.1111111111111111,\"#46039f\"],[0.2222222222222222,\"#7201a8\"],[0.3333333333333333,\"#9c179e\"],[0.4444444444444444,\"#bd3786\"],[0.5555555555555556,\"#d8576b\"],[0.6666666666666666,\"#ed7953\"],[0.7777777777777778,\"#fb9f3a\"],[0.8888888888888888,\"#fdca26\"],[1.0,\"#f0f921\"]],\"diverging\":[[0,\"#8e0152\"],[0.1,\"#c51b7d\"],[0.2,\"#de77ae\"],[0.3,\"#f1b6da\"],[0.4,\"#fde0ef\"],[0.5,\"#f7f7f7\"],[0.6,\"#e6f5d0\"],[0.7,\"#b8e186\"],[0.8,\"#7fbc41\"],[0.9,\"#4d9221\"],[1,\"#276419\"]]},\"xaxis\":{\"gridcolor\":\"white\",\"linecolor\":\"white\",\"ticks\":\"\",\"title\":{\"standoff\":15},\"zerolinecolor\":\"white\",\"automargin\":true,\"zerolinewidth\":2},\"yaxis\":{\"gridcolor\":\"white\",\"linecolor\":\"white\",\"ticks\":\"\",\"title\":{\"standoff\":15},\"zerolinecolor\":\"white\",\"automargin\":true,\"zerolinewidth\":2},\"scene\":{\"xaxis\":{\"backgroundcolor\":\"#E5ECF6\",\"gridcolor\":\"white\",\"linecolor\":\"white\",\"showbackground\":true,\"ticks\":\"\",\"zerolinecolor\":\"white\",\"gridwidth\":2},\"yaxis\":{\"backgroundcolor\":\"#E5ECF6\",\"gridcolor\":\"white\",\"linecolor\":\"white\",\"showbackground\":true,\"ticks\":\"\",\"zerolinecolor\":\"white\",\"gridwidth\":2},\"zaxis\":{\"backgroundcolor\":\"#E5ECF6\",\"gridcolor\":\"white\",\"linecolor\":\"white\",\"showbackground\":true,\"ticks\":\"\",\"zerolinecolor\":\"white\",\"gridwidth\":2}},\"shapedefaults\":{\"line\":{\"color\":\"#2a3f5f\"}},\"annotationdefaults\":{\"arrowcolor\":\"#2a3f5f\",\"arrowhead\":0,\"arrowwidth\":1},\"geo\":{\"bgcolor\":\"white\",\"landcolor\":\"#E5ECF6\",\"subunitcolor\":\"white\",\"showland\":true,\"showlakes\":true,\"lakecolor\":\"white\"},\"title\":{\"x\":0.05},\"mapbox\":{\"style\":\"light\"}}},\"legend\":{\"font\":{\"size\":16},\"y\":0.5,\"traceorder\":\"reversed\"},\"title\":{\"text\":\"Mean FIFA ratings across top PL teams (25 players)\"}},                        {\"responsive\": true}                    ).then(function(){\n",
       "                            \n",
       "var gd = document.getElementById('d1d0c036-fc29-49f7-aa9d-066b887ef348');\n",
       "var x = new MutationObserver(function (mutations, observer) {{\n",
       "        var display = window.getComputedStyle(gd).display;\n",
       "        if (!display || display === 'none') {{\n",
       "            console.log([gd, 'removed!']);\n",
       "            Plotly.purge(gd);\n",
       "            observer.disconnect();\n",
       "        }}\n",
       "}});\n",
       "\n",
       "// Listen for the removal of the full notebook cells\n",
       "var notebookContainer = gd.closest('#notebook-container');\n",
       "if (notebookContainer) {{\n",
       "    x.observe(notebookContainer, {childList: true});\n",
       "}}\n",
       "\n",
       "// Listen for the clearing of the current output cell\n",
       "var outputEl = gd.closest('.output');\n",
       "if (outputEl) {{\n",
       "    x.observe(outputEl, {childList: true});\n",
       "}}\n",
       "\n",
       "                        })                };                });            </script>        </div>"
      ]
     },
     "metadata": {},
     "output_type": "display_data"
    }
   ],
   "source": [
    "def champ_mean(plchamps,df,lists):\n",
    "    for champ,i in zip(plchamps,range(5)):\n",
    "        lists[i].append(df.loc[df['club'] == champ].sort_values(by = ['overall'],ascending=False).head(25)['overall'].mean())\n",
    "\n",
    "ratings = [[],[],[],[],[]]\n",
    "\n",
    "for df in dfs:\n",
    "    champ_mean(pl_champs,df,ratings)\n",
    "    \n",
    "fig4 = go.Figure()\n",
    "\n",
    "x = years[5:]\n",
    "\n",
    "for i in range(5):\n",
    "    fig4.add_trace(go.Scatter(x=x, y=ratings[i], name=pl_champs[i],\n",
    "                    line_shape='linear'))\n",
    "fig4.update_traces(hoverinfo='text+name', mode='lines+markers')\n",
    "fig4.update_layout(legend=dict(y=0.5, traceorder='reversed', font_size=16))\n",
    "fig4.update_layout(title='Mean FIFA ratings across top PL teams (25 players)')"
   ]
  },
  {
   "cell_type": "markdown",
   "metadata": {},
   "source": [
    "### Here, when we look at only 25 players (PL teams can only register 25 players; young players excluded), we can see what's really going on. Let's cut that to about 15 players."
   ]
  },
  {
   "cell_type": "code",
   "execution_count": 23,
   "metadata": {
    "tags": []
   },
   "outputs": [
    {
     "data": {
      "application/vnd.plotly.v1+json": {
       "config": {
        "plotlyServerURL": "https://plotly.com"
       },
       "data": [
        {
         "hoverinfo": "text+name",
         "line": {
          "shape": "linear"
         },
         "mode": "lines+markers",
         "name": "Liverpool",
         "type": "scatter",
         "x": [
          "14/15",
          "15/16",
          "16/17",
          "17/18",
          "18/19",
          "19/20"
         ],
         "y": [
          80.13333333333334,
          80.26666666666667,
          81.53333333333333,
          82.13333333333334,
          83.2,
          84.66666666666667
         ]
        },
        {
         "hoverinfo": "text+name",
         "line": {
          "shape": "linear"
         },
         "mode": "lines+markers",
         "name": "Chelsea",
         "type": "scatter",
         "x": [
          "14/15",
          "15/16",
          "16/17",
          "17/18",
          "18/19",
          "19/20"
         ],
         "y": [
          83.06666666666666,
          83.8,
          84.2,
          84.73333333333333,
          83.93333333333334,
          81.93333333333334
         ]
        },
        {
         "hoverinfo": "text+name",
         "line": {
          "shape": "linear"
         },
         "mode": "lines+markers",
         "name": "Manchester City",
         "type": "scatter",
         "x": [
          "14/15",
          "15/16",
          "16/17",
          "17/18",
          "18/19",
          "19/20"
         ],
         "y": [
          82.66666666666667,
          83.2,
          83.93333333333334,
          84,
          85.73333333333333,
          86.33333333333333
         ]
        },
        {
         "hoverinfo": "text+name",
         "line": {
          "shape": "linear"
         },
         "mode": "lines+markers",
         "name": "Leicester City",
         "type": "scatter",
         "x": [
          "14/15",
          "15/16",
          "16/17",
          "17/18",
          "18/19",
          "19/20"
         ],
         "y": [
          71.26666666666667,
          74.86666666666666,
          79.33333333333333,
          78.53333333333333,
          78.46666666666667,
          78.6
         ]
        },
        {
         "hoverinfo": "text+name",
         "line": {
          "shape": "linear"
         },
         "mode": "lines+markers",
         "name": "Manchester United",
         "type": "scatter",
         "x": [
          "14/15",
          "15/16",
          "16/17",
          "17/18",
          "18/19",
          "19/20"
         ],
         "y": [
          81.8,
          81.93333333333334,
          83.93333333333334,
          83.93333333333334,
          83.8,
          82.2
         ]
        }
       ],
       "layout": {
        "autosize": true,
        "legend": {
         "font": {
          "size": 16
         },
         "traceorder": "reversed",
         "x": 1.02,
         "y": 0.5
        },
        "template": {
         "data": {
          "bar": [
           {
            "error_x": {
             "color": "#2a3f5f"
            },
            "error_y": {
             "color": "#2a3f5f"
            },
            "marker": {
             "line": {
              "color": "#E5ECF6",
              "width": 0.5
             },
             "pattern": {
              "fillmode": "overlay",
              "size": 10,
              "solidity": 0.2
             }
            },
            "type": "bar"
           }
          ],
          "barpolar": [
           {
            "marker": {
             "line": {
              "color": "#E5ECF6",
              "width": 0.5
             },
             "pattern": {
              "fillmode": "overlay",
              "size": 10,
              "solidity": 0.2
             }
            },
            "type": "barpolar"
           }
          ],
          "carpet": [
           {
            "aaxis": {
             "endlinecolor": "#2a3f5f",
             "gridcolor": "white",
             "linecolor": "white",
             "minorgridcolor": "white",
             "startlinecolor": "#2a3f5f"
            },
            "baxis": {
             "endlinecolor": "#2a3f5f",
             "gridcolor": "white",
             "linecolor": "white",
             "minorgridcolor": "white",
             "startlinecolor": "#2a3f5f"
            },
            "type": "carpet"
           }
          ],
          "choropleth": [
           {
            "colorbar": {
             "outlinewidth": 0,
             "ticks": ""
            },
            "type": "choropleth"
           }
          ],
          "contour": [
           {
            "colorbar": {
             "outlinewidth": 0,
             "ticks": ""
            },
            "colorscale": [
             [
              0,
              "#0d0887"
             ],
             [
              0.1111111111111111,
              "#46039f"
             ],
             [
              0.2222222222222222,
              "#7201a8"
             ],
             [
              0.3333333333333333,
              "#9c179e"
             ],
             [
              0.4444444444444444,
              "#bd3786"
             ],
             [
              0.5555555555555556,
              "#d8576b"
             ],
             [
              0.6666666666666666,
              "#ed7953"
             ],
             [
              0.7777777777777778,
              "#fb9f3a"
             ],
             [
              0.8888888888888888,
              "#fdca26"
             ],
             [
              1,
              "#f0f921"
             ]
            ],
            "type": "contour"
           }
          ],
          "contourcarpet": [
           {
            "colorbar": {
             "outlinewidth": 0,
             "ticks": ""
            },
            "type": "contourcarpet"
           }
          ],
          "heatmap": [
           {
            "colorbar": {
             "outlinewidth": 0,
             "ticks": ""
            },
            "colorscale": [
             [
              0,
              "#0d0887"
             ],
             [
              0.1111111111111111,
              "#46039f"
             ],
             [
              0.2222222222222222,
              "#7201a8"
             ],
             [
              0.3333333333333333,
              "#9c179e"
             ],
             [
              0.4444444444444444,
              "#bd3786"
             ],
             [
              0.5555555555555556,
              "#d8576b"
             ],
             [
              0.6666666666666666,
              "#ed7953"
             ],
             [
              0.7777777777777778,
              "#fb9f3a"
             ],
             [
              0.8888888888888888,
              "#fdca26"
             ],
             [
              1,
              "#f0f921"
             ]
            ],
            "type": "heatmap"
           }
          ],
          "heatmapgl": [
           {
            "colorbar": {
             "outlinewidth": 0,
             "ticks": ""
            },
            "colorscale": [
             [
              0,
              "#0d0887"
             ],
             [
              0.1111111111111111,
              "#46039f"
             ],
             [
              0.2222222222222222,
              "#7201a8"
             ],
             [
              0.3333333333333333,
              "#9c179e"
             ],
             [
              0.4444444444444444,
              "#bd3786"
             ],
             [
              0.5555555555555556,
              "#d8576b"
             ],
             [
              0.6666666666666666,
              "#ed7953"
             ],
             [
              0.7777777777777778,
              "#fb9f3a"
             ],
             [
              0.8888888888888888,
              "#fdca26"
             ],
             [
              1,
              "#f0f921"
             ]
            ],
            "type": "heatmapgl"
           }
          ],
          "histogram": [
           {
            "marker": {
             "pattern": {
              "fillmode": "overlay",
              "size": 10,
              "solidity": 0.2
             }
            },
            "type": "histogram"
           }
          ],
          "histogram2d": [
           {
            "colorbar": {
             "outlinewidth": 0,
             "ticks": ""
            },
            "colorscale": [
             [
              0,
              "#0d0887"
             ],
             [
              0.1111111111111111,
              "#46039f"
             ],
             [
              0.2222222222222222,
              "#7201a8"
             ],
             [
              0.3333333333333333,
              "#9c179e"
             ],
             [
              0.4444444444444444,
              "#bd3786"
             ],
             [
              0.5555555555555556,
              "#d8576b"
             ],
             [
              0.6666666666666666,
              "#ed7953"
             ],
             [
              0.7777777777777778,
              "#fb9f3a"
             ],
             [
              0.8888888888888888,
              "#fdca26"
             ],
             [
              1,
              "#f0f921"
             ]
            ],
            "type": "histogram2d"
           }
          ],
          "histogram2dcontour": [
           {
            "colorbar": {
             "outlinewidth": 0,
             "ticks": ""
            },
            "colorscale": [
             [
              0,
              "#0d0887"
             ],
             [
              0.1111111111111111,
              "#46039f"
             ],
             [
              0.2222222222222222,
              "#7201a8"
             ],
             [
              0.3333333333333333,
              "#9c179e"
             ],
             [
              0.4444444444444444,
              "#bd3786"
             ],
             [
              0.5555555555555556,
              "#d8576b"
             ],
             [
              0.6666666666666666,
              "#ed7953"
             ],
             [
              0.7777777777777778,
              "#fb9f3a"
             ],
             [
              0.8888888888888888,
              "#fdca26"
             ],
             [
              1,
              "#f0f921"
             ]
            ],
            "type": "histogram2dcontour"
           }
          ],
          "mesh3d": [
           {
            "colorbar": {
             "outlinewidth": 0,
             "ticks": ""
            },
            "type": "mesh3d"
           }
          ],
          "parcoords": [
           {
            "line": {
             "colorbar": {
              "outlinewidth": 0,
              "ticks": ""
             }
            },
            "type": "parcoords"
           }
          ],
          "pie": [
           {
            "automargin": true,
            "type": "pie"
           }
          ],
          "scatter": [
           {
            "fillpattern": {
             "fillmode": "overlay",
             "size": 10,
             "solidity": 0.2
            },
            "type": "scatter"
           }
          ],
          "scatter3d": [
           {
            "line": {
             "colorbar": {
              "outlinewidth": 0,
              "ticks": ""
             }
            },
            "marker": {
             "colorbar": {
              "outlinewidth": 0,
              "ticks": ""
             }
            },
            "type": "scatter3d"
           }
          ],
          "scattercarpet": [
           {
            "marker": {
             "colorbar": {
              "outlinewidth": 0,
              "ticks": ""
             }
            },
            "type": "scattercarpet"
           }
          ],
          "scattergeo": [
           {
            "marker": {
             "colorbar": {
              "outlinewidth": 0,
              "ticks": ""
             }
            },
            "type": "scattergeo"
           }
          ],
          "scattergl": [
           {
            "marker": {
             "colorbar": {
              "outlinewidth": 0,
              "ticks": ""
             }
            },
            "type": "scattergl"
           }
          ],
          "scattermapbox": [
           {
            "marker": {
             "colorbar": {
              "outlinewidth": 0,
              "ticks": ""
             }
            },
            "type": "scattermapbox"
           }
          ],
          "scatterpolar": [
           {
            "marker": {
             "colorbar": {
              "outlinewidth": 0,
              "ticks": ""
             }
            },
            "type": "scatterpolar"
           }
          ],
          "scatterpolargl": [
           {
            "marker": {
             "colorbar": {
              "outlinewidth": 0,
              "ticks": ""
             }
            },
            "type": "scatterpolargl"
           }
          ],
          "scatterternary": [
           {
            "marker": {
             "colorbar": {
              "outlinewidth": 0,
              "ticks": ""
             }
            },
            "type": "scatterternary"
           }
          ],
          "surface": [
           {
            "colorbar": {
             "outlinewidth": 0,
             "ticks": ""
            },
            "colorscale": [
             [
              0,
              "#0d0887"
             ],
             [
              0.1111111111111111,
              "#46039f"
             ],
             [
              0.2222222222222222,
              "#7201a8"
             ],
             [
              0.3333333333333333,
              "#9c179e"
             ],
             [
              0.4444444444444444,
              "#bd3786"
             ],
             [
              0.5555555555555556,
              "#d8576b"
             ],
             [
              0.6666666666666666,
              "#ed7953"
             ],
             [
              0.7777777777777778,
              "#fb9f3a"
             ],
             [
              0.8888888888888888,
              "#fdca26"
             ],
             [
              1,
              "#f0f921"
             ]
            ],
            "type": "surface"
           }
          ],
          "table": [
           {
            "cells": {
             "fill": {
              "color": "#EBF0F8"
             },
             "line": {
              "color": "white"
             }
            },
            "header": {
             "fill": {
              "color": "#C8D4E3"
             },
             "line": {
              "color": "white"
             }
            },
            "type": "table"
           }
          ]
         },
         "layout": {
          "annotationdefaults": {
           "arrowcolor": "#2a3f5f",
           "arrowhead": 0,
           "arrowwidth": 1
          },
          "autotypenumbers": "strict",
          "coloraxis": {
           "colorbar": {
            "outlinewidth": 0,
            "ticks": ""
           }
          },
          "colorscale": {
           "diverging": [
            [
             0,
             "#8e0152"
            ],
            [
             0.1,
             "#c51b7d"
            ],
            [
             0.2,
             "#de77ae"
            ],
            [
             0.3,
             "#f1b6da"
            ],
            [
             0.4,
             "#fde0ef"
            ],
            [
             0.5,
             "#f7f7f7"
            ],
            [
             0.6,
             "#e6f5d0"
            ],
            [
             0.7,
             "#b8e186"
            ],
            [
             0.8,
             "#7fbc41"
            ],
            [
             0.9,
             "#4d9221"
            ],
            [
             1,
             "#276419"
            ]
           ],
           "sequential": [
            [
             0,
             "#0d0887"
            ],
            [
             0.1111111111111111,
             "#46039f"
            ],
            [
             0.2222222222222222,
             "#7201a8"
            ],
            [
             0.3333333333333333,
             "#9c179e"
            ],
            [
             0.4444444444444444,
             "#bd3786"
            ],
            [
             0.5555555555555556,
             "#d8576b"
            ],
            [
             0.6666666666666666,
             "#ed7953"
            ],
            [
             0.7777777777777778,
             "#fb9f3a"
            ],
            [
             0.8888888888888888,
             "#fdca26"
            ],
            [
             1,
             "#f0f921"
            ]
           ],
           "sequentialminus": [
            [
             0,
             "#0d0887"
            ],
            [
             0.1111111111111111,
             "#46039f"
            ],
            [
             0.2222222222222222,
             "#7201a8"
            ],
            [
             0.3333333333333333,
             "#9c179e"
            ],
            [
             0.4444444444444444,
             "#bd3786"
            ],
            [
             0.5555555555555556,
             "#d8576b"
            ],
            [
             0.6666666666666666,
             "#ed7953"
            ],
            [
             0.7777777777777778,
             "#fb9f3a"
            ],
            [
             0.8888888888888888,
             "#fdca26"
            ],
            [
             1,
             "#f0f921"
            ]
           ]
          },
          "colorway": [
           "#636efa",
           "#EF553B",
           "#00cc96",
           "#ab63fa",
           "#FFA15A",
           "#19d3f3",
           "#FF6692",
           "#B6E880",
           "#FF97FF",
           "#FECB52"
          ],
          "font": {
           "color": "#2a3f5f"
          },
          "geo": {
           "bgcolor": "white",
           "lakecolor": "white",
           "landcolor": "#E5ECF6",
           "showlakes": true,
           "showland": true,
           "subunitcolor": "white"
          },
          "hoverlabel": {
           "align": "left"
          },
          "hovermode": "closest",
          "mapbox": {
           "style": "light"
          },
          "paper_bgcolor": "white",
          "plot_bgcolor": "#E5ECF6",
          "polar": {
           "angularaxis": {
            "gridcolor": "white",
            "linecolor": "white",
            "ticks": ""
           },
           "bgcolor": "#E5ECF6",
           "radialaxis": {
            "gridcolor": "white",
            "linecolor": "white",
            "ticks": ""
           }
          },
          "scene": {
           "xaxis": {
            "backgroundcolor": "#E5ECF6",
            "gridcolor": "white",
            "gridwidth": 2,
            "linecolor": "white",
            "showbackground": true,
            "ticks": "",
            "zerolinecolor": "white"
           },
           "yaxis": {
            "backgroundcolor": "#E5ECF6",
            "gridcolor": "white",
            "gridwidth": 2,
            "linecolor": "white",
            "showbackground": true,
            "ticks": "",
            "zerolinecolor": "white"
           },
           "zaxis": {
            "backgroundcolor": "#E5ECF6",
            "gridcolor": "white",
            "gridwidth": 2,
            "linecolor": "white",
            "showbackground": true,
            "ticks": "",
            "zerolinecolor": "white"
           }
          },
          "shapedefaults": {
           "line": {
            "color": "#2a3f5f"
           }
          },
          "ternary": {
           "aaxis": {
            "gridcolor": "white",
            "linecolor": "white",
            "ticks": ""
           },
           "baxis": {
            "gridcolor": "white",
            "linecolor": "white",
            "ticks": ""
           },
           "bgcolor": "#E5ECF6",
           "caxis": {
            "gridcolor": "white",
            "linecolor": "white",
            "ticks": ""
           }
          },
          "title": {
           "x": 0.05
          },
          "xaxis": {
           "automargin": true,
           "gridcolor": "white",
           "linecolor": "white",
           "ticks": "",
           "title": {
            "standoff": 15
           },
           "zerolinecolor": "white",
           "zerolinewidth": 2
          },
          "yaxis": {
           "automargin": true,
           "gridcolor": "white",
           "linecolor": "white",
           "ticks": "",
           "title": {
            "standoff": 15
           },
           "zerolinecolor": "white",
           "zerolinewidth": 2
          }
         }
        },
        "title": {
         "text": "Mean FIFA ratings across top PL teams (15 players)"
        },
        "xaxis": {
         "autorange": true,
         "range": [
          -0.32051282051282054,
          5.32051282051282
         ],
         "type": "category"
        },
        "yaxis": {
         "autorange": true,
         "range": [
          70.02330097087379,
          87.5766990291262
         ],
         "type": "linear"
        }
       }
      },
      "image/png": "[encoded data removed]",
      "text/html": [
       "<div>                            <div id=\"2bc087ce-8f6b-4c88-8ccc-e8a20cd3af32\" class=\"plotly-graph-div\" style=\"height:525px; width:100%;\"></div>            <script type=\"text/javascript\">                require([\"plotly\"], function(Plotly) {                    window.PLOTLYENV=window.PLOTLYENV || {};                                    if (document.getElementById(\"2bc087ce-8f6b-4c88-8ccc-e8a20cd3af32\")) {                    Plotly.newPlot(                        \"2bc087ce-8f6b-4c88-8ccc-e8a20cd3af32\",                        [{\"line\":{\"shape\":\"linear\"},\"name\":\"Liverpool\",\"x\":[\"14/15\",\"15/16\",\"16/17\",\"17/18\",\"18/19\",\"19/20\"],\"y\":[80.13333333333334,80.26666666666667,81.53333333333333,82.13333333333334,83.2,84.66666666666667],\"type\":\"scatter\",\"hoverinfo\":\"text+name\",\"mode\":\"lines+markers\"},{\"line\":{\"shape\":\"linear\"},\"name\":\"Chelsea\",\"x\":[\"14/15\",\"15/16\",\"16/17\",\"17/18\",\"18/19\",\"19/20\"],\"y\":[83.06666666666666,83.8,84.2,84.73333333333333,83.93333333333334,81.93333333333334],\"type\":\"scatter\",\"hoverinfo\":\"text+name\",\"mode\":\"lines+markers\"},{\"line\":{\"shape\":\"linear\"},\"name\":\"Manchester City\",\"x\":[\"14/15\",\"15/16\",\"16/17\",\"17/18\",\"18/19\",\"19/20\"],\"y\":[82.66666666666667,83.2,83.93333333333334,84.0,85.73333333333333,86.33333333333333],\"type\":\"scatter\",\"hoverinfo\":\"text+name\",\"mode\":\"lines+markers\"},{\"line\":{\"shape\":\"linear\"},\"name\":\"Leicester City\",\"x\":[\"14/15\",\"15/16\",\"16/17\",\"17/18\",\"18/19\",\"19/20\"],\"y\":[71.26666666666667,74.86666666666666,79.33333333333333,78.53333333333333,78.46666666666667,78.6],\"type\":\"scatter\",\"hoverinfo\":\"text+name\",\"mode\":\"lines+markers\"},{\"line\":{\"shape\":\"linear\"},\"name\":\"Manchester United\",\"x\":[\"14/15\",\"15/16\",\"16/17\",\"17/18\",\"18/19\",\"19/20\"],\"y\":[81.8,81.93333333333334,83.93333333333334,83.93333333333334,83.8,82.2],\"type\":\"scatter\",\"hoverinfo\":\"text+name\",\"mode\":\"lines+markers\"}],                        {\"template\":{\"data\":{\"histogram2dcontour\":[{\"type\":\"histogram2dcontour\",\"colorbar\":{\"outlinewidth\":0,\"ticks\":\"\"},\"colorscale\":[[0.0,\"#0d0887\"],[0.1111111111111111,\"#46039f\"],[0.2222222222222222,\"#7201a8\"],[0.3333333333333333,\"#9c179e\"],[0.4444444444444444,\"#bd3786\"],[0.5555555555555556,\"#d8576b\"],[0.6666666666666666,\"#ed7953\"],[0.7777777777777778,\"#fb9f3a\"],[0.8888888888888888,\"#fdca26\"],[1.0,\"#f0f921\"]]}],\"choropleth\":[{\"type\":\"choropleth\",\"colorbar\":{\"outlinewidth\":0,\"ticks\":\"\"}}],\"histogram2d\":[{\"type\":\"histogram2d\",\"colorbar\":{\"outlinewidth\":0,\"ticks\":\"\"},\"colorscale\":[[0.0,\"#0d0887\"],[0.1111111111111111,\"#46039f\"],[0.2222222222222222,\"#7201a8\"],[0.3333333333333333,\"#9c179e\"],[0.4444444444444444,\"#bd3786\"],[0.5555555555555556,\"#d8576b\"],[0.6666666666666666,\"#ed7953\"],[0.7777777777777778,\"#fb9f3a\"],[0.8888888888888888,\"#fdca26\"],[1.0,\"#f0f921\"]]}],\"heatmap\":[{\"type\":\"heatmap\",\"colorbar\":{\"outlinewidth\":0,\"ticks\":\"\"},\"colorscale\":[[0.0,\"#0d0887\"],[0.1111111111111111,\"#46039f\"],[0.2222222222222222,\"#7201a8\"],[0.3333333333333333,\"#9c179e\"],[0.4444444444444444,\"#bd3786\"],[0.5555555555555556,\"#d8576b\"],[0.6666666666666666,\"#ed7953\"],[0.7777777777777778,\"#fb9f3a\"],[0.8888888888888888,\"#fdca26\"],[1.0,\"#f0f921\"]]}],\"heatmapgl\":[{\"type\":\"heatmapgl\",\"colorbar\":{\"outlinewidth\":0,\"ticks\":\"\"},\"colorscale\":[[0.0,\"#0d0887\"],[0.1111111111111111,\"#46039f\"],[0.2222222222222222,\"#7201a8\"],[0.3333333333333333,\"#9c179e\"],[0.4444444444444444,\"#bd3786\"],[0.5555555555555556,\"#d8576b\"],[0.6666666666666666,\"#ed7953\"],[0.7777777777777778,\"#fb9f3a\"],[0.8888888888888888,\"#fdca26\"],[1.0,\"#f0f921\"]]}],\"contourcarpet\":[{\"type\":\"contourcarpet\",\"colorbar\":{\"outlinewidth\":0,\"ticks\":\"\"}}],\"contour\":[{\"type\":\"contour\",\"colorbar\":{\"outlinewidth\":0,\"ticks\":\"\"},\"colorscale\":[[0.0,\"#0d0887\"],[0.1111111111111111,\"#46039f\"],[0.2222222222222222,\"#7201a8\"],[0.3333333333333333,\"#9c179e\"],[0.4444444444444444,\"#bd3786\"],[0.5555555555555556,\"#d8576b\"],[0.6666666666666666,\"#ed7953\"],[0.7777777777777778,\"#fb9f3a\"],[0.8888888888888888,\"#fdca26\"],[1.0,\"#f0f921\"]]}],\"surface\":[{\"type\":\"surface\",\"colorbar\":{\"outlinewidth\":0,\"ticks\":\"\"},\"colorscale\":[[0.0,\"#0d0887\"],[0.1111111111111111,\"#46039f\"],[0.2222222222222222,\"#7201a8\"],[0.3333333333333333,\"#9c179e\"],[0.4444444444444444,\"#bd3786\"],[0.5555555555555556,\"#d8576b\"],[0.6666666666666666,\"#ed7953\"],[0.7777777777777778,\"#fb9f3a\"],[0.8888888888888888,\"#fdca26\"],[1.0,\"#f0f921\"]]}],\"mesh3d\":[{\"type\":\"mesh3d\",\"colorbar\":{\"outlinewidth\":0,\"ticks\":\"\"}}],\"scatter\":[{\"fillpattern\":{\"fillmode\":\"overlay\",\"size\":10,\"solidity\":0.2},\"type\":\"scatter\"}],\"parcoords\":[{\"type\":\"parcoords\",\"line\":{\"colorbar\":{\"outlinewidth\":0,\"ticks\":\"\"}}}],\"scatterpolargl\":[{\"type\":\"scatterpolargl\",\"marker\":{\"colorbar\":{\"outlinewidth\":0,\"ticks\":\"\"}}}],\"bar\":[{\"error_x\":{\"color\":\"#2a3f5f\"},\"error_y\":{\"color\":\"#2a3f5f\"},\"marker\":{\"line\":{\"color\":\"#E5ECF6\",\"width\":0.5},\"pattern\":{\"fillmode\":\"overlay\",\"size\":10,\"solidity\":0.2}},\"type\":\"bar\"}],\"scattergeo\":[{\"type\":\"scattergeo\",\"marker\":{\"colorbar\":{\"outlinewidth\":0,\"ticks\":\"\"}}}],\"scatterpolar\":[{\"type\":\"scatterpolar\",\"marker\":{\"colorbar\":{\"outlinewidth\":0,\"ticks\":\"\"}}}],\"histogram\":[{\"marker\":{\"pattern\":{\"fillmode\":\"overlay\",\"size\":10,\"solidity\":0.2}},\"type\":\"histogram\"}],\"scattergl\":[{\"type\":\"scattergl\",\"marker\":{\"colorbar\":{\"outlinewidth\":0,\"ticks\":\"\"}}}],\"scatter3d\":[{\"type\":\"scatter3d\",\"line\":{\"colorbar\":{\"outlinewidth\":0,\"ticks\":\"\"}},\"marker\":{\"colorbar\":{\"outlinewidth\":0,\"ticks\":\"\"}}}],\"scattermapbox\":[{\"type\":\"scattermapbox\",\"marker\":{\"colorbar\":{\"outlinewidth\":0,\"ticks\":\"\"}}}],\"scatterternary\":[{\"type\":\"scatterternary\",\"marker\":{\"colorbar\":{\"outlinewidth\":0,\"ticks\":\"\"}}}],\"scattercarpet\":[{\"type\":\"scattercarpet\",\"marker\":{\"colorbar\":{\"outlinewidth\":0,\"ticks\":\"\"}}}],\"carpet\":[{\"aaxis\":{\"endlinecolor\":\"#2a3f5f\",\"gridcolor\":\"white\",\"linecolor\":\"white\",\"minorgridcolor\":\"white\",\"startlinecolor\":\"#2a3f5f\"},\"baxis\":{\"endlinecolor\":\"#2a3f5f\",\"gridcolor\":\"white\",\"linecolor\":\"white\",\"minorgridcolor\":\"white\",\"startlinecolor\":\"#2a3f5f\"},\"type\":\"carpet\"}],\"table\":[{\"cells\":{\"fill\":{\"color\":\"#EBF0F8\"},\"line\":{\"color\":\"white\"}},\"header\":{\"fill\":{\"color\":\"#C8D4E3\"},\"line\":{\"color\":\"white\"}},\"type\":\"table\"}],\"barpolar\":[{\"marker\":{\"line\":{\"color\":\"#E5ECF6\",\"width\":0.5},\"pattern\":{\"fillmode\":\"overlay\",\"size\":10,\"solidity\":0.2}},\"type\":\"barpolar\"}],\"pie\":[{\"automargin\":true,\"type\":\"pie\"}]},\"layout\":{\"autotypenumbers\":\"strict\",\"colorway\":[\"#636efa\",\"#EF553B\",\"#00cc96\",\"#ab63fa\",\"#FFA15A\",\"#19d3f3\",\"#FF6692\",\"#B6E880\",\"#FF97FF\",\"#FECB52\"],\"font\":{\"color\":\"#2a3f5f\"},\"hovermode\":\"closest\",\"hoverlabel\":{\"align\":\"left\"},\"paper_bgcolor\":\"white\",\"plot_bgcolor\":\"#E5ECF6\",\"polar\":{\"bgcolor\":\"#E5ECF6\",\"angularaxis\":{\"gridcolor\":\"white\",\"linecolor\":\"white\",\"ticks\":\"\"},\"radialaxis\":{\"gridcolor\":\"white\",\"linecolor\":\"white\",\"ticks\":\"\"}},\"ternary\":{\"bgcolor\":\"#E5ECF6\",\"aaxis\":{\"gridcolor\":\"white\",\"linecolor\":\"white\",\"ticks\":\"\"},\"baxis\":{\"gridcolor\":\"white\",\"linecolor\":\"white\",\"ticks\":\"\"},\"caxis\":{\"gridcolor\":\"white\",\"linecolor\":\"white\",\"ticks\":\"\"}},\"coloraxis\":{\"colorbar\":{\"outlinewidth\":0,\"ticks\":\"\"}},\"colorscale\":{\"sequential\":[[0.0,\"#0d0887\"],[0.1111111111111111,\"#46039f\"],[0.2222222222222222,\"#7201a8\"],[0.3333333333333333,\"#9c179e\"],[0.4444444444444444,\"#bd3786\"],[0.5555555555555556,\"#d8576b\"],[0.6666666666666666,\"#ed7953\"],[0.7777777777777778,\"#fb9f3a\"],[0.8888888888888888,\"#fdca26\"],[1.0,\"#f0f921\"]],\"sequentialminus\":[[0.0,\"#0d0887\"],[0.1111111111111111,\"#46039f\"],[0.2222222222222222,\"#7201a8\"],[0.3333333333333333,\"#9c179e\"],[0.4444444444444444,\"#bd3786\"],[0.5555555555555556,\"#d8576b\"],[0.6666666666666666,\"#ed7953\"],[0.7777777777777778,\"#fb9f3a\"],[0.8888888888888888,\"#fdca26\"],[1.0,\"#f0f921\"]],\"diverging\":[[0,\"#8e0152\"],[0.1,\"#c51b7d\"],[0.2,\"#de77ae\"],[0.3,\"#f1b6da\"],[0.4,\"#fde0ef\"],[0.5,\"#f7f7f7\"],[0.6,\"#e6f5d0\"],[0.7,\"#b8e186\"],[0.8,\"#7fbc41\"],[0.9,\"#4d9221\"],[1,\"#276419\"]]},\"xaxis\":{\"gridcolor\":\"white\",\"linecolor\":\"white\",\"ticks\":\"\",\"title\":{\"standoff\":15},\"zerolinecolor\":\"white\",\"automargin\":true,\"zerolinewidth\":2},\"yaxis\":{\"gridcolor\":\"white\",\"linecolor\":\"white\",\"ticks\":\"\",\"title\":{\"standoff\":15},\"zerolinecolor\":\"white\",\"automargin\":true,\"zerolinewidth\":2},\"scene\":{\"xaxis\":{\"backgroundcolor\":\"#E5ECF6\",\"gridcolor\":\"white\",\"linecolor\":\"white\",\"showbackground\":true,\"ticks\":\"\",\"zerolinecolor\":\"white\",\"gridwidth\":2},\"yaxis\":{\"backgroundcolor\":\"#E5ECF6\",\"gridcolor\":\"white\",\"linecolor\":\"white\",\"showbackground\":true,\"ticks\":\"\",\"zerolinecolor\":\"white\",\"gridwidth\":2},\"zaxis\":{\"backgroundcolor\":\"#E5ECF6\",\"gridcolor\":\"white\",\"linecolor\":\"white\",\"showbackground\":true,\"ticks\":\"\",\"zerolinecolor\":\"white\",\"gridwidth\":2}},\"shapedefaults\":{\"line\":{\"color\":\"#2a3f5f\"}},\"annotationdefaults\":{\"arrowcolor\":\"#2a3f5f\",\"arrowhead\":0,\"arrowwidth\":1},\"geo\":{\"bgcolor\":\"white\",\"landcolor\":\"#E5ECF6\",\"subunitcolor\":\"white\",\"showland\":true,\"showlakes\":true,\"lakecolor\":\"white\"},\"title\":{\"x\":0.05},\"mapbox\":{\"style\":\"light\"}}},\"legend\":{\"font\":{\"size\":16},\"y\":0.5,\"traceorder\":\"reversed\"},\"title\":{\"text\":\"Mean FIFA ratings across top PL teams (15 players)\"}},                        {\"responsive\": true}                    ).then(function(){\n",
       "                            \n",
       "var gd = document.getElementById('2bc087ce-8f6b-4c88-8ccc-e8a20cd3af32');\n",
       "var x = new MutationObserver(function (mutations, observer) {{\n",
       "        var display = window.getComputedStyle(gd).display;\n",
       "        if (!display || display === 'none') {{\n",
       "            console.log([gd, 'removed!']);\n",
       "            Plotly.purge(gd);\n",
       "            observer.disconnect();\n",
       "        }}\n",
       "}});\n",
       "\n",
       "// Listen for the removal of the full notebook cells\n",
       "var notebookContainer = gd.closest('#notebook-container');\n",
       "if (notebookContainer) {{\n",
       "    x.observe(notebookContainer, {childList: true});\n",
       "}}\n",
       "\n",
       "// Listen for the clearing of the current output cell\n",
       "var outputEl = gd.closest('.output');\n",
       "if (outputEl) {{\n",
       "    x.observe(outputEl, {childList: true});\n",
       "}}\n",
       "\n",
       "                        })                };                });            </script>        </div>"
      ]
     },
     "metadata": {},
     "output_type": "display_data"
    }
   ],
   "source": [
    "def champ_mean(plchamps,df,lists):\n",
    "    for champ,i in zip(plchamps,range(5)):\n",
    "        lists[i].append(df.loc[df['club'] == champ].sort_values(by = ['overall'],ascending=False).head(15)['overall'].mean())\n",
    "\n",
    "ratings = [[],[],[],[],[]]\n",
    "\n",
    "for df in dfs:\n",
    "    champ_mean(pl_champs,df,ratings)\n",
    "    \n",
    "fig5 = go.Figure()\n",
    "\n",
    "x = years[5:]\n",
    "\n",
    "for i in range(5):\n",
    "    fig5.add_trace(go.Scatter(x=x, y=ratings[i], name=pl_champs[i],\n",
    "                    line_shape='linear'))\n",
    "fig5.update_traces(hoverinfo='text+name', mode='lines+markers')\n",
    "fig5.update_layout(legend=dict(y=0.5, traceorder='reversed', font_size=16))\n",
    "fig5.update_layout(title='Mean FIFA ratings across top PL teams (15 players)')"
   ]
  },
  {
   "cell_type": "markdown",
   "metadata": {},
   "source": [
    "### With 15 players, assuming the best 11 players make the starting 11 alongside about 4 players who would play as subs, we can see a better view of how good the United team has been.\n",
    "\n",
    "### We can also see that United's ratings have been over-bloated by a lot of average yet unremarkable players: deadweight.\n",
    "\n",
    "### We also have to consider injuries and positions; not all of the best-rated players make it to the starting lineup. For example, for more than half of the 19/20 season, United had to play Andreas Pereira and Daniel James, both of whom don't make the Top 15 players at United."
   ]
  }
 ],
 "metadata": {
  "kernelspec": {
   "display_name": "Python 3 (ipykernel)",
   "language": "python",
   "name": "python3"
  },
  "language_info": {
   "codemirror_mode": {
    "name": "ipython",
    "version": 3
   },
   "file_extension": ".py",
   "mimetype": "text/x-python",
   "name": "python",
   "nbconvert_exporter": "python",
   "pygments_lexer": "ipython3",
   "version": "3.10.10"
  },
  "vscode": {
   "interpreter": {
    "hash": "9edf27566bff2a2c85694642e079c0678ff6c0cdd97e0efe7d086989e1fad112"
   }
  }
 },
 "nbformat": 4,
 "nbformat_minor": 4
}
